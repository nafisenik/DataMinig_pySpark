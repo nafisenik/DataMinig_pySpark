{
  "cells": [
    {
      "cell_type": "markdown",
      "metadata": {
        "id": "view-in-github",
        "colab_type": "text"
      },
      "source": [
        "<a href=\"https://colab.research.google.com/github/nafisenik/DataMinig_pySpark/blob/main/pySpark.ipynb\" target=\"_parent\"><img src=\"https://colab.research.google.com/assets/colab-badge.svg\" alt=\"Open In Colab\"/></a>"
      ]
    },
    {
      "cell_type": "markdown",
      "metadata": {
        "id": "OaDuoGaWL5zC"
      },
      "source": [
        "### Q1"
      ]
    },
    {
      "cell_type": "code",
      "execution_count": 1,
      "metadata": {
        "id": "VE-YAJH9L8H6"
      },
      "outputs": [],
      "source": [
        "! pip install -q pyspark"
      ]
    },
    {
      "cell_type": "code",
      "execution_count": 2,
      "metadata": {
        "id": "x24SL7hVcBhW"
      },
      "outputs": [],
      "source": [
        "! apt-get install openjdk-8-jdk-headless -qq > /dev/null\n",
        "! wget -q https://dlcdn.apache.org/spark/spark-3.2.1/spark-3.2.1-bin-hadoop3.2.tgz\n",
        "! tar xf spark-3.2.1-bin-hadoop3.2.tgz"
      ]
    },
    {
      "cell_type": "code",
      "execution_count": 3,
      "metadata": {
        "id": "W3uKfIP3cKRM"
      },
      "outputs": [],
      "source": [
        "import os\n",
        "os.environ[\"JAVA_HOME\"] = \"/usr/lib/jvm/java-8-openjdk-amd64\"\n",
        "os.environ[\"SPARK_HOME\"] = \"/content/spark-3.2.1-bin-hadoop3.2\""
      ]
    },
    {
      "cell_type": "code",
      "execution_count": 4,
      "metadata": {
        "id": "L7QVLJzVcQMT"
      },
      "outputs": [],
      "source": [
        "! pip install -q findspark\n"
      ]
    },
    {
      "cell_type": "code",
      "execution_count": 5,
      "metadata": {
        "colab": {
          "base_uri": "https://localhost:8080/",
          "height": 35
        },
        "id": "-3UTTMIXcTpY",
        "outputId": "e00f446b-b5fc-431b-cff6-074f0d1ee80d"
      },
      "outputs": [
        {
          "output_type": "execute_result",
          "data": {
            "text/plain": [
              "'/content/spark-3.2.1-bin-hadoop3.2'"
            ],
            "application/vnd.google.colaboratory.intrinsic+json": {
              "type": "string"
            }
          },
          "metadata": {},
          "execution_count": 5
        }
      ],
      "source": [
        "import findspark\n",
        "findspark.init()\n",
        "findspark.find()"
      ]
    },
    {
      "cell_type": "code",
      "execution_count": 6,
      "metadata": {
        "colab": {
          "base_uri": "https://localhost:8080/"
        },
        "id": "RC0A3gpjMTHV",
        "outputId": "d329556d-5de4-428b-a9a3-4c7baf2091a9"
      },
      "outputs": [
        {
          "output_type": "stream",
          "name": "stdout",
          "text": [
            "3.2.1\n"
          ]
        }
      ],
      "source": [
        "import pyspark as py\n",
        "print(py.__version__)"
      ]
    },
    {
      "cell_type": "markdown",
      "metadata": {
        "id": "6FdI5Fe93u1T"
      },
      "source": [
        "### Import Libraries"
      ]
    },
    {
      "cell_type": "code",
      "execution_count": 7,
      "metadata": {
        "id": "2Kd1c4oL3rZM"
      },
      "outputs": [],
      "source": [
        "import random\n",
        "import statistics\n",
        "import time\n",
        "import numpy as np\n",
        "from operator import add\n",
        "import matplotlib.pyplot as plt\n",
        "import math\n",
        "from pyspark.sql import SparkSession\n",
        "import pandas as pd\n",
        "import pyspark.sql.functions as F\n",
        "import re\n",
        "from hazm import *\n",
        "from pyspark.sql.types import StringType\n",
        "from pyspark.sql.functions import udf\n",
        "from pyspark.sql.functions import col\n",
        "from hazm import sent_tokenize, word_tokenize\n",
        "from hazm import stopwords_list\n",
        "from hazm import Stemmer, Lemmatizer"
      ]
    },
    {
      "cell_type": "markdown",
      "metadata": {
        "id": "kwFliEBX4CTh"
      },
      "source": [
        "### Q2---> (1)"
      ]
    },
    {
      "cell_type": "code",
      "execution_count": 8,
      "metadata": {
        "id": "LGMNbfDr4BUU"
      },
      "outputs": [],
      "source": [
        "def MC_pi_estimator(iteration):\n",
        "  circle_point = 0\n",
        "  total_point = 0\n",
        "  p_list =[]\n",
        "  hit = 0\n",
        "  start_time = time.time()\n",
        "  for i in range(iteration):\n",
        "    x, y = random.uniform(-1, 1), random.uniform(-1, 1)   \n",
        "    if x**2 + y**2 < 1:\n",
        "      circle_point += 1\n",
        "    total_point += 1\n",
        "    pi_num = 4.0 * circle_point / total_point\n",
        "    p_list.append(pi_num)\n",
        "  end = time.time()\n",
        "  t = end - start_time\n",
        "  return p_list, t, pi_num"
      ]
    },
    {
      "cell_type": "markdown",
      "metadata": {
        "id": "CJLgAFc449lC"
      },
      "source": [
        "### Calculate Mean and Variance"
      ]
    },
    {
      "cell_type": "code",
      "execution_count": 9,
      "metadata": {
        "colab": {
          "base_uri": "https://localhost:8080/"
        },
        "id": "LLoCRLP84N6g",
        "outputId": "97af0c98-3f93-40f3-a6c2-bffaf44d9625"
      },
      "outputs": [
        {
          "output_type": "stream",
          "name": "stdout",
          "text": [
            "Mean of P estimate: 3.143039565556582\n",
            "Variance of P estimate: 1.7472852969222392e-05\n",
            "Time of P estimate: 1.1934309005737305\n"
          ]
        }
      ],
      "source": [
        "ITERATION = 1000000\n",
        "pi_list ,time_ex, pi_est = MC_pi_estimator(ITERATION)\n",
        "pi_mean = statistics.mean(pi_list)\n",
        "pi_variance = statistics.variance(pi_list)\n",
        "print(f'Mean of P estimate: {pi_mean}')\n",
        "print(f'Variance of P estimate: {pi_variance}')\n",
        "print(f'Time of P estimate: {time_ex}')"
      ]
    },
    {
      "cell_type": "markdown",
      "metadata": {
        "id": "N3ct4wX44UFl"
      },
      "source": [
        "### Q2 ----> (3)-(4)-(5)"
      ]
    },
    {
      "cell_type": "code",
      "execution_count": 10,
      "metadata": {
        "id": "g6lRjN_rhnin"
      },
      "outputs": [],
      "source": [
        "def is_inside(p):\n",
        "  x, y = random.uniform(-1, 1), random.uniform(-1, 1)\n",
        "  return x**2 + y**2 < 1 "
      ]
    },
    {
      "cell_type": "markdown",
      "metadata": {
        "id": "bKQoM3gSMkIu"
      },
      "source": [
        "### Compare Time and Pi estimate of 2 methods"
      ]
    },
    {
      "cell_type": "code",
      "execution_count": 11,
      "metadata": {
        "colab": {
          "base_uri": "https://localhost:8080/",
          "height": 1000
        },
        "id": "z0qFAxZKNhAG",
        "outputId": "a235e58d-0e61-4f75-80eb-c21832c77e5d"
      },
      "outputs": [
        {
          "output_type": "stream",
          "name": "stdout",
          "text": [
            "--------Mont Carlo Pi Estimator Without PySparl--------\n",
            "Number of Itration: 100\n",
            "Pi = : 3.16\n",
            "Time of computation: 0.00022149085998535156 seconds\n",
            "--------Mont Carlo Pi Estimator with PySpark--------\n",
            "Number of Itration: 100\n",
            "Pi = : 3.08\n",
            "Time of computation: 4.793111085891724 seconds\n",
            "--------Mont Carlo Pi Estimator Without PySparl--------\n",
            "Number of Itration: 1000\n",
            "Pi = : 3.14\n",
            "Time of computation: 0.002115964889526367 seconds\n",
            "--------Mont Carlo Pi Estimator with PySpark--------\n",
            "Number of Itration: 1000\n",
            "Pi = : 3.132\n",
            "Time of computation: 1.239668846130371 seconds\n",
            "--------Mont Carlo Pi Estimator Without PySparl--------\n",
            "Number of Itration: 10000\n",
            "Pi = : 3.1376\n",
            "Time of computation: 0.026216506958007812 seconds\n",
            "--------Mont Carlo Pi Estimator with PySpark--------\n",
            "Number of Itration: 10000\n",
            "Pi = : 3.168\n",
            "Time of computation: 1.1733219623565674 seconds\n",
            "--------Mont Carlo Pi Estimator Without PySparl--------\n",
            "Number of Itration: 100000\n",
            "Pi = : 3.13624\n",
            "Time of computation: 0.33089685440063477 seconds\n",
            "--------Mont Carlo Pi Estimator with PySpark--------\n",
            "Number of Itration: 100000\n",
            "Pi = : 3.1406\n",
            "Time of computation: 1.5001976490020752 seconds\n",
            "--------Mont Carlo Pi Estimator Without PySparl--------\n",
            "Number of Itration: 1000000\n",
            "Pi = : 3.142916\n",
            "Time of computation: 3.8685550689697266 seconds\n",
            "--------Mont Carlo Pi Estimator with PySpark--------\n",
            "Number of Itration: 1000000\n",
            "Pi = : 3.138508\n",
            "Time of computation: 3.4777820110321045 seconds\n",
            "--------Mont Carlo Pi Estimator Without PySparl--------\n",
            "Number of Itration: 10000000\n",
            "Pi = : 3.1421512\n",
            "Time of computation: 11.61922001838684 seconds\n",
            "--------Mont Carlo Pi Estimator with PySpark--------\n",
            "Number of Itration: 10000000\n",
            "Pi = : 3.1408432\n",
            "Time of computation: 14.061366319656372 seconds\n"
          ]
        },
        {
          "output_type": "display_data",
          "data": {
            "text/plain": [
              "<Figure size 432x288 with 1 Axes>"
            ],
            "image/png": "[encoded data removed]"
          },
          "metadata": {
            "needs_background": "light"
          }
        }
      ],
      "source": [
        "def MC_pi_spark(iteration):\n",
        "  spark = SparkSession.builder.appName('Pi').getOrCreate()\n",
        "  sc = spark.sparkContext\n",
        "  start_time = time.time()\n",
        "  hit = sc.parallelize(range(0, iteration), 2) \\\n",
        "      .map(is_inside).reduce(add)\n",
        "  pi = 4.0 * hit / iteration\n",
        "  t = time.time() - start_time\n",
        "  spark.stop()\n",
        "  return pi, t\n",
        "\n",
        "iteration_num = [100, 1000, 10000, 100000, 1000000, 10000000]\n",
        "\n",
        "time_simple_MC = []\n",
        "time_spark_MC = []\n",
        "\n",
        "for i in iteration_num:\n",
        "    \n",
        "    print('--------Mont Carlo Pi Estimator Without PySparl--------')\n",
        "    pi_l, t, res = MC_pi_estimator(i)\n",
        "    print(f'Number of Itration: {i}')\n",
        "    print(f'Pi = : {res}')\n",
        "    print(f'Time of computation: {t} seconds')\n",
        "    time_simple_MC.append(t)\n",
        "    \n",
        "    print('--------Mont Carlo Pi Estimator with PySpark--------')   \n",
        "    res, t = MC_pi_spark(i)\n",
        "    print(f'Number of Itration: {i}')\n",
        "    print(f'Pi = : {res}')\n",
        "    print(f'Time of computation: {t} seconds')\n",
        "    time_spark_MC.append(t)   \n",
        "plt.figure(1)\n",
        "plt.plot(iteration_num, time_simple_MC, label=\"Simple Mont Carlo\")\n",
        "plt.plot(iteration_num, time_spark_MC, label=\"Spark Mont Carlo\")\n",
        "\n",
        "plt.xscale(\"log\")\n",
        "plt.xlabel(\"Number of points\")\n",
        "plt.ylabel(\"Time\")\n",
        "plt.legend()\n",
        "plt.show()"
      ]
    },
    {
      "cell_type": "code",
      "execution_count": 12,
      "metadata": {
        "id": "KNiXvo81hlST"
      },
      "outputs": [],
      "source": [
        "# First Method\n",
        "from pyspark.sql import SparkSession\n",
        "\n",
        "spark = SparkSession.builder\\\n",
        "        .master(\"local\")\\\n",
        "        .appName(\"Colab\")\\\n",
        "        .getOrCreate()\n",
        "\n",
        "sc = spark.sparkContext"
      ]
    },
    {
      "cell_type": "code",
      "execution_count": 13,
      "metadata": {
        "colab": {
          "base_uri": "https://localhost:8080/",
          "height": 35
        },
        "id": "VSm4hG5MczzN",
        "outputId": "efc2a20b-192b-4957-dfc7-5d765b02f859"
      },
      "outputs": [
        {
          "output_type": "execute_result",
          "data": {
            "text/plain": [
              "'3.2.1'"
            ],
            "application/vnd.google.colaboratory.intrinsic+json": {
              "type": "string"
            }
          },
          "metadata": {},
          "execution_count": 13
        }
      ],
      "source": [
        "spark.version\n"
      ]
    },
    {
      "cell_type": "code",
      "execution_count": 14,
      "metadata": {
        "id": "BfWiEdH1dD9k"
      },
      "outputs": [],
      "source": [
        "! wget -q https://raw.githubusercontent.com/SajjadMb/PySpark-walkthrough/main/data/digikala_comments.csv"
      ]
    },
    {
      "cell_type": "code",
      "execution_count": 15,
      "metadata": {
        "colab": {
          "base_uri": "https://localhost:8080/"
        },
        "id": "w-O0c6hCdHWB",
        "outputId": "fdcd8787-0e6c-42c6-9f0a-a3718d54dd9a"
      },
      "outputs": [
        {
          "output_type": "stream",
          "name": "stdout",
          "text": [
            "+----------+--------------------+--------+-------+-----+--------+-------------------+---------------+--------------------+--------------------+--------------------+--------------------+\n",
            "|product_id|       product_title|title_en|user_id|likes|dislikes|verification_status|      recommend|               title|             comment|          advantages|       disadvantages|\n",
            "+----------+--------------------+--------+-------+-----+--------+-------------------+---------------+--------------------+--------------------+--------------------+--------------------+\n",
            "|      3692|ماوس بی‌سیم لاجیت...|      IT| 989472|    0|       0|           verified|             \\N|                null|واقعا عالیه. من ک...|                null|                null|\n",
            "|     90213|شارژر همراه شیاوم...|      AC|3862150|    4|       1|           verified|    recommended|        واقعاً عالیه|سلام، قبل اینکه ن...|  \"[\"\"عمر طولانی\\r\"\"|\"\"افت بسیار کم می...|\n",
            "|     59473|یدک پولیشر میکروف...|      HW| 626843|    1|       0|           verified|not_recommended|خیلی سخت حوله اش ...|گیره های فلزی خیل...|                null|                null|\n",
            "|    120499|گوشی موبایل هوآوی...|      MO| 786887|    6|      11|           verified|        no_idea|  گوشی مقرون به صرفه|همه چیز در رابطه ...|\"[\"\"صفحه نمایش پر...|\"\"کیفیت بالای ساخ...|\n",
            "|     67200|شارژر همراه شیائو...|      AC| 854531|   19|       4|           verified|        no_idea|ابعاد، استحکام و ...|اگر ظرفیتش براتون...|\"[\"\"ظریف و زیبا و...|\"\"بدنه محکم و با ...|\n",
            "|    133722|لپ تاپ 15 اینچی ا...|      IT| 497032|    6|       1|           verified|    recommended|اقرار بیش از حد د...|سلام دوستان،،_x00...|\"[\"\"همه چیز که تو...|\"[\"\"تاچ پدش میتون...|\n",
            "|    148509|اسپیکر بلوتوثی دی...|      IT| 574130|    3|       0|           verified|    recommended|           بسیار خوب|من چند سالی هست ک...|\"[\"\"کیفیت ساخت بس...|\"\"کیفیت صدا بسیار...|\n",
            "|     56871|ادو پرفیوم زنانه ...|      PC|1139954|    2|       2|           verified|             \\N|              عطر...|بوی تند ولی خوشبو...|                null|                null|\n",
            "|     49738|ماشین اصلاح صورت ...|      PA|2764879|    2|       1|           verified|             \\N|      عمر مفید کوتاه|متاسفانه عمر مفید...|                null|\"[\"\"طراحی ارگونوم...|\n",
            "|    161548|فلاسک هنری مدل Vi...|      HW|3934937|    1|       0|           verified|        no_idea|        خوب بودممنون|        خوب بودممنون|                null|                null|\n",
            "|      5107|هارددیسک اکسترنال...|      IT| 794316|    1|       0|           verified|    recommended|هارد با کیفیت و ظ...|نزدیک به دو ساله ...|\"[\"\"کیفیت ساخت خو...|\"\"ظاهر ساده و زیب...|\n",
            "|    156041|شمع خودرو ان جی ک...|      TC| 653445|   11|       4|           verified|             \\N|کارکرد بعد از ۶۰۰...|بعد از گذشت 3سال ...|                null|                null|\n",
            "|    134367|ماشین بازی بیبی ل...|      TS|3015544|   10|       5|           verified|    recommended|    لطفا موجودش کنید|افا از وقتی من ای...|\"[\"\"بچه ام دیگه ب...|       \"[\"\"نداره\"\"]\"|\n",
            "|    114006|شارژر همراه لنوو ...|      AC|3007704|    4|       2|           verified|    recommended|           پاور بانک|من این پاور بانک ...|        \"[\"\"عالی\"\"]\"|       \"[\"\"ندارد\"\"]\"|\n",
            "|    151402|خودتراش سیلور مدل...|      PC|1223376|    2|       6|           verified|             \\N|محصولی با کیفیت ا...|این تیغ محصول کشو...|\"[\"\"تولید شده در ...|\"[\"\"ضعیف بودن نقا...|\n",
            "|    146879|فلاسک غذا خودرو ب...|      TC|2838703|   15|      12|           verified|    recommended|فقط مناسب سفر طولانی|با توجه به قدرت خ...|                null|                null|\n",
            "|     81254|کرم نرم کننده دست...|      PC|1309402|    4|       1|           verified|             \\N|  مثل همیشه با کیفیت|امیوارم کیفیتش هم...|\"[\"\"جذب سریع ..را...|       \"[\"\"ندارد\"\"]\"|\n",
            "|     26368|  ماساژور بیورر MG80|      PA|1309402|    5|       0|           verified|             \\N|برند آلمانی و با ...|الان حدود یک سالی...|\"[\"\"پر قدرت.. خوش...|       \"[\"\"ندارد\"\"]\"|\n",
            "|     90894|مچ‌ بند هوشمند آی...|      PA|1338306|    2|       1|           verified|        no_idea|          لوازم یدکی|ساعت خوبی بود از ...|      \"[\"\"اندازه\\r\"\"|          \"\"ظاهر\\r\"\"|\n",
            "|     21340|ماشین اصلاح صورت ...|      PA|1309402|    3|       1|           verified|             \\N|قیمت مناسب و با ک...|حدود یک ساله دارم...|\"[\"\"پر قدرت طراحی...|       \"[\"\"ندارد\"\"]\"|\n",
            "+----------+--------------------+--------+-------+-----+--------+-------------------+---------------+--------------------+--------------------+--------------------+--------------------+\n",
            "only showing top 20 rows\n",
            "\n"
          ]
        }
      ],
      "source": [
        "df = spark.read.option(\"header\", True).option(\"multiline\",True).csv(\"digikala_comments.csv\")\n",
        "df.show()\n"
      ]
    },
    {
      "cell_type": "code",
      "execution_count": 16,
      "metadata": {
        "colab": {
          "base_uri": "https://localhost:8080/"
        },
        "id": "SGlRtaEu1OYK",
        "outputId": "e7c0bbd1-912a-4a5a-d341-6b5cf050c2ca"
      },
      "outputs": [
        {
          "output_type": "stream",
          "name": "stdout",
          "text": [
            "Requirement already satisfied: hazm in /usr/local/lib/python3.7/dist-packages (0.7.0)\n",
            "Requirement already satisfied: nltk==3.3 in /usr/local/lib/python3.7/dist-packages (from hazm) (3.3)\n",
            "Requirement already satisfied: libwapiti>=0.2.1 in /usr/local/lib/python3.7/dist-packages (from hazm) (0.2.1)\n",
            "Requirement already satisfied: six in /usr/local/lib/python3.7/dist-packages (from nltk==3.3->hazm) (1.15.0)\n"
          ]
        }
      ],
      "source": [
        "!pip install hazm"
      ]
    },
    {
      "cell_type": "code",
      "execution_count": 17,
      "metadata": {
        "id": "qBB79hY1UASW"
      },
      "outputs": [],
      "source": [
        "def convert_num(text):\n",
        "  persian = ['۰', '۱', '۲', '۳', '۴', '۵', '۶', '۷', '۸', '۹']\n",
        "  convertedPersianNums = text.replace('۰','0').replace('۱','1').replace('۲','2').replace('۳','3').replace('۴','4')\\\n",
        "  .replace('۵','5').replace('۶','6').replace('۷','7').replace('۸','8').replace('۹','9')\n",
        "  return convertedPersianNums\n"
      ]
    },
    {
      "cell_type": "code",
      "execution_count": 18,
      "metadata": {
        "id": "akEfw_Snbytg"
      },
      "outputs": [],
      "source": [
        "stopwords = stopwords_list()+['ها','های','یه','ک','ام','ای','اگه','تر','اس','اینو','ازش','واسه','ی','هاش','برا','تره','اونم','چی','ترین','جی','داره','هست']\n",
        "def remove_stop_words(text):\n",
        "  text = re.sub('[^آ-ی]', ' ', text)\n",
        "  tokenized_text = word_tokenize(text)\n",
        "  #print(tokenized_text)\n",
        "  all_tokens = [t for t in tokenized_text if t not in stopwords]\n",
        "  #print(all_tokens)\n",
        "  text = \" \".join(all_tokens)\n",
        "  return text"
      ]
    },
    {
      "cell_type": "code",
      "execution_count": 19,
      "metadata": {
        "colab": {
          "base_uri": "https://localhost:8080/"
        },
        "id": "RQQ4ChEqUfkl",
        "outputId": "c7bdd358-605f-46d6-899d-2385dfcc733b"
      },
      "outputs": [
        {
          "output_type": "stream",
          "name": "stdout",
          "text": [
            "['و', 'در', 'به', 'از', 'که', 'این', 'را', 'با', 'است', 'برای', 'آن', 'یک', 'خود', 'تا', 'کرد', 'بر', 'هم', 'نیز', 'گفت', 'می\\u200cشود', 'وی', 'شد', 'دارد', 'ما', 'اما', 'یا', 'شده', 'باید', 'هر', 'آنها', 'بود', 'او', 'دیگر', 'دو', 'مورد', 'می\\u200cکند', 'شود', 'کند', 'وجود', 'بین', 'پیش', 'شده_است', 'پس', 'نظر', 'اگر', 'همه', 'یکی', 'حال', 'هستند', 'من', 'کنند', 'نیست', 'باشد', 'چه', 'بی', 'می', 'بخش', 'می\\u200cکنند', 'همین', 'افزود', 'هایی', 'دارند', 'راه', 'همچنین', 'روی', 'داد', 'بیشتر', 'بسیار', 'سه', 'داشت', 'چند', 'سوی', 'تنها', 'هیچ', 'میان', 'اینکه', 'شدن', 'بعد', 'جدید', 'ولی', 'حتی', 'کردن', 'برخی', 'کردند', 'می\\u200cدهد', 'اول', 'نه', 'کرده_است', 'نسبت', 'بیش', 'شما', 'چنین', 'طور', 'افراد', 'تمام', 'درباره', 'بار', 'بسیاری', 'می\\u200cتواند', 'کرده', 'چون', 'ندارد', 'دوم', 'بزرگ', 'طی', 'حدود', 'همان', 'بدون', 'البته', 'آنان', 'می\\u200cگوید', 'دیگری', 'خواهد_شد', 'کنیم', 'قابل', 'یعنی', 'رشد', 'می\\u200cتوان', 'وارد', 'کل', 'ویژه', 'قبل', 'براساس', 'نیاز', 'گذاری', 'هنوز', 'لازم', 'سازی', 'بوده_است', 'چرا', 'می\\u200cشوند', 'وقتی', 'گرفت', 'کم', 'جای', 'حالی', 'تغییر', 'پیدا', 'اکنون', 'تحت', 'باعث', 'مدت', 'فقط', 'زیادی', 'تعداد', 'آیا', 'بیان', 'رو', 'شدند', 'عدم', 'کرده_اند', 'بودن', 'نوع', 'بلکه', 'جاری', 'دهد', 'برابر', 'مهم', 'بوده', 'اخیر', 'مربوط', 'امر', 'زیر', 'گیری', 'شاید', 'خصوص', 'آقای', 'اثر', 'کننده', 'بودند', 'فکر', 'کنار', 'اولین', 'سوم', 'سایر', 'کنید', 'ضمن', 'مانند', 'باز', 'می\\u200cگیرد', 'ممکن', 'حل', 'دارای', 'پی', 'مثل', 'می\\u200cرسد', 'اجرا', 'دور', 'منظور', 'کسی', 'موجب', 'طول', 'امکان', 'آنچه', 'تعیین', 'گفته', 'شوند', 'جمع', 'خیلی', 'علاوه', 'گونه', 'تاکنون', 'رسید', 'ساله', 'گرفته', 'شده_اند', 'علت', 'چهار', 'داشته_باشد', 'خواهد_بود', 'طرف', 'تهیه', 'تبدیل', 'مناسب', 'زیرا', 'مشخص', 'می\\u200cتوانند', 'نزدیک', 'جریان', 'روند', 'بنابراین', 'می\\u200cدهند', 'یافت', 'نخستین', 'بالا', 'پنج', 'ریزی', 'عالی', 'چیزی', 'نخست', 'بیشتری', 'ترتیب', 'شده_بود', 'خاص', 'خوبی', 'خوب', 'شروع', 'فرد', 'کامل', 'غیر', 'می\\u200cرود', 'دهند', 'آخرین', 'دادن', 'جدی', 'بهترین', 'شامل', 'گیرد', 'بخشی', 'باشند', 'تمامی', 'بهتر', 'داده_است', 'حد', 'نبود', 'کسانی', 'می\\u200cکرد', 'داریم', 'علیه', 'می\\u200cباشد', 'دانست', 'ناشی', 'داشتند', 'دهه', 'می\\u200cشد', 'ایشان', 'آنجا', 'گرفته_است', 'دچار', 'می\\u200cآید', 'لحاظ', 'آنکه', 'داده', 'بعضی', 'هستیم', 'اند', 'برداری', 'نباید', 'می\\u200cکنیم', 'نشست', 'سهم', 'همیشه', 'آمد', 'اش', 'وگو', 'می\\u200cکنم', 'حداقل', 'طبق', 'جا', 'خواهد_کرد', 'نوعی', 'چگونه', 'رفت', 'هنگام', 'فوق', 'روش', 'ندارند', 'سعی', 'بندی', 'شمار', 'کلی', 'کافی', 'مواجه', 'همچنان', 'زیاد', 'سمت', 'کوچک', 'داشته_است', 'چیز', 'پشت', 'آورد', 'حالا', 'روبه', 'سال\\u200cهای', 'دادند', 'می\\u200cکردند', 'عهده', 'نیمه', 'جایی', 'دیگران', 'سی', 'بروز', 'یکدیگر', 'آمده_است', 'جز', 'کنم', 'سپس', 'کنندگان', 'خودش', 'همواره', 'یافته', 'شان', 'صرف', 'نمی\\u200cشود', 'رسیدن', 'چهارم', 'یابد', 'متر', 'ساز', 'داشته', 'کرده_بود', 'باره', 'نحوه', 'کردم', 'تو', 'شخصی', 'داشته_باشند', 'محسوب', 'پخش', 'کمی', 'متفاوت', 'سراسر', 'کاملا', 'داشتن', 'نظیر', 'آمده', 'گروهی', 'فردی', 'ع', 'همچون', 'خطر', 'خویش', 'کدام', 'دسته', 'سبب', 'عین', 'آوری', 'متاسفانه', 'بیرون', 'دار', 'ابتدا', 'شش', 'افرادی', 'می\\u200cگویند', 'سالهای', 'درون', 'نیستند', 'یافته_است', 'پر', 'خاطرنشان', 'گاه', 'جمعی', 'اغلب', 'دوباره', 'می\\u200cیابد', 'لذا', 'زاده', 'گردد', 'اینجا', 'ها', 'های', 'یه', 'ک', 'ام', 'ای', 'اگه', 'تر', 'اس', 'اینو', 'ازش', 'واسه', 'ی', 'هاش', 'برا', 'تره', 'اونم', 'چی', 'ترین', 'جی', 'داره', 'هست']\n"
          ]
        }
      ],
      "source": [
        "x = remove_stop_words('من از شهر به روستا رفتم و در راه علی را دیدم')\n",
        "print(stopwords)"
      ]
    },
    {
      "cell_type": "code",
      "execution_count": 20,
      "metadata": {
        "id": "3BI16oUf04Nx"
      },
      "outputs": [],
      "source": [
        "#https://github.com/optimopium/PySpark-walkthrough/blob/main/Spark_Tutorial.ipynb\n",
        "def clean_normalized(text):\n",
        "  normalizer = Normalizer()\n",
        "  try:\n",
        "    #normalize\n",
        "    cleaned_text = text.replace('_x000D_\\n',' ').splitlines() \n",
        "    cleaned_text = ' '.join(cleaned_text)\n",
        "    cleaned_text = normalizer.normalize(cleaned_text)\n",
        "    cleaned_text = cleaned_text.replace(\"،\",\" \").replace(\"\\u200c\",\" \").replace(r\"\\u200\",\" \").replace(r\"\\u200b\",\" \")\\\n",
        "            .replace(\".\",\" \").replace(\"-\",\" \").replace(\"_\",\" \").replace(\"\\n\",\" \").replace(\"\\r\",\" \").replace(\"\\\\\",\" \")\\\n",
        "            .replace(\"(\",\" \").replace(\")\",\" \").replace(\"[\",\" \").replace(\"!\",\" \").replace(\"]\",\" \")\\\n",
        "            .replace(\"r\",\" \").replace(\"\\\"\",\" \")\n",
        "    cleaned_text = re.sub(r\"\\s+.\\u0648.\\s+\", ' ', cleaned_text)\n",
        "    cleaned_text = re.sub(r'[^\\w\\s]', ' ', cleaned_text)\n",
        "\n",
        "    #Remove numbers\n",
        "    #cleaned_text = cleaned_text.replace('x000D',' ').splitlines() \n",
        "    #cleaned_text = ' '.join(cleaned_text)\n",
        "    cleaned_text = convert_num(cleaned_text)\n",
        "    cleaned_text = re.sub(r'[0-9]', ' ', cleaned_text)\n",
        "    cleaned_text = re.sub(' +', ' ',cleaned_text)\n",
        "    cleaned_text = remove_stop_words(cleaned_text)\n",
        "    return cleaned_text\n",
        "  except:\n",
        "    return None"
      ]
    },
    {
      "cell_type": "code",
      "execution_count": 20,
      "metadata": {
        "id": "iJot4mAsT-vw"
      },
      "outputs": [],
      "source": [
        ""
      ]
    },
    {
      "cell_type": "code",
      "execution_count": 21,
      "metadata": {
        "id": "2Jop49bi8Li-"
      },
      "outputs": [],
      "source": [
        "clean_comment = udf(lambda z: clean_normalized(z))\n",
        "stop_words_deletion = udf(lambda z: remove_stop_words(z))"
      ]
    },
    {
      "cell_type": "code",
      "execution_count": 22,
      "metadata": {
        "colab": {
          "base_uri": "https://localhost:8080/"
        },
        "id": "D4IepNcL8amh",
        "outputId": "59f78c3b-0491-4a62-a2f7-920e0a6df761"
      },
      "outputs": [
        {
          "output_type": "stream",
          "name": "stdout",
          "text": [
            "+----------+-------------------------------------------------------------------------------------------------------------------------------------------------------------------------------------------------------------------------------------------------------------------------------------------------------------------------------------------------------------------------------------------------------------------------------------------------------------------------------------------------------------------------------------------------------------------------------------------------------------------------------------------------------------------------------------------------------------------------------------------------------------------------------------------------------------------------------------------------------------------------------------------------------------------------------------------------------------------------------------------------------------------------------------------------------------------------------------------------------------------------------------------------------------------------------------------------------------------------------------------------------------------------------------------------------------------------------+\n",
            "|product_id|comment                                                                                                                                                                                                                                                                                                                                                                                                                                                                                                                                                                                                                                                                                                                                                                                                                                                                                                                                                                                                                                                                                                                                                                                                                                                                                                                        |\n",
            "+----------+-------------------------------------------------------------------------------------------------------------------------------------------------------------------------------------------------------------------------------------------------------------------------------------------------------------------------------------------------------------------------------------------------------------------------------------------------------------------------------------------------------------------------------------------------------------------------------------------------------------------------------------------------------------------------------------------------------------------------------------------------------------------------------------------------------------------------------------------------------------------------------------------------------------------------------------------------------------------------------------------------------------------------------------------------------------------------------------------------------------------------------------------------------------------------------------------------------------------------------------------------------------------------------------------------------------------------------+\n",
            "|3692      |واقعا عالیه. من که ازش خیلی راضیم                                                                                                                                                                                                                                                                                                                                                                                                                                                                                                                                                                                                                                                                                                                                                                                                                                                                                                                                                                                                                                                                                                                                                                                                                                                                                              |\n",
            "|90213     |سلام، قبل اینکه نظرم رو بگم میخواستم به یک موضوع مهم اشاره کنم که نظراتی که ما برای کالاها ثبت میکنیم خیلی مهم هستن، چون بسیاری از مردم عزیز با استناد به این نظرات یک کالا رو خریداری میکنن. پس بهتره ک نظر غیر کارشناسی و الکی ندیم._x000D_\\n_x000D_\\nمن ۲سال این پاور بانک رو دارم، برای ۲نفر اشنا هم خریدم، پیشنهاد ویژه بود خریدم، واقعا از هر نظر عالیه، بعد گذشت ۲سال هنوزم ۵بار ایفون se رو شارژ میکنه، در خصوص زمان شارژ گفته بودن دوستان، اگر با کابل خود پاور شارژ کنید حدود ۶ساعت فول میشه، اما اگر هر کابل دیگه ای وصل کنید ۱۲تا۱۸ ساعت طول میکشه._x000D_\\nهمزمان با این پاور یک adata 10000 هم برای همسرم خریدم ، اونم خوب درومد ولی حدود ۳۰‎٪ افت داشته و کمتر بازدهی شارژ داره._x000D_\\n_x000D_\\nطبق تجربه من و اطرافیانم ک شیائومی داشتن، اگر کالایی ک میخرید اصل باشه(فیک زیاد داره) واقعا شیائومی حرف اول و میزنه، _x000D_\\nanker هم برند خیلی خوب ولی گرونه، هفته پیش از دیجی خریدم a1214 اونم واقعا سبک و عالیه و بازدهی بالایی داره.(۲خروجی هوشمند داره،مجموع ۳امپر میده،حداکثر یک خروجی ۲.۴ میده)_x000D_\\n_x000D_\\nببخشید طولانی شد.                                                                                                                                                                                                                                                                    |\n",
            "|59473     |گیره های فلزی خیلی سخت تا میشوند و لذا حوله را خیلی سخت می توان در آورد _x000D_\\n_x000D_\\nمهسان یه مدل دیگه داره که پلاستیکی هست و خیلی ساده و راحت خم می شود_x000D_\\n_x000D_\\nبه نظرم تولید این طرح را باید متوقف کنن چون گیره های آهنی خیلی سفت هستن و وقتی می خواستم خمشون کنم پایه پلاستیکیش شکست و بلا استفاده شد                                                                                                                                                                                                                                                                                                                                                                                                                                                                                                                                                                                                                                                                                                                                                                                                                                                                                                                                                                                                         |\n",
            "|120499    |همه چیز در رابطه با ظاهر این گوشی بسیار خوب است. بدنه یکپارچه فلزی-پلاستیکی و صفحه نمایش با کیفیت حسی ارزنده را منتقل میکند. در مقایسه با قیمت از بسیاری از گوشی های همرده پرتوان تر است و امکانات زیادی را در اختیار کاربر میگذارد. تنها مورد قدرت پردازنده گرافیکی و CPU گوشی است که با توجه به رزولوشن بالای صفحه نمایش مقداری در اجرای بازی های سنگین کم می آورد. همچنین حجم زیادی از رم محدود 2 گیگی این گوشی توسط سیستم اشغال میشود و در بهترین مواقع تنها نیمی از آن قابل اسفاده برنامه های دیگر است. _x000D_\\nمورد دیگر کیفیت پایین دوربین و کیفیت پایینتر اسپیکر است. تصاویر هر دو دوربین بسیار پر نویز  و تار هستند. تنها با استفاده از فلش و یا در نور روز تصاویر بهتری میتوان ثبت کرد. صدایی که از اسپیکر خارج میشود خیلی بیکیفیت و دارای اکو و نویز بالاست. اما کیفیت صدای خروجی هدفون بسیار خوب است._x000D_\\nباتری در کارهای متداول سبک تا معمولی کارایی خوبی دارد، اما هنگام اجرای برنامه های سنگین خیلی زود خالی میشود. زمان شارژ شدن باتری نیز نسبتا طولانی است. (حدود 3 ساعت)_x000D_\\nدر کل این گوشی را به کسانی که استفاده سنگین مولتی تسکینگ و گیم دارند پیشنهاد نمیکنم. اما اگر کسی هستید که وبگردی، تماشای ویدئو و استفاده از برنامه های  سبک بخش اعظم استفاده شما از گوشی موبایل هستند، دوربین و اسپیکر برایتان از نان شب واجب تر نیست و به ظاهری زیبا و بدنه با کیفیت اهمیت میدهید در خرید آن شک نکنید.|\n",
            "|67200     |اگر ظرفیتش براتون کافیه حتما بخرید._x000D_\\nیه شارژر 5 ولت 2 آمپر براش تهیه کنید تا سریعتر شارژ شه. خود برند شیائومی شارژر های خوبی داره._x000D_\\nظرافتش خوبه و وزن و ضخامت کمی داره و مثل یه موبایل راحت حمل میشه. البته پیشنهاد من ظرفیت های بالاتر هست. چون این مدل بسته به ظرفیت باتری گوشیتون صرفا به اندازه یک الی 2 بار شارژ کردن، انرژی ذخیره میکنه.                                                                                                                                                                                                                                                                                                                                                                                                                                                                                                                                                                                                                                                                                                                                                                                                                                                                                                                                                                   |\n",
            "|133722    |سلام دوستان،،_x000D_\\nمنم مثه بعضی از دوستان قبل از خرید کلی تحقیق در مورد این لپ تاپ عالی انجام دادم و به این نتیجه رسیدم که از مدل های مشابه همین شرکت و شرکت های دیگه واقعا بهتره،، در طول تحقیق هم به اون ویدیو هایی که بعضی دوستامون اشاره کردن هم برخوردم که از براق بودن صفحه نمایش و لق بودن لولاهای لپ تاپ موقع استفاده از تاچ اسکرین ایراد گرفته بودن، منم خیلی ترسیدم از این بابت ولی وقتی که تصمیم گرفتم که انتخابم رو نهایی کنم و بدستم رسید لپ تاپ دیدم واقعا تمام اون گفته ها اقراری بیش نبوده و اصلا خبری از لق زدن صفحه نیست موقع تاچ مگر اینکه بخوای محکم بکوبی انگشتتو که اونوقت تو هر لپ تاپی مسئله لق زدن هست، ولی از این بابت هیچ مشکلی نیست و کاملا محکمه._x000D_\\nدر مورد بازتاب بیش از حد صفحه نمایش هم همینطور فقط اقرار شده، اگر بخوای تو محیط بسته قرار داشته باشی با یه پروژکتور  رو بروی صفحه بازهم این مسئله واسه همه لپ تاپ ها هست، و اینکه اگه حتی با یه لپ تاپی که صفحه مات داشته باشه بخوای تو فضای آزاد زیر نور شدید خورشید کار کنی محتوای صفحه ی اون رو هم نمیبینی (گفتم اینارو چون لپ تاپ قبلیم صفحش مات بوده و تجربه کردم)  ولی تو شرایط عادی و استفاده روزمره به مشکلی باهاش برنمیخوری._x000D_\\nامیدوارم تونسته باشم تو رفع بعضی شبهه ها واسه بعضی از دوستامون کمک کرده باشم.                                                                                                          |\n",
            "|148509    |من چند سالی هست که این اسپیکرو خریدم و واقعا حرف نداره _x000D_\\nبا برندای دیگه مثل شیائومی و جی بی ال و مارکای دیگه مقایسه کردم یه سرو گردن از همه لحاظ بالاتره اصلا تو خریدش شک نکنید                                                                                                                                                                                                                                                                                                                                                                                                                                                                                                                                                                                                                                                                                                                                                                                                                                                                                                                                                                                                                                                                                                                                         |\n",
            "|56871     |بوی تند ولی خوشبو داره.ماندگاریش خوبه و هر چقدر میگذره خوشبوتر میشه..                                                                                                                                                                                                                                                                                                                                                                                                                                                                                                                                                                                                                                                                                                                                                                                                                                                                                                                                                                                                                                                                                                                                                                                                                                                          |\n",
            "|49738     |متاسفانه عمر مفید این ماشین کم هست و بعد از دو سال دیگه با باطری کار نمیکنه و گیر میکنه به نحوی که هیچیک از دکمه ها کار نمیکنه تا چند ساعت در این حالت میمونه دوباره با اتصال به برق کار میکنه                                                                                                                                                                                                                                                                                                                                                                                                                                                                                                                                                                                                                                                                                                                                                                                                                                                                                                                                                                                                                                                                                                                                 |\n",
            "|161548    |خوب بودممنون                                                                                                                                                                                                                                                                                                                                                                                                                                                                                                                                                                                                                                                                                                                                                                                                                                                                                                                                                                                                                                                                                                                                                                                                                                                                                                                   |\n",
            "|5107      |نزدیک به دو ساله که این هارد رو خریدم. استفاده سنگینی ازش نداشتم فقط به عنوان یه بک آپ از تمام اطلاعات و عکس ها و فیلم ها ازش استفاده میکنم._x000D_\\nسرعت انتقال اطلاعاتش مناسبه. کیفیت ساخت خوبی داره، تو این دو سال هیچ مشکل و ایرادی نداشته._x000D_\\nیه مقدار وجود آداپتور اذیت میکنه که جا به جایی هارد رو سخت کرده که اونم با توجه به اینکه هارد دسکتاپ هست چیز عجییبی نیست._x000D_\\nوزن هارد هم یه مقدار زیاده که نسبت به نمونه های دسکتاپ دیگه خوبه.                                                                                                                                                                                                                                                                                                                                                                                                                                                                                                                                                                                                                                                                                                                                                                                                                                                                    |\n",
            "|156041    |بعد از گذشت 3سال و 60000کیلومتر کارکرد روی ماشینم که سمند موتور معمولی است دقیقا مثل روز اول کارایی دارد..                                                                                                                                                                                                                                                                                                                                                                                                                                                                                                                                                                                                                                                                                                                                                                                                                                                                                                                                                                                                                                                                                                                                                                                                                     |\n",
            "|134367    |افا از وقتی من اینو واسه پسرم خریدم همه بچه های فامیل عاشقش شدن واسه سوار شدنش یک دعوایی میکنن که واویلا جالب اینجاست همشونم دوچرخه وسه چرخه دارن اما نمیدونم این چی ئاره که دخترو پسر سر این باهم دعوا میکنن .شاید باورتون نشه بچه باجناقم به خاطر این تب کرده میگه من فقط اینو میخوام .....پرسنل زحمتکش دیجی کالا لطفا اینو موجود کنید بچه داره ازدست میره  ... خیلی ممنون.                                                                                                                                                                                                                                                                                                                                                                                                                                                                                                                                                                                                                                                                                                                                                                                                                                                                                                                                                  |\n",
            "|114006    |من این پاور بانک رو حدود یک سال پیش از دیجی کالا گرفتم و واقعا ازش راضی هستم و عالیه . در خریدش شک نکنید . شارژدهیش عالیه                                                                                                                                                                                                                                                                                                                                                                                                                                                                                                                                                                                                                                                                                                                                                                                                                                                                                                                                                                                                                                                                                                                                                                                                      |\n",
            "|151402    |این تیغ محصول کشور آمریکا هست ( در عکس محصول مشخص هست ) و توسط شرکت پلیکان در ایران توزیع میشه (در سایت شرکت پلیکان ایران ذکر شده). کیفیت کلی اصلاح مناسب هست و انتظارات شما از محصولی از کشور سازنده را برآورده میکنه. ایرادی که من باهاش برخوردم نقطه اتصال خیلی ضعیف تیغ به دسته هست که با کمترین فشاری ممکنه بشکنه و غیرقابل استفاده باشه، البته نقطه اتصال ضعیف مربوط به قسمت تعویض شونده هست و دسته مشکلی ندارد.                                                                                                                                                                                                                                                                                                                                                                                                                                                                                                                                                                                                                                                                                                                                                                                                                                                                                                         |\n",
            "|146879    |با توجه به قدرت خنک کنندگی حداقل ۲ ساعت زمان لازم داره تا یکم خنک کنه. گرم کن حدود ۱ ساعت                                                                                                                                                                                                                                                                                                                                                                                                                                                                                                                                                                                                                                                                                                                                                                                                                                                                                                                                                                                                                                                                                                                                                                                                                                      |\n",
            "|81254     |امیوارم کیفیتش همینطور بمونه_x000D_\\nمن مدت هاس ازین برند استفاده میکنم و راضی ام                                                                                                                                                                                                                                                                                                                                                                                                                                                                                                                                                                                                                                                                                                                                                                                                                                                                                                                                                                                                                                                                                                                                                                                                                                              |\n",
            "|26368     |الان حدود یک سالی هست که دارمش و خیلی راضی ام ازش                                                                                                                                                                                                                                                                                                                                                                                                                                                                                                                                                                                                                                                                                                                                                                                                                                                                                                                                                                                                                                                                                                                                                                                                                                                                              |\n",
            "|90894     |ساعت خوبی بود از نظر ظاهر و سنسوراش خوب بود_x000D_\\nولی یه بدی بزرگی که داره بعد 3 ماه بندش خشک گرفت و پاره شد بندشم هیچ جا حتی دیجی نداشت_x000D_\\nعملا دیگه قابل استفاده نبود_x000D_\\nبه نظرم با توجه به نظرات بقیه هم که گفتن پاره میشه تا وقتی که بند یدکی نداره نخرید پولتون میریزید دور                                                                                                                                                                                                                                                                                                                                                                                                                                                                                                                                                                                                                                                                                                                                                                                                                                                                                                                                                                                                                                   |\n",
            "|21340     |حدود یک ساله دارمش راضی ام ازش نسبت به قیمتش مناسبه                                                                                                                                                                                                                                                                                                                                                                                                                                                                                                                                                                                                                                                                                                                                                                                                                                                                                                                                                                                                                                                                                                                                                                                                                                                                            |\n",
            "+----------+-------------------------------------------------------------------------------------------------------------------------------------------------------------------------------------------------------------------------------------------------------------------------------------------------------------------------------------------------------------------------------------------------------------------------------------------------------------------------------------------------------------------------------------------------------------------------------------------------------------------------------------------------------------------------------------------------------------------------------------------------------------------------------------------------------------------------------------------------------------------------------------------------------------------------------------------------------------------------------------------------------------------------------------------------------------------------------------------------------------------------------------------------------------------------------------------------------------------------------------------------------------------------------------------------------------------------------+\n",
            "only showing top 20 rows\n",
            "\n"
          ]
        }
      ],
      "source": [
        "df.select('product_id', 'comment').show(truncate=False)\n",
        "df_res = df.select(col(\"product_id\"),clean_comment(col(\"comment\")).alias(\"comment\") ) \n"
      ]
    },
    {
      "cell_type": "code",
      "execution_count": 23,
      "metadata": {
        "colab": {
          "base_uri": "https://localhost:8080/"
        },
        "id": "CT5qjOrnRylE",
        "outputId": "a45cbd67-6bbc-4840-b4de-3d2558109626"
      },
      "outputs": [
        {
          "output_type": "stream",
          "name": "stdout",
          "text": [
            "+----------+-----------------------------------------------------------------------------------------------------------------------------------------------------------------------------------------------------------------------------------------------------------------------------------------------------------------------------------------------------------------------------------------------------------------------------------------------------------------------------------------------------------------------------------------------------------------------------------------------------------------------------------------------------------------------------------------------------------------------------------------------------------------------------------------------------+\n",
            "|product_id|comment                                                                                                                                                                                                                                                                                                                                                                                                                                                                                                                                                                                                                                                                                                                                                                                              |\n",
            "+----------+-----------------------------------------------------------------------------------------------------------------------------------------------------------------------------------------------------------------------------------------------------------------------------------------------------------------------------------------------------------------------------------------------------------------------------------------------------------------------------------------------------------------------------------------------------------------------------------------------------------------------------------------------------------------------------------------------------------------------------------------------------------------------------------------------------+\n",
            "|3692      |واقعا عالیه راضیم                                                                                                                                                                                                                                                                                                                                                                                                                                                                                                                                                                                                                                                                                                                                                                                    |\n",
            "|90213     |سلام نظرم بگم میخواستم موضوع اشاره نظراتی کالاها ثبت میکنیم هستن مردم عزیز استناد نظرات کالا خریداری میکنن بهتره کارشناسی الکی ندیم سال پاور بانک دارم نفر اشنا خریدم پیشنهاد خریدم واقعا عالیه گذشت سال هنوزم ایفون شارژ میکنه زمان شارژ دوستان کابل پاور شارژ ساعت میشه کابل دیگه وصل ساعت میکشه همزمان پاور همسرم خریدم درومد افت کمتر بازدهی شارژ تجربه اطرافیانم شیائومی کالایی میخرید اصل باشه فیک واقعا شیائومی حرف میزنه برند گرونه هفته دیجی خریدم واقعا سبک عالیه بازدهی بالایی خروجی هوشمند مجموع امپر میده حداکثر خروجی میده ببخشید طولانی                                                                                                                                                                                                                                               |\n",
            "|59473     |گیره فلزی سخت میشوند حوله سخت توان مهسان مدل دیگه پلاستیکی ساده راحت خم نظرم تولید طرح متوقف کنن گیره آهنی سفت هستن خواستم خمشون پایه پلاستیکیش شکست بلا استفاده                                                                                                                                                                                                                                                                                                                                                                                                                                                                                                                                                                                                                                     |\n",
            "|120499    |رابطه ظاهر گوشی بدنه یکپارچه فلزی پلاستیکی صفحه نمایش کیفیت حسی ارزنده منتقل میکند مقایسه قیمت گوشی همرده پرتوان امکانات اختیار کاربر میگذارد قدرت پردازنده گرافیکی گوشی توجه رزولوشن بالای صفحه نمایش مقداری اجرای بازی سنگین حجم رم محدود گیگی گوشی توسط سیستم اشغال میشود مواقع نیمی اسفاده برنامه کیفیت پایین دوربین کیفیت پایینتر اسپیکر تصاویر دوربین نویز تار استفاده فلش روز تصاویر بهتری میتوان ثبت صدایی اسپیکر خارج میشود بیکیفیت اکو نویز بالاست کیفیت صدای خروجی هدفون باتری کارهای متداول سبک معمولی کارایی اجرای برنامه سنگین خالی میشود زمان شارژ باتری نسبتا طولانی ساعت گوشی استفاده سنگین مولتی تسکینگ گیم پیشنهاد نمیکنم هستید وبگردی تماشای ویدئو استفاده برنامه سبک اعظم استفاده گوشی موبایل دوربین اسپیکر برایتان نان شب واجب ظاهری زیبا بدنه کیفیت اهمیت میدهید خرید شک نکنید|\n",
            "|67200     |ظرفیتش براتون کافیه حتما بخرید شارژر ولت آمپر براش سریعتر شارژ شه برند شیائومی شارژر ظرافتش خوبه وزن ضخامت موبایل راحت حمل میشه پیشنهاد ظرفیت بالاتر مدل بسته ظرفیت باتری گوشیتون صرفا اندازه الی شارژ انرژی ذخیره میکنه                                                                                                                                                                                                                                                                                                                                                                                                                                                                                                                                                                             |\n",
            "|133722    |سلام دوستان منم مثه دوستان خرید تحقیق لپ تاپ انجام دادم نتیجه رسیدم مدل مشابه شرکت شرکت دیگه واقعا بهتره تحقیق ویدیو دوستامون اشاره برخوردم براق صفحه نمایش لق لولاهای لپ تاپ موقع استفاده تاچ اسکرین ایراد منم ترسیدم بابت تصمیم گرفتم انتخابم نهایی بدستم لپ تاپ دیدم واقعا اقراری نبوده اصلا خبری لق زدن صفحه موقع تاچ مگر بخوای محکم بکوبی انگشتتو اونوقت لپ تاپی مسئله لق زدن بابت مشکلی محکمه بازتاب صفحه نمایش همینطور اقرار بخوای محیط بسته قرار داشته_باشی پروژکتور بروی صفحه بازهم مسئله لپ تاپ لپ تاپی صفحه مات باشه بخوای فضای آزاد شدید خورشید کار کنی محتوای صفحه نمیبینی گفتم اینارو لپ تاپ قبلیم صفحش مات تجربه شرایط عادی استفاده روزمره مشکلی باهاش برنمیخوری امیدوارم تونسته باشم رفع شبهه دوستامون کمک کرده_باشم                                                                 |\n",
            "|148509    |سالی اسپیکرو خریدم واقعا حرف نداره برندای دیگه شیائومی ال مارکای دیگه مقایسه سرو گردن بالاتره اصلا خریدش شک نکنید                                                                                                                                                                                                                                                                                                                                                                                                                                                                                                                                                                                                                                                                                    |\n",
            "|56871     |بوی تند خوشبو ماندگاریش خوبه چقدر میگذره خوشبوتر میشه                                                                                                                                                                                                                                                                                                                                                                                                                                                                                                                                                                                                                                                                                                                                                |\n",
            "|49738     |عمر مفید ماشین سال دیگه باطری کار نمیکنه گیر میکنه نحوی هیچیک دکمه کار نمیکنه ساعت حالت میمونه اتصال برق کار میکنه                                                                                                                                                                                                                                                                                                                                                                                                                                                                                                                                                                                                                                                                                   |\n",
            "|161548    |بودممنون                                                                                                                                                                                                                                                                                                                                                                                                                                                                                                                                                                                                                                                                                                                                                                                             |\n",
            "|5107      |هارد خریدم استفاده سنگینی نداشتم عنوان بک آپ اطلاعات عکس فیلم استفاده میکنم سرعت انتقال اطلاعاتش مناسبه کیفیت ساخت سال مشکل ایرادی نداشته مقدار آداپتور اذیت میکنه هارد سخت توجه هارد دسکتاپ عجییبی وزن هارد مقدار زیاده نمونه دسکتاپ دیگه خوبه                                                                                                                                                                                                                                                                                                                                                                                                                                                                                                                                                      |\n",
            "|156041    |گذشت سال کیلومتر کارکرد ماشینم سمند موتور معمولی دقیقا کارایی                                                                                                                                                                                                                                                                                                                                                                                                                                                                                                                                                                                                                                                                                                                                        |\n",
            "|134367    |افا پسرم خریدم بچه فامیل عاشقش سوار شدنش دعوایی میکنن واویلا جالب اینجاست همشونم دوچرخه وسه چرخه دارن نمیدونم ئاره دخترو پسر سر باهم دعوا میکنن باورتون نشه بچه باجناقم خاطر تب میگه میخوام پرسنل زحمتکش دیجی کالا لطفا موجود بچه ازدست میره ممنون                                                                                                                                                                                                                                                                                                                                                                                                                                                                                                                                                   |\n",
            "|114006    |پاور بانک سال دیجی کالا گرفتم واقعا راضی هستم عالیه خریدش شک نکنید شارژدهیش عالیه                                                                                                                                                                                                                                                                                                                                                                                                                                                                                                                                                                                                                                                                                                                    |\n",
            "|151402    |تیغ محصول کشور آمریکا عکس محصول توسط شرکت پلیکان ایران توزیع میشه سایت شرکت پلیکان ایران ذکر کیفیت اصلاح انتظارات محصولی کشور سازنده برآورده میکنه ایرادی باهاش برخوردم نقطه اتصال ضعیف تیغ کمترین فشاری ممکنه بشکنه غیرقابل استفاده باشه نقطه اتصال ضعیف قسمت تعویض شونده مشکلی                                                                                                                                                                                                                                                                                                                                                                                                                                                                                                                     |\n",
            "|146879    |توجه قدرت خنک کنندگی ساعت زمان یکم خنک کنه گرم کن ساعت                                                                                                                                                                                                                                                                                                                                                                                                                                                                                                                                                                                                                                                                                                                                               |\n",
            "|81254     |امیوارم کیفیتش همینطور بمونه هاس ازین برند استفاده میکنم راضی                                                                                                                                                                                                                                                                                                                                                                                                                                                                                                                                                                                                                                                                                                                                        |\n",
            "|26368     |الان سالی دارمش راضی                                                                                                                                                                                                                                                                                                                                                                                                                                                                                                                                                                                                                                                                                                                                                                                 |\n",
            "|90894     |ساعت ظاهر سنسوراش بدی بزرگی ماه بندش خشک پاره بندشم دیجی نداشت عملا دیگه استفاده نظرم توجه نظرات بقیه گفتن پاره میشه بند یدکی نداره نخرید پولتون میریزید                                                                                                                                                                                                                                                                                                                                                                                                                                                                                                                                                                                                                                             |\n",
            "|21340     |دارمش راضی قیمتش مناسبه                                                                                                                                                                                                                                                                                                                                                                                                                                                                                                                                                                                                                                                                                                                                                                              |\n",
            "+----------+-----------------------------------------------------------------------------------------------------------------------------------------------------------------------------------------------------------------------------------------------------------------------------------------------------------------------------------------------------------------------------------------------------------------------------------------------------------------------------------------------------------------------------------------------------------------------------------------------------------------------------------------------------------------------------------------------------------------------------------------------------------------------------------------------------+\n",
            "only showing top 20 rows\n",
            "\n"
          ]
        }
      ],
      "source": [
        "df_res.show(truncate=False)"
      ]
    },
    {
      "cell_type": "code",
      "execution_count": 24,
      "metadata": {
        "colab": {
          "base_uri": "https://localhost:8080/"
        },
        "id": "FOLs5bzrhvcY",
        "outputId": "d0d10cf3-17a6-4249-abe5-438baa7473a2"
      },
      "outputs": [
        {
          "output_type": "stream",
          "name": "stdout",
          "text": [
            "+----------+----------+\n",
            "|product_id|popularity|\n",
            "+----------+----------+\n",
            "|    517207|     184.0|\n",
            "|    597475|     124.0|\n",
            "|    503608|     115.0|\n",
            "|    701679|     114.0|\n",
            "|    133901|     113.0|\n",
            "|    517207|     109.0|\n",
            "|    443966|     108.0|\n",
            "|    226249|     102.0|\n",
            "|    341816|      91.0|\n",
            "|    313420|      80.0|\n",
            "+----------+----------+\n",
            "only showing top 10 rows\n",
            "\n"
          ]
        }
      ],
      "source": [
        "selected_df = df.select(\"product_id\", \"likes\", \"dislikes\", \"comment\")\n",
        "popularity = selected_df.dropna().withColumn(\"popularity\",selected_df[\"likes\"] - selected_df[\"dislikes\"])\n",
        "popularity.orderBy(\"popularity\", ascending=False).select('product_id','popularity').show(10)\n"
      ]
    },
    {
      "cell_type": "code",
      "source": [
        "order_product = popularity.orderBy(\"popularity\", ascending=False)\n",
        "my_product = order_product.take(50)\n",
        "products = spark.createDataFrame(my_product)\n",
        "products.show()"
      ],
      "metadata": {
        "colab": {
          "base_uri": "https://localhost:8080/"
        },
        "id": "TTSvHxWtZVKO",
        "outputId": "1af7e780-67e6-4bf3-f0df-c7177d5afd60"
      },
      "execution_count": 25,
      "outputs": [
        {
          "output_type": "stream",
          "name": "stdout",
          "text": [
            "+----------+-----+--------+--------------------+----------+\n",
            "|product_id|likes|dislikes|             comment|popularity|\n",
            "+----------+-----+--------+--------------------+----------+\n",
            "|    517207|  206|      22|خلاصه بگم ماشین ب...|     184.0|\n",
            "|    597475|  129|       5|با سلام._x000D_\\n...|     124.0|\n",
            "|    503608|  125|      10|    هیچ تاثیری نداشت|     115.0|\n",
            "|    701679|  145|      31|من این مداد رنگی ...|     114.0|\n",
            "|    133901|  122|       9|این دوربین قطعا ا...|     113.0|\n",
            "|    517207|  136|      27|خیلی وسیله ی بی ک...|     109.0|\n",
            "|    443966|  110|       2|اینا به این درد م...|     108.0|\n",
            "|    226249|  105|       3|سلام دوستان_x000D...|     102.0|\n",
            "|    341816|   96|       5|ببینید اینکه یکی ...|      91.0|\n",
            "|    313420|  100|      20|    بهقیمتش نمی عرضه|      80.0|\n",
            "|    253710|   84|       8|دوستان دیر شارژ ش...|      76.0|\n",
            "|    203451|   67|       3|من تقریبا یک سال ...|      64.0|\n",
            "|    334514|   72|       9|این برندحرف نداره...|      63.0|\n",
            "|    700304|   60|       2|در یک کلام ، خیلی...|      58.0|\n",
            "|    137928|   65|      12|قبل از ریختن محصو...|      53.0|\n",
            "|    388255|   54|       2|افتضاح یه ذره آب ...|      52.0|\n",
            "|    189875|   75|      23|با سلام و عرض ادب...|      52.0|\n",
            "|    700304|   53|       2|نسبت به پولی که م...|      51.0|\n",
            "|    135021|   59|       8|دوستان ماشالله هم...|      51.0|\n",
            "|    619216|   51|       2|لطفا کامنت من رو ...|      49.0|\n",
            "+----------+-----+--------+--------------------+----------+\n",
            "only showing top 20 rows\n",
            "\n"
          ]
        }
      ]
    },
    {
      "cell_type": "code",
      "source": [
        "filter_products = products.select('product_id','comment')\n",
        "filter_products.show(truncate=False)"
      ],
      "metadata": {
        "colab": {
          "base_uri": "https://localhost:8080/"
        },
        "id": "tTm0SZs-apHC",
        "outputId": "ba68f9c3-45e8-4c33-c308-90e576795866"
      },
      "execution_count": 26,
      "outputs": [
        {
          "output_type": "stream",
          "name": "stdout",
          "text": [
            "+----------+------------------------------------------------------------------------------------------------------------------------------------------------------------------------------------------------------------------------------------------------------------------------------------------------------------------------------------------------------------------------------------------------------------------------------------------------------------------------------------------------------------------------------------------------------------------------------------------------------------------------------------------------------------------------------------------------------------------------------------------------------------------------------------------------------------------------------------------------------------------------------------------------------------------------------------------------------------------------------------------------------------------------------------------------------------------------------------------------------------------------------------------------------------------------------------------------------------------------------------------------------------------------------------------------------------------------------------------------------------------------------------------------------------------------------------------------------------------------------------------------------------------------------------------------------------------------------------------------------------------------------------------------------------------------------------------------------------------------------------------------------------------------------------------------------------------------------------------------------------------------------------------------------------------------------------------------------------------------------------------------------------------------------------------------------------------------------------------------------------------------------------------------------------------------------------------------------------------------------------------------------------------------------------------------------------------------------------------------------------------------------------------------------------------------------------------------------------------------------------------------------------------------------------------------------------------------------------------------------------------------------------------------------------------------------------------------------------------------------------------------------------------------------------------------------------------------------------------------------------------------------------+\n",
            "|product_id|comment                                                                                                                                                                                                                                                                                                                                                                                                                                                                                                                                                                                                                                                                                                                                                                                                                                                                                                                                                                                                                                                                                                                                                                                                                                                                                                                                                                                                                                                                                                                                                                                                                                                                                                                                                                                                                                                                                                                                                                                                                                                                                                                                                                                                                                                                                                                                                                                                                                                                                                                                                                                                                                                                                                                                                                                                                                                                             |\n",
            "+----------+------------------------------------------------------------------------------------------------------------------------------------------------------------------------------------------------------------------------------------------------------------------------------------------------------------------------------------------------------------------------------------------------------------------------------------------------------------------------------------------------------------------------------------------------------------------------------------------------------------------------------------------------------------------------------------------------------------------------------------------------------------------------------------------------------------------------------------------------------------------------------------------------------------------------------------------------------------------------------------------------------------------------------------------------------------------------------------------------------------------------------------------------------------------------------------------------------------------------------------------------------------------------------------------------------------------------------------------------------------------------------------------------------------------------------------------------------------------------------------------------------------------------------------------------------------------------------------------------------------------------------------------------------------------------------------------------------------------------------------------------------------------------------------------------------------------------------------------------------------------------------------------------------------------------------------------------------------------------------------------------------------------------------------------------------------------------------------------------------------------------------------------------------------------------------------------------------------------------------------------------------------------------------------------------------------------------------------------------------------------------------------------------------------------------------------------------------------------------------------------------------------------------------------------------------------------------------------------------------------------------------------------------------------------------------------------------------------------------------------------------------------------------------------------------------------------------------------------------------------------------------------+\n",
            "|517207    |خلاصه بگم ماشین به درد نخوریه فقط حرکت میکنه.                                                                                                                                                                                                                                                                                                                                                                                                                                                                                                                                                                                                                                                                                                                                                                                                                                                                                                                                                                                                                                                                                                                                                                                                                                                                                                                                                                                                                                                                                                                                                                                                                                                                                                                                                                                                                                                                                                                                                                                                                                                                                                                                                                                                                                                                                                                                                                                                                                                                                                                                                                                                                                                                                                                                                                                                                                       |\n",
            "|597475    |با سلام._x000D_\\nاول باید بگم که نمیدونم چرا عسل هایی که با اب شکر توسط زنبور عسل ساخته شده رو بهش طبیعی میگن!!!!!!_x000D_\\nشکرک زدن یا نزدن عسل معیار خوبی برای تشخیص طبیعی بودن نیست _x000D_\\n(حتما دیدین که مربا شکرک زده باشه).شکرک زدن به عوامل زیادی مثل حرارت دیدن،دمای تگهداری،نوع گل مورد استفاده،ناخالصی های موجود،مواد افزودنی و عوامل متعدد دیگه ای بستگی داره._x000D_\\nروشهایی که برای تشخیص عسل طبیعی گفته میشه مثل انداختن یه قطره تو اب سرد یا غیره هم در صورتی موثره که بدونین چی رو نشون میده برای مثال همین انداختن قطره عسل توی اب نشون دهندهی اینه که عسل توسط زنبور درست شده یا کارخونه ولی کیفیت عسل رو بهتون نمیگه._x000D_\\nاز اونجا که تشخیص عسل خوب یه کار تخصصیه و به هیج وجه با چشیدن عسل و ازمایشات خانگی امکان نداره، پیشنهاد میکنم دیجی کالا برگه ازمایش عسل رو بزاره._x000D_\\nیه توضیح مختصر:_x000D_\\nتوی ایران عسل خوب عسلیه که درصد ساکاروز زیر 5 درصد داشته باشه_x000D_\\nولی عسل های مناسب با درصد زیر 1.5 و در حالتهای بسیار خوب زیر 1 درصد باید باشه._x000D_\\nنسبت فروکتوز به گلوکز عسلهای طبیعی بالاتر از 1 باید باشه و تو ایران میزان 0.9 هم مورد قبوله._x000D_\\nفعالیت دیاستازی عسل نشون میده که عسل تازه یا موندست و همچنین اینکه ایا حرارت دیده یا نه.حداقل اون تو ایران 8 است._x000D_\\nهیدروکسی متیل فورفورال HMF نشون میده که عسل تازه است یا مونده ،پیشنهاد اروپا میزان حداکثر ۴۰ میلی گرم در کیلوگرم  میباشه ._x000D_\\nعلاوه بر اینها خیلی عوامل دیگه هست که تو ایران برسی نمیشه مثل میزان سموم و داروهای باقیمانده تو عسل که خیلی وقتا زنبوردارا رعایت نمیکنن و تو عسل مقدار زیادی سم و دارو و جود داره که بسیار مضره._x000D_\\nیه نکته هم بگم که عسل با موم نخرین چون بیشتر سموم توی موم (نون) زنبور جمع میشن مگه اینکه اون موم به صورت کامل توسط زنبور درست شده باشه و مطمئن باشید زنبور دار سم به کندوش نزده(سمومس مثل اپیستان و ....)_x000D_\\nسعی کنین عسل خام بگیرین(حرارت ندیده و فیلتر قوی نشده)_x000D_\\n(یه زنبور دار ساده )                                                                                                                                                                                                                                                                                                                                                                                                                                                                                                                                                                                                                                                                                                                                                                                                                                                                                                                                                                                                  |\n",
            "|503608    |هیچ تاثیری نداشت                                                                                                                                                                                                                                                                                                                                                                                                                                                                                                                                                                                                                                                                                                                                                                                                                                                                                                                                                                                                                                                                                                                                                                                                                                                                                                                                                                                                                                                                                                                                                                                                                                                                                                                                                                                                                                                                                                                                                                                                                                                                                                                                                                                                                                                                                                                                                                                                                                                                                                                                                                                                                                                                                                                                                                                                                                                                    |\n",
            "|701679    |من این مداد رنگی رو از نزدیک دیدم یه مداد رنگی خاص برای افراد خاص این نوع مداد رنگی از سری های کم تولید فابر کاستل هست و مخصوص افراد نقاش و هنرمنده                                                                                                                                                                                                                                                                                                                                                                                                                                                                                                                                                                                                                                                                                                                                                                                                                                                                                                                                                                                                                                                                                                                                                                                                                                                                                                                                                                                                                                                                                                                                                                                                                                                                                                                                                                                                                                                                                                                                                                                                                                                                                                                                                                                                                                                                                                                                                                                                                                                                                                                                                                                                                                                                                                                                 |\n",
            "|133901    |این دوربین قطعا از بهترین دوربین هاست با دی 5نیکون برابری میکنه و کاملا نیاز ادم رو برطرف میکنه ولی باید منطقی نگاه کنیم واقعیت اینه که برای من و شما با این قیمت بالا چیزی جز حسرت باقی نمی ماند                                                                                                                                                                                                                                                                                                                                                                                                                                                                                                                                                                                                                                                                                                                                                                                                                                                                                                                                                                                                                                                                                                                                                                                                                                                                                                                                                                                                                                                                                                                                                                                                                                                                                                                                                                                                                                                                                                                                                                                                                                                                                                                                                                                                                                                                                                                                                                                                                                                                                                                                                                                                                                                                                   |\n",
            "|517207    |خیلی وسیله ی بی کاربردی هستش بدنه ی بسیار ضعیف که کافی است فقط با اتوبوس بنز تصادف کنید یعنی ماشین ترکیده مثل قوطی هایپ می مونه ولی هرچی باشه نسبت به پراید صبا خیلی ایمن تر میباشد ممنون                                                                                                                                                                                                                                                                                                                                                                                                                                                                                                                                                                                                                                                                                                                                                                                                                                                                                                                                                                                                                                                                                                                                                                                                                                                                                                                                                                                                                                                                                                                                                                                                                                                                                                                                                                                                                                                                                                                                                                                                                                                                                                                                                                                                                                                                                                                                                                                                                                                                                                                                                                                                                                                                                           |\n",
            "|443966    |اینا به این درد میخورن که =_x000D_\\nنقره ایش برای کویره : مثلا کسی که تو کویر گرما زده نشه اینو میندازه رو خودش تا خورشید جذبش نشه. _x000D_\\nیه نمونه طلایی داره :این برای اینه که کسی تو برم گم شده و سردشه اینو میکشه رو خودش که خورشد رو جذب کنه و گرمش شه_x000D_\\nو برای دیده شدن هم هست                                                                                                                                                                                                                                                                                                                                                                                                                                                                                                                                                                                                                                                                                                                                                                                                                                                                                                                                                                                                                                                                                                                                                                                                                                                                                                                                                                                                                                                                                                                                                                                                                                                                                                                                                                                                                                                                                                                                                                                                                                                                                                                                                                                                                                                                                                                                                                                                                                                                                                                                                                                        |\n",
            "|226249    |سلام دوستان_x000D_\\nشارژر این گوشی عمرش کمتر از 1 سال هست. یعنی واسه من ک اینطور بود. یه شارژر اصل فابریک از هر برندی ترجیحا 1.5 یا 1.8 آمپری براش بگیرین تا مشکل دیر شارژ شدن گوشی تا حدودی بر طرف بشه. من از شارژر فست اصلی سامسونگ که شدت جریان خروجیش 2 آمپر هست استفاده کرده در تایم 2 ساعت و 20 دقیقه گوشی از 0 به 100 درصد رسید. ولی شارژر فابریک خود گوشی 4 ساعت 30 دقیقه طول میکشه تا 0 تا 100 باطری رو پر کنه. به هر حال من پیشنهادم اینه شارژر 1.5 آمپری براش بگیرین و فست شارژ نگیرین. چون شاید جریان 2 آمپری در هر بار شارژ روی گوشی فشار بیاره و خدا نکرده بعد از مدتی برد گوشیتون بسوزه.                                                                                                                                                                                                                                                                                                                                                                                                                                                                                                                                                                                                                                                                                                                                                                                                                                                                                                                                                                                                                                                                                                                                                                                                                                                                                                                                                                                                                                                                                                                                                                                                                                                                                                                                                                                                                                                                                                                                                                                                                                                                                                                                                                                                                                                                             |\n",
            "|341816    |ببینید اینکه یکی میگه کنسول های شرکت های مایکروسافت بهتره یا یکی میگه مال سونی یه بحث بی فایدس چرا؟ چون که اگه بخوایم مقایسعه کنیم میبینیم که مثلا ps4 یه قابلیت داره که xbox  نداره یا برعکس فقط مهم اینه که شما ببینید با کدوم بیشتر حال میکنید البته این نظر شخصی منه و هرکسی میتونه ردش کنه یا یکی قبول داشته باشه‌                                                                                                                                                                                                                                                                                                                                                                                                                                                                                                                                                                                                                                                                                                                                                                                                                                                                                                                                                                                                                                                                                                                                                                                                                                                                                                                                                                                                                                                                                                                                                                                                                                                                                                                                                                                                                                                                                                                                                                                                                                                                                                                                                                                                                                                                                                                                                                                                                                                                                                                                                             |\n",
            "|313420    |بهقیمتش نمی عرضه                                                                                                                                                                                                                                                                                                                                                                                                                                                                                                                                                                                                                                                                                                                                                                                                                                                                                                                                                                                                                                                                                                                                                                                                                                                                                                                                                                                                                                                                                                                                                                                                                                                                                                                                                                                                                                                                                                                                                                                                                                                                                                                                                                                                                                                                                                                                                                                                                                                                                                                                                                                                                                                                                                                                                                                                                                                                    |\n",
            "|253710    |دوستان دیر شارژ شدن پاوربانک که ایراد پاوربانک نیست! _x000D_\\nاول اینکه انتظار نداشته باشید مثل گوشی یکی دو ساعته شارژ بشه وقتی ظرفیتش ۵ برابر باطری گوشیه یعنی باید ۵ برابر زمان شارژ گوشی هم طول بکشه که اگه درست شارژ کنید نمیشه و طولانی نیس _x000D_\\nفرآیند شارژ شدن پاوربان های شیائومی جوریه که اگه خالی باشن در ابتدا با سرعت خیلی زیادی شارژ میشه و برای حفاظت از باطری حدود ۲۰درصد آخر آروم شارژ میشه و یه کم طول میکشه _x000D_\\nاول اینکه از هر آداپتور و شارژری نمیشه استفاده کرد ! _x000D_\\nشارژرهای ۱ آمپری که اصلأ نمیتونه شارژ کنه و منطقی ام هست _x000D_\\nشارژر های ۲ آمپری میتونن ولی زمان شارژ زیاده و چون پاوربانک در ابتدای شارژ آمپر زیادی میکشه این شارژر خیلی زیاد داغ میشه که حتما بعد از چندبار میسوزه ! پس اینم مناسب نیس _x000D_\\nشارژر های شارژ سریع ( هم فست شارژ هم کوئیک شارژ) این شارژرها مخصوص گوشی هایی هستن که قابلیت شارژ سریع دارن و فابریک برای اوناس و برای شارژ پاوربانک که شارژ سریع لازم داره مناسبه و در زمان معقولی شارژ میشه یعنی برای این پاور که ۲۰ هزار میلی آمپر هستش حدود ۷ تا ۸ ساعته فول شارژ میشه ولی هم شارژر هم پاور داغ میشن البته خطر زیادی نداره،به نظر من از شارژ فابریکی(شارژسریع‌داشته باشه) _x000D_\\nبرای پاورهای ۵یا ۱۰ هزار میلی آمپری استفاده کنید برای پاوربانک ۲۰ هزاری گزینه بهتری هم هست که دیگه خیالت راحت باشه _x000D_\\nشارژ سریع معمولأ از چند ولتاژ استفاده میکنه که فابریک گوشی ها به این ترتیب هستن ۵ ولت با شدت جریان ۲آمپر ، ۹ ولت با ۱/۵یا۱/۶ آمپر وشارژرهای قوی تر (QC2) 12 ولت با شدت جریان ۱/۲ آمپر _x000D_\\nاما شارژرهایی توسط کمپانی ها بصورت جدا ساخته میشه که همین ولتاژ هارو با شدت جریان بیشتری ارائه میده و چون بصورت هوشمند تخصیص و تقسیم جریان میکنه خطری نداره و برای همه ی دستگاه های مختلف مناسبه و این نوع شارژر ها برای شارژ پاوربانک های ظرفیت بالا مناسب هستن پس اکه انتظار زمان کم و استفاده ایده آل و حرفه ایی دارین باید یکی از این شارژرهارو بخرین _x000D_\\nبرندهای زیادی هست اما طبق تجربه خودم بهترین هارو مینویسم که اگه کسی خواست بخره شارژر مناسب رو بخره _x000D_\\n۱.شارژر تک پورت انکر (قیمتش بالاس) _x000D_\\n۲. شارژر ۲ پورت شیائومی (طبق تجربه من این بهترین گزینه هستش) _x000D_\\n۳.شارژهای چند پورت أنکر (قیمت خیلی بالا متاسفانه) _x000D_\\n۴.شارژرهای چند پورت آکی (برند خوبیه ولی نه به اندازه آنکر و شیا) _x000D_\\nمن أنکر و شیائومی رو خودم خریدم و آکی رو هم محل کار از همکارم میگیرم و استفاده میکنم و کامل هر ۳ تا رو بررسی کردم و به نظر خودم شارژر شیائومی خیلی عالی بود، انکر هم خیلی خوبه ولی قیمتش خیلی بالاس ولی شیائومی قیمتش مناسبه و طبق معمول نسبت به قیمت شیائومی بهترین انتخابه ، آکی هم خوبه ولی گفتم که به پای این۲ نمیرسه ولی دوستان بجز اینا سراغ شارژرهای ارزون نرین که بد ضرر میکنین گول ۴ پورت و ۶ پورت رو نخورید کالای با اصالت بگیرین _x000D_\\nببخشید خیلی طولانی شد ولی چون اکثریت مشکل شارژ کردن پاوربانک داشتن نیاز بود یکی بیاد توضیحاتی بده بلکه کسی بتونه استفاده کنه _x000D_\\nامیدوارم کمکی کرده باشم ، باتشکر از فروشگاه دیجیکالا|\n",
            "|203451    |من تقریبا یک سال هست این ساعت رو دارم و یادمه یک میلیون و سیصد خریدمش. از لحاظ زیبایی و کیفیت تضمین شدست و حتی کیفیت بند ساعت منو متعجب کرده که بعد این مدت هنوز مثل روز اوله. _x000D_\\nصحبت اضافه نمیکنم گفتنی ها رو دوستان گفتن فقط بدونید که با وجود امکانات زیادی که ساعت های هوشمند دارن هنوز هم کار اصلیشون نشون دادن زمان و آلارم هاست. متاسفانه هنوز برنامه های کاربردی که واقعا بتونه اونها رو مثل گوشی موبایل متمایز کنه براشون طراحی نشده._x000D_\\nاگر مثل من خوره تکنولوژی هستید که راست کارتونه و پشیمون نمیشید ولی اگر فقط برای زیبایی و لاکچری بودن اومدین سراغش ممکنه یه سرگرمی گرون نصیبتون بشه که بعد از یه مدت ازش خسته میشید.                                                                                                                                                                                                                                                                                                                                                                                                                                                                                                                                                                                                                                                                                                                                                                                                                                                                                                                                                                                                                                                                                                                                                                                                                                                                                                                                                                                                                                                                                                                                                                                                                                                                                                                                                                                                                                                                                                                                                                                                                                                                                                                                                                                                                                   |\n",
            "|334514    |این برندحرف نداره هرچندچینی شده که اصلش امریکاییه امابازم ازاکثربرندهای موجودبهتره وتاثیرگذارتر..                                                                                                                                                                                                                                                                                                                                                                                                                                                                                                                                                                                                                                                                                                                                                                                                                                                                                                                                                                                                                                                                                                                                                                                                                                                                                                                                                                                                                                                                                                                                                                                                                                                                                                                                                                                                                                                                                                                                                                                                                                                                                                                                                                                                                                                                                                                                                                                                                                                                                                                                                                                                                                                                                                                                                                                   |\n",
            "|700304    |در یک کلام ، خیلی بهتر از چیزی بود که انتظار داشتم.                                                                                                                                                                                                                                                                                                                                                                                                                                                                                                                                                                                                                                                                                                                                                                                                                                                                                                                                                                                                                                                                                                                                                                                                                                                                                                                                                                                                                                                                                                                                                                                                                                                                                                                                                                                                                                                                                                                                                                                                                                                                                                                                                                                                                                                                                                                                                                                                                                                                                                                                                                                                                                                                                                                                                                                                                                 |\n",
            "|137928    |قبل از ریختن محصول گیج روغن را کشیدم و رنگ روغن را چک کردم_x000D_\\nتقریبا سیاه شده بود_x000D_\\n_x000D_\\nاین محصول را ریختم و ۵ دقیقه موتور در جا کار کرد و بعد پیچ کارتر را باز کردم (توصیه اکید سازنده و متخصصین این است که روغن را از بالا بکشید و فقط برای تعمیرات و غیره پیچ کارتر موتور را باز کنید)_x000D_\\n_x000D_\\nروغنی که پایین ریخت فوق العاده سیاه و کثیف بود و نشان از صحت عملکرد موتور شوی دلشت که به خوبی موتور را تمیز کرده بود و مجاری روغن را شسته بود_x000D_\\n_x000D_\\nبعضی ها سنتی فکر میکنند و میگویند از این محصولات استفاده نکنید و به جاش بزارید موتور جرم بگیره و موتور را تعمیر کنید -اینجوری به نظرشون بهتره _x000D_\\n_x000D_\\nباید بگم این محصولات دقیقا برای این ساخته شده که از موتور ماشین محافظب کند و قرار نیست انقدر با ماشین بریم تا موتورش بسوزه بعدا به فکر بیوفتیم_x000D_\\n_x000D_\\nموتور ماشین در صورت رسیدگی بیش از ۲۵۰ هزار کیلومتر کار میکند ولی در صورتی که از روغن های بازیافتی و تقلبی استفاده کنید و هر ۸۰ تا ۹۰ هزار کیلیومتر فلاش اویل نریزید مجاری روغن مسدود میشود و خیلی راحت موتور می سوزد_x000D_\\n_x000D_\\nاستفاده از موتور شوی برای ماشین هایی که فشار روغن کاری بالا دارند مثل ماشین های ۶ سیلندر کره ای و توربو ها و مخصوصا بنز و بی ام خیلی میتونه مفید باشه و تمام لجن ها و رسوبات روغن را می شوید_x000D_\\n_x000D_\\nهمچنین توصیه میکنم روغن ماشین را به خاطر کیفیت بنزین و آلودگی های هوا حداکثر هر ۸ هزار کیلیومتر عوض کنید_x000D_\\n_x000D_\\nیعنی نزارید روغن خیلی سیاه بشه و جرم بگیره و قبل از اینکه روغن ماشین از آلودگی کاملا اشباع بشه روغن را عوض کنید_x000D_\\n_x000D_\\nروغنی که خیلی سیاه شده یعنی دیگه توانایی جذب آلودگی ها و ناخالصی ها را ندارد و بقیه آلودگی ها به صورت رسوب در موتور جمع می شود_x000D_\\n_x000D_\\nبنده خودم هر بار به نمایندگی کیا مراجعه میکنم یک یا دو ماشین موتور سوزانده اند و موتور را باز کرده اند_x000D_\\n موتورها به شدت جرم گرفته است که نشان از عدم تعویض به هنگام روغن و استفاده از روغن های بازیافتی است_x000D_\\n_x000D_\\nتمام ماشین هایی که در جهان تست ۲۵۰ هزار کیلومتر بدون اشکال فنی را طی کرده اند در ایران بین ۸۰ تا ۱۵۰ هزار کیلومتر از ناحیه موتور دچار مشکل می شوند که تنها دلیلش تقلب گسترده و آشکار در تهیه و توزیع روغن های بازیافتی تحت برندهای تجاری معروف و تعویض دیر هنگام روغن است_x000D_\\n_x000D_\\nلطفا با ماشین خود مهربان باشید چون اینها سرمایه شخصی و ملی این کشور است و با رعایت نکردن موارد فوق علاوه بر ضرر شخصی به کشور هم ضربه میزنید و دلار های با ارزش نفتی صرف خرید لوازم یدکی خواهد شد                                                                                                                                                                                                                                                                                                                                                                                                                                                            |\n",
            "|388255    |افتضاح یه ذره آب بهش برسه از چند جا پاره میشه                                                                                                                                                                                                                                                                                                                                                                                                                                                                                                                                                                                                                                                                                                                                                                                                                                                                                                                                                                                                                                                                                                                                                                                                                                                                                                                                                                                                                                                                                                                                                                                                                                                                                                                                                                                                                                                                                                                                                                                                                                                                                                                                                                                                                                                                                                                                                                                                                                                                                                                                                                                                                                                                                                                                                                                                                                       |\n",
            "|189875    |با سلام و عرض ادب . یک گوشی مناسب که نیاز اکثریت کاربران را پاسخگوست. 32 گیگ حافظه داخلی و پشتیبانی از کارت حافظه تا 2 ترابایت (براساس مشخصات در سایت سازنده) ، 2 گیگ حافظه رم، دوربین خوب ، صفحه نمایش با اندازه و رزولیشن مناسب و نور بسیار بالا، صدای بسیار بلند در فیلم برداری ، پشتیبانی از otg  و خواندن راحت هارد اکسترنال ، باتری قابل قبول 3000 میلی آمپرساعت،   اسپیکر و شارژر بیسیم بسیار با کیفیت ، وزن بسیار کم، گارانتی ارزشمند یاس و مهمتر از همه قیمت بسیار خوب آن  از مزایای این گوشی است که ارزش خرید آن را بالا می برد قطعا اگر از یک cpu  قویتر و رم بالاتر استفاده می شد و در ساخت بدنه آلمونیم بکار می رفت می توانست نیاز کاربران بیشتری را پاسخ دهد . این گوشی ساخت کره جنوبی در سال 2016 با قیمت 380 دلار معرفی و وارد بازار شد .اگر اهل بازی های سنگین نیستید و با شکل ظاهری گوشی مشکلی ندارید در خرید آن تردید نکنید. در مورد گارد هم باید با کمی تغییر از قاب های گوشی سونی استفاده شود (احتمالا مدل اکسپریا ایکس مناسب باشد) .درود بر شما                                                                                                                                                                                                                                                                                                                                                                                                                                                                                                                                                                                                                                                                                                                                                                                                                                                                                                                                                                                                                                                                                                                                                                                                                                                                                                                                                                                                                                                                                                                                                                                                                                                                                                                                                                                                                                                                                                               |\n",
            "|700304    |نسبت به پولی که میدی واقعا می ارزه . کاراییش خوبه 3 پورت بودنش واقعا کار راه بنداز .من که راضی ام  .                                                                                                                                                                                                                                                                                                                                                                                                                                                                                                                                                                                                                                                                                                                                                                                                                                                                                                                                                                                                                                                                                                                                                                                                                                                                                                                                                                                                                                                                                                                                                                                                                                                                                                                                                                                                                                                                                                                                                                                                                                                                                                                                                                                                                                                                                                                                                                                                                                                                                                                                                                                                                                                                                                                                                                                |\n",
            "|135021    |دوستان ماشالله همشون سوار شدن این خودرو رو و تجربه دارن که حتما بالای 450 تا رفتن.  بنده هم عرض کنم که سریعترین خودرو جهان Koenigsegg agera rs هستش با 468 تا                                                                                                                                                                                                                                                                                                                                                                                                                                                                                                                                                                                                                                                                                                                                                                                                                                                                                                                                                                                                                                                                                                                                                                                                                                                                                                                                                                                                                                                                                                                                                                                                                                                                                                                                                                                                                                                                                                                                                                                                                                                                                                                                                                                                                                                                                                                                                                                                                                                                                                                                                                                                                                                                                                                       |\n",
            "|619216    |لطفا کامنت من رو پاک کنید                                                                                                                                                                                                                                                                                                                                                                                                                                                                                                                                                                                                                                                                                                                                                                                                                                                                                                                                                                                                                                                                                                                                                                                                                                                                                                                                                                                                                                                                                                                                                                                                                                                                                                                                                                                                                                                                                                                                                                                                                                                                                                                                                                                                                                                                                                                                                                                                                                                                                                                                                                                                                                                                                                                                                                                                                                                           |\n",
            "+----------+------------------------------------------------------------------------------------------------------------------------------------------------------------------------------------------------------------------------------------------------------------------------------------------------------------------------------------------------------------------------------------------------------------------------------------------------------------------------------------------------------------------------------------------------------------------------------------------------------------------------------------------------------------------------------------------------------------------------------------------------------------------------------------------------------------------------------------------------------------------------------------------------------------------------------------------------------------------------------------------------------------------------------------------------------------------------------------------------------------------------------------------------------------------------------------------------------------------------------------------------------------------------------------------------------------------------------------------------------------------------------------------------------------------------------------------------------------------------------------------------------------------------------------------------------------------------------------------------------------------------------------------------------------------------------------------------------------------------------------------------------------------------------------------------------------------------------------------------------------------------------------------------------------------------------------------------------------------------------------------------------------------------------------------------------------------------------------------------------------------------------------------------------------------------------------------------------------------------------------------------------------------------------------------------------------------------------------------------------------------------------------------------------------------------------------------------------------------------------------------------------------------------------------------------------------------------------------------------------------------------------------------------------------------------------------------------------------------------------------------------------------------------------------------------------------------------------------------------------------------------------------+\n",
            "only showing top 20 rows\n",
            "\n"
          ]
        }
      ]
    },
    {
      "cell_type": "code",
      "execution_count": 27,
      "metadata": {
        "colab": {
          "base_uri": "https://localhost:8080/"
        },
        "id": "EloEGPgcXfqa",
        "outputId": "467fdd90-955f-4576-c571-a828a2e0294b"
      },
      "outputs": [
        {
          "output_type": "stream",
          "name": "stdout",
          "text": [
            "+----------+---------+\n",
            "|product_id|wordCount|\n",
            "+----------+---------+\n",
            "|      3692|        3|\n",
            "|     90213|       93|\n",
            "|     59473|       30|\n",
            "|    120499|      129|\n",
            "|     67200|       38|\n",
            "|    133722|      127|\n",
            "|    148509|       20|\n",
            "|     56871|        9|\n",
            "|     49738|       22|\n",
            "|    161548|        1|\n",
            "|      5107|       41|\n",
            "|    156041|       10|\n",
            "|    134367|       44|\n",
            "|    114006|       15|\n",
            "|    151402|       46|\n",
            "|    146879|       12|\n",
            "|     81254|       10|\n",
            "|     26368|        4|\n",
            "|     90894|       28|\n",
            "|     21340|        4|\n",
            "|    144139|       42|\n",
            "|    138040|       36|\n",
            "|    105719|       19|\n",
            "|    147165|       24|\n",
            "|    116387|       24|\n",
            "|     73064|       42|\n",
            "|    110040|       45|\n",
            "|    139131|       27|\n",
            "|     80854|        3|\n",
            "|    163519|        6|\n",
            "|    102068|      224|\n",
            "|    129988|       18|\n",
            "|    130386|       47|\n",
            "|    160008|       15|\n",
            "|     93850|       65|\n",
            "|    154624|       32|\n",
            "|    106471|        2|\n",
            "|    112714|       29|\n",
            "|    104427|       32|\n",
            "|    133709|       38|\n",
            "|     55495|       49|\n",
            "|    121304|       44|\n",
            "|    150718|       13|\n",
            "|    154559|       15|\n",
            "|    127328|       58|\n",
            "|    162788|       15|\n",
            "|     24666|       40|\n",
            "|     81429|        5|\n",
            "|     58800|        8|\n",
            "|    149656|       16|\n",
            "|     39074|       67|\n",
            "|    181602|       20|\n",
            "|      3914|       13|\n",
            "|    154067|       25|\n",
            "|     45483|       11|\n",
            "|    138721|       31|\n",
            "|    181477|        6|\n",
            "|     98676|       41|\n",
            "|    120648|        8|\n",
            "|    123316|        1|\n",
            "|    153949|        9|\n",
            "|     64043|       39|\n",
            "|    127401|       52|\n",
            "|    157938|        9|\n",
            "|    159000|        5|\n",
            "|     33428|       64|\n",
            "|     39527|        7|\n",
            "|    117313|       18|\n",
            "|    150824|       11|\n",
            "|    114167|       11|\n",
            "|    147108|        5|\n",
            "|    159149|       12|\n",
            "|    180591|      119|\n",
            "|    147108|        7|\n",
            "|     56710|       32|\n",
            "|    159141|       26|\n",
            "|    141385|       40|\n",
            "|    174014|        9|\n",
            "|    139131|       64|\n",
            "|    141719|       30|\n",
            "|    189737|        9|\n",
            "|    116483|       14|\n",
            "|    183945|        6|\n",
            "|    166853|       60|\n",
            "|    134558|       27|\n",
            "|    106424|       23|\n",
            "|    115614|       36|\n",
            "|    152429|       17|\n",
            "|     63384|       25|\n",
            "|      2118|        7|\n",
            "|    113352|        3|\n",
            "|     14762|       13|\n",
            "|     51981|       62|\n",
            "|    177683|       12|\n",
            "|    183430|       72|\n",
            "|    163713|       22|\n",
            "|    147614|        6|\n",
            "|     56736|       38|\n",
            "|    189665|        6|\n",
            "|     90575|        3|\n",
            "+----------+---------+\n",
            "only showing top 100 rows\n",
            "\n"
          ]
        }
      ],
      "source": [
        "df_word_count = df_res.withColumn('wordCount', F.size(F.split(F.col('comment'), ' ')))\n",
        "df_word_count.select('product_id','wordCount').show(100)"
      ]
    },
    {
      "cell_type": "code",
      "execution_count": 28,
      "metadata": {
        "colab": {
          "base_uri": "https://localhost:8080/"
        },
        "id": "NKKGm6JsaGJV",
        "outputId": "1e369bf7-0cd0-4d9a-e31c-653b55905588"
      },
      "outputs": [
        {
          "output_type": "stream",
          "name": "stdout",
          "text": [
            "+----------+-----------------------------------------------------------------------------------------------------------------------------------------------------------------------------------------------------------------------------------------------------------------------------------------------------------------------------------------------------------------------------------------------------------------------------------------------------------------------------------------------------------------------------------------------------------------------------------------------------------------------------------------------------------------------------------------------------------------------------------------------------------------------------------------------------+\n",
            "|product_id|comment                                                                                                                                                                                                                                                                                                                                                                                                                                                                                                                                                                                                                                                                                                                                                                                              |\n",
            "+----------+-----------------------------------------------------------------------------------------------------------------------------------------------------------------------------------------------------------------------------------------------------------------------------------------------------------------------------------------------------------------------------------------------------------------------------------------------------------------------------------------------------------------------------------------------------------------------------------------------------------------------------------------------------------------------------------------------------------------------------------------------------------------------------------------------------+\n",
            "|3692      |واقعا عالیه راضیم                                                                                                                                                                                                                                                                                                                                                                                                                                                                                                                                                                                                                                                                                                                                                                                    |\n",
            "|90213     |سلام نظرم بگم میخواستم موضوع اشاره نظراتی کالاها ثبت میکنیم هستن مردم عزیز استناد نظرات کالا خریداری میکنن بهتره کارشناسی الکی ندیم سال پاور بانک دارم نفر اشنا خریدم پیشنهاد خریدم واقعا عالیه گذشت سال هنوزم ایفون شارژ میکنه زمان شارژ دوستان کابل پاور شارژ ساعت میشه کابل دیگه وصل ساعت میکشه همزمان پاور همسرم خریدم درومد افت کمتر بازدهی شارژ تجربه اطرافیانم شیائومی کالایی میخرید اصل باشه فیک واقعا شیائومی حرف میزنه برند گرونه هفته دیجی خریدم واقعا سبک عالیه بازدهی بالایی خروجی هوشمند مجموع امپر میده حداکثر خروجی میده ببخشید طولانی                                                                                                                                                                                                                                               |\n",
            "|59473     |گیره فلزی سخت میشوند حوله سخت توان مهسان مدل دیگه پلاستیکی ساده راحت خم نظرم تولید طرح متوقف کنن گیره آهنی سفت هستن خواستم خمشون پایه پلاستیکیش شکست بلا استفاده                                                                                                                                                                                                                                                                                                                                                                                                                                                                                                                                                                                                                                     |\n",
            "|120499    |رابطه ظاهر گوشی بدنه یکپارچه فلزی پلاستیکی صفحه نمایش کیفیت حسی ارزنده منتقل میکند مقایسه قیمت گوشی همرده پرتوان امکانات اختیار کاربر میگذارد قدرت پردازنده گرافیکی گوشی توجه رزولوشن بالای صفحه نمایش مقداری اجرای بازی سنگین حجم رم محدود گیگی گوشی توسط سیستم اشغال میشود مواقع نیمی اسفاده برنامه کیفیت پایین دوربین کیفیت پایینتر اسپیکر تصاویر دوربین نویز تار استفاده فلش روز تصاویر بهتری میتوان ثبت صدایی اسپیکر خارج میشود بیکیفیت اکو نویز بالاست کیفیت صدای خروجی هدفون باتری کارهای متداول سبک معمولی کارایی اجرای برنامه سنگین خالی میشود زمان شارژ باتری نسبتا طولانی ساعت گوشی استفاده سنگین مولتی تسکینگ گیم پیشنهاد نمیکنم هستید وبگردی تماشای ویدئو استفاده برنامه سبک اعظم استفاده گوشی موبایل دوربین اسپیکر برایتان نان شب واجب ظاهری زیبا بدنه کیفیت اهمیت میدهید خرید شک نکنید|\n",
            "|67200     |ظرفیتش براتون کافیه حتما بخرید شارژر ولت آمپر براش سریعتر شارژ شه برند شیائومی شارژر ظرافتش خوبه وزن ضخامت موبایل راحت حمل میشه پیشنهاد ظرفیت بالاتر مدل بسته ظرفیت باتری گوشیتون صرفا اندازه الی شارژ انرژی ذخیره میکنه                                                                                                                                                                                                                                                                                                                                                                                                                                                                                                                                                                             |\n",
            "|133722    |سلام دوستان منم مثه دوستان خرید تحقیق لپ تاپ انجام دادم نتیجه رسیدم مدل مشابه شرکت شرکت دیگه واقعا بهتره تحقیق ویدیو دوستامون اشاره برخوردم براق صفحه نمایش لق لولاهای لپ تاپ موقع استفاده تاچ اسکرین ایراد منم ترسیدم بابت تصمیم گرفتم انتخابم نهایی بدستم لپ تاپ دیدم واقعا اقراری نبوده اصلا خبری لق زدن صفحه موقع تاچ مگر بخوای محکم بکوبی انگشتتو اونوقت لپ تاپی مسئله لق زدن بابت مشکلی محکمه بازتاب صفحه نمایش همینطور اقرار بخوای محیط بسته قرار داشته_باشی پروژکتور بروی صفحه بازهم مسئله لپ تاپ لپ تاپی صفحه مات باشه بخوای فضای آزاد شدید خورشید کار کنی محتوای صفحه نمیبینی گفتم اینارو لپ تاپ قبلیم صفحش مات تجربه شرایط عادی استفاده روزمره مشکلی باهاش برنمیخوری امیدوارم تونسته باشم رفع شبهه دوستامون کمک کرده_باشم                                                                 |\n",
            "|148509    |سالی اسپیکرو خریدم واقعا حرف نداره برندای دیگه شیائومی ال مارکای دیگه مقایسه سرو گردن بالاتره اصلا خریدش شک نکنید                                                                                                                                                                                                                                                                                                                                                                                                                                                                                                                                                                                                                                                                                    |\n",
            "|56871     |بوی تند خوشبو ماندگاریش خوبه چقدر میگذره خوشبوتر میشه                                                                                                                                                                                                                                                                                                                                                                                                                                                                                                                                                                                                                                                                                                                                                |\n",
            "|49738     |عمر مفید ماشین سال دیگه باطری کار نمیکنه گیر میکنه نحوی هیچیک دکمه کار نمیکنه ساعت حالت میمونه اتصال برق کار میکنه                                                                                                                                                                                                                                                                                                                                                                                                                                                                                                                                                                                                                                                                                   |\n",
            "|161548    |بودممنون                                                                                                                                                                                                                                                                                                                                                                                                                                                                                                                                                                                                                                                                                                                                                                                             |\n",
            "|5107      |هارد خریدم استفاده سنگینی نداشتم عنوان بک آپ اطلاعات عکس فیلم استفاده میکنم سرعت انتقال اطلاعاتش مناسبه کیفیت ساخت سال مشکل ایرادی نداشته مقدار آداپتور اذیت میکنه هارد سخت توجه هارد دسکتاپ عجییبی وزن هارد مقدار زیاده نمونه دسکتاپ دیگه خوبه                                                                                                                                                                                                                                                                                                                                                                                                                                                                                                                                                      |\n",
            "|156041    |گذشت سال کیلومتر کارکرد ماشینم سمند موتور معمولی دقیقا کارایی                                                                                                                                                                                                                                                                                                                                                                                                                                                                                                                                                                                                                                                                                                                                        |\n",
            "|134367    |افا پسرم خریدم بچه فامیل عاشقش سوار شدنش دعوایی میکنن واویلا جالب اینجاست همشونم دوچرخه وسه چرخه دارن نمیدونم ئاره دخترو پسر سر باهم دعوا میکنن باورتون نشه بچه باجناقم خاطر تب میگه میخوام پرسنل زحمتکش دیجی کالا لطفا موجود بچه ازدست میره ممنون                                                                                                                                                                                                                                                                                                                                                                                                                                                                                                                                                   |\n",
            "|114006    |پاور بانک سال دیجی کالا گرفتم واقعا راضی هستم عالیه خریدش شک نکنید شارژدهیش عالیه                                                                                                                                                                                                                                                                                                                                                                                                                                                                                                                                                                                                                                                                                                                    |\n",
            "|151402    |تیغ محصول کشور آمریکا عکس محصول توسط شرکت پلیکان ایران توزیع میشه سایت شرکت پلیکان ایران ذکر کیفیت اصلاح انتظارات محصولی کشور سازنده برآورده میکنه ایرادی باهاش برخوردم نقطه اتصال ضعیف تیغ کمترین فشاری ممکنه بشکنه غیرقابل استفاده باشه نقطه اتصال ضعیف قسمت تعویض شونده مشکلی                                                                                                                                                                                                                                                                                                                                                                                                                                                                                                                     |\n",
            "|146879    |توجه قدرت خنک کنندگی ساعت زمان یکم خنک کنه گرم کن ساعت                                                                                                                                                                                                                                                                                                                                                                                                                                                                                                                                                                                                                                                                                                                                               |\n",
            "|81254     |امیوارم کیفیتش همینطور بمونه هاس ازین برند استفاده میکنم راضی                                                                                                                                                                                                                                                                                                                                                                                                                                                                                                                                                                                                                                                                                                                                        |\n",
            "|26368     |الان سالی دارمش راضی                                                                                                                                                                                                                                                                                                                                                                                                                                                                                                                                                                                                                                                                                                                                                                                 |\n",
            "|90894     |ساعت ظاهر سنسوراش بدی بزرگی ماه بندش خشک پاره بندشم دیجی نداشت عملا دیگه استفاده نظرم توجه نظرات بقیه گفتن پاره میشه بند یدکی نداره نخرید پولتون میریزید                                                                                                                                                                                                                                                                                                                                                                                                                                                                                                                                                                                                                                             |\n",
            "|21340     |دارمش راضی قیمتش مناسبه                                                                                                                                                                                                                                                                                                                                                                                                                                                                                                                                                                                                                                                                                                                                                                              |\n",
            "+----------+-----------------------------------------------------------------------------------------------------------------------------------------------------------------------------------------------------------------------------------------------------------------------------------------------------------------------------------------------------------------------------------------------------------------------------------------------------------------------------------------------------------------------------------------------------------------------------------------------------------------------------------------------------------------------------------------------------------------------------------------------------------------------------------------------------+\n",
            "only showing top 20 rows\n",
            "\n"
          ]
        }
      ],
      "source": [
        "df_final = df_res.select(col(\"product_id\"),stop_words_deletion(col(\"comment\")).alias(\"comment\") ) \n",
        "df_final.show(truncate=False)"
      ]
    },
    {
      "cell_type": "code",
      "execution_count": 29,
      "metadata": {
        "colab": {
          "base_uri": "https://localhost:8080/"
        },
        "id": "WIBjGVXlgzUa",
        "outputId": "7393230a-ca42-42e7-f20f-21f7e988d51e"
      },
      "outputs": [
        {
          "output_type": "stream",
          "name": "stdout",
          "text": [
            "+-------+-----+\n",
            "|   word|count|\n",
            "+-------+-----+\n",
            "|استفاده| 1783|\n",
            "|  کیفیت| 1594|\n",
            "|   میشه| 1389|\n",
            "|  خریدم| 1300|\n",
            "|   گوشی| 1174|\n",
            "|   خوبه| 1140|\n",
            "|  عالیه| 1140|\n",
            "|  واقعا| 1076|\n",
            "|   اصلا|  981|\n",
            "|  میکنم|  933|\n",
            "|  نداره|  884|\n",
            "|   قیمت|  884|\n",
            "|  میکنه|  883|\n",
            "|   خرید|  858|\n",
            "|    کار|  837|\n",
            "|   دیجی|  808|\n",
            "|   راضی|  801|\n",
            "|   شارژ|  792|\n",
            "|پیشنهاد|  769|\n",
            "|   کالا|  707|\n",
            "|   باشه|  642|\n",
            "|   دیگه|  635|\n",
            "|  محصول|  629|\n",
            "|   سلام|  615|\n",
            "|  قیمتش|  565|\n",
            "| دستگاه|  492|\n",
            "|  گرفتم|  491|\n",
            "|   دارم|  489|\n",
            "|   ساعت|  464|\n",
            "|   حتما|  464|\n",
            "| دوستان|  455|\n",
            "|    ماه|  454|\n",
            "|    مدل|  453|\n",
            "|    رنگ|  444|\n",
            "|   الان|  440|\n",
            "|  راضیم|  428|\n",
            "|   ارزش|  413|\n",
            "|    جنس|  408|\n",
            "|   میده|  381|\n",
            "|  نمیشه|  381|\n",
            "|   بازی|  378|\n",
            "|    کنه|  374|\n",
            "|   هستش|  367|\n",
            "|    سال|  366|\n",
            "|   هستم|  352|\n",
            "|    دست|  346|\n",
            "|   مشکل|  330|\n",
            "|  بخرید|  323|\n",
            "|  خوبیه|  323|\n",
            "|   دستم|  322|\n",
            "|   راحت|  315|\n",
            "|    نمی|  313|\n",
            "|    بشه|  312|\n",
            "|    بگم|  303|\n",
            "|   توجه|  293|\n",
            "| دوربین|  291|\n",
            "|   شگفت|  290|\n",
            "| العاده|  283|\n",
            "|   صفحه|  280|\n",
            "|   صدای|  278|\n",
            "|    صدا|  274|\n",
            "|   بسته|  274|\n",
            "|  باهاش|  273|\n",
            "|  انگیز|  261|\n",
            "|  داشتم|  261|\n",
            "|  مشکلی|  257|\n",
            "|    نصب|  256|\n",
            "|   سرعت|  253|\n",
            "|     بد|  253|\n",
            "|     آب|  250|\n",
            "|   زیبا|  239|\n",
            "|  ماشین|  236|\n",
            "|   دادم|  235|\n",
            "|   نظرم|  235|\n",
            "|  ممنون|  233|\n",
            "|   خودم|  232|\n",
            "|   خراب|  231|\n",
            "|  پایین|  228|\n",
            "|    عکس|  226|\n",
            "|   داخل|  226|\n",
            "|  باتری|  222|\n",
            "|    کلا|  220|\n",
            "|  طراحی|  220|\n",
            "|  خریدش|  219|\n",
            "|   ساخت|  217|\n",
            "|   حالت|  215|\n",
            "| اندازه|  215|\n",
            "|   صورت|  214|\n",
            "|   روشن|  214|\n",
            "|   اینه|  211|\n",
            "|    نرم|  211|\n",
            "| نمیکنه|  206|\n",
            "|   برند|  202|\n",
            "|   موقع|  198|\n",
            "|   بودم|  198|\n",
            "| تقریبا|  197|\n",
            "|    سری|  196|\n",
            "|   کابل|  195|\n",
            "|  سفارش|  193|\n",
            "|   هفته|  190|\n",
            "+-------+-----+\n",
            "only showing top 100 rows\n",
            "\n"
          ]
        }
      ],
      "source": [
        "df_res.withColumn('word', F.explode(F.split(F.col('comment'), ' ')))\\\n",
        "    .groupBy('word')\\\n",
        "    .count()\\\n",
        "    .sort('count', ascending=False)\\\n",
        "    .show(100)"
      ]
    },
    {
      "cell_type": "code",
      "execution_count": 29,
      "metadata": {
        "id": "E4sLCB_7EsYB"
      },
      "outputs": [],
      "source": [
        ""
      ]
    },
    {
      "cell_type": "code",
      "execution_count": 29,
      "metadata": {
        "id": "8BoiT332blBM"
      },
      "outputs": [],
      "source": [
        ""
      ]
    },
    {
      "cell_type": "code",
      "execution_count": 30,
      "metadata": {
        "id": "3QvdO5gh7IM5"
      },
      "outputs": [],
      "source": [
        "def tokenize(input_text):\n",
        "  try:\n",
        "    #lemmatizer = Lemmatizer()\n",
        "    token_text = word_tokenize(input_text)\n",
        "    #token_text_final = [lemmatizer.lemmatize(t) for t in token_text]\n",
        "    token_text_final = list(set(token_text))\n",
        "    return ','.join(token_text_final)\n",
        "  except:\n",
        "    return None"
      ]
    },
    {
      "cell_type": "code",
      "source": [
        "tokenize('سلام من خوبم تو خوبی؟')"
      ],
      "metadata": {
        "colab": {
          "base_uri": "https://localhost:8080/",
          "height": 35
        },
        "id": "n3qf0rggmfnG",
        "outputId": "6737874d-e906-4bc0-a340-3ee350389bfc"
      },
      "execution_count": 31,
      "outputs": [
        {
          "output_type": "execute_result",
          "data": {
            "text/plain": [
              "'تو,؟,سلام,من,خوبی,خوبم'"
            ],
            "application/vnd.google.colaboratory.intrinsic+json": {
              "type": "string"
            }
          },
          "metadata": {},
          "execution_count": 31
        }
      ]
    },
    {
      "cell_type": "code",
      "source": [
        "products_sel = filter_products.select(col(\"product_id\"),stop_words_deletion(col(\"comment\")).alias(\"comment\") ) \n",
        "products_sel.show(truncate=False)"
      ],
      "metadata": {
        "colab": {
          "base_uri": "https://localhost:8080/"
        },
        "id": "8lqxg66ybavA",
        "outputId": "641315e4-d6af-40e7-b946-d71e3874372c"
      },
      "execution_count": 32,
      "outputs": [
        {
          "output_type": "stream",
          "name": "stdout",
          "text": [
            "+----------+------------------------------------------------------------------------------------------------------------------------------------------------------------------------------------------------------------------------------------------------------------------------------------------------------------------------------------------------------------------------------------------------------------------------------------------------------------------------------------------------------------------------------------------------------------------------------------------------------------------------------------------------------------------------------------------------------------------------------------------------------------------------------------------------------------------------------------------------------------------------------------------------------------------------------------------------------------------------------------------------------------------------------------------------------------------------------------------------------------------------------------------------------------------------------------------------------------------------------------------------------------------------------------------------------------------------------------------------------------------------------------------------------------------------------------------------------------------------------------------------------------------------------------------------------------------------------------------------------------------------------------------------------------------------------------------------------------------------------------------+\n",
            "|product_id|comment                                                                                                                                                                                                                                                                                                                                                                                                                                                                                                                                                                                                                                                                                                                                                                                                                                                                                                                                                                                                                                                                                                                                                                                                                                                                                                                                                                                                                                                                                                                                                                                                                                                                                                                                   |\n",
            "+----------+------------------------------------------------------------------------------------------------------------------------------------------------------------------------------------------------------------------------------------------------------------------------------------------------------------------------------------------------------------------------------------------------------------------------------------------------------------------------------------------------------------------------------------------------------------------------------------------------------------------------------------------------------------------------------------------------------------------------------------------------------------------------------------------------------------------------------------------------------------------------------------------------------------------------------------------------------------------------------------------------------------------------------------------------------------------------------------------------------------------------------------------------------------------------------------------------------------------------------------------------------------------------------------------------------------------------------------------------------------------------------------------------------------------------------------------------------------------------------------------------------------------------------------------------------------------------------------------------------------------------------------------------------------------------------------------------------------------------------------------+\n",
            "|517207    |خلاصه بگم ماشین درد نخوریه حرکت میکنه                                                                                                                                                                                                                                                                                                                                                                                                                                                                                                                                                                                                                                                                                                                                                                                                                                                                                                                                                                                                                                                                                                                                                                                                                                                                                                                                                                                                                                                                                                                                                                                                                                                                                                     |\n",
            "|597475    |سلام بگم نمیدونم عسل اب شکر توسط زنبور عسل ساخته بهش طبیعی میگن شکرک زدن نزدن عسل معیار تشخیص طبیعی حتما دیدین مربا شکرک زده باشه شکرک زدن عوامل حرارت دیدن دمای تگهداری گل استفاده ناخالصی موجود مواد افزودنی عوامل متعدد دیگه بستگی روشهایی تشخیص عسل طبیعی میشه انداختن قطره اب سرد غیره صورتی موثره بدونین نشون میده مثال انداختن قطره عسل توی اب نشون دهندهی اینه عسل توسط زنبور درست کارخونه کیفیت عسل بهتون نمیگه اونجا تشخیص عسل کار تخصصیه هیج وجه چشیدن عسل ازمایشات خانگی نداره پیشنهاد میکنم دیجی کالا برگه ازمایش عسل بزاره توضیح مختصر توی ایران عسل عسلیه درصد ساکاروز درصد باشه عسل درصد حالتهای درصد باشه فروکتوز گلوکز عسلهای طبیعی بالاتر باشه ایران میزان قبوله فعالیت دیاستازی عسل نشون میده عسل تازه موندست ایا حرارت دیده اون ایران هیدروکسی متیل فورفورال نشون میده عسل تازه مونده پیشنهاد اروپا میزان حداکثر میلی گرم کیلوگرم میباشه اینها عوامل دیگه ایران برسی نمیشه میزان سموم داروهای باقیمانده عسل وقتا زنبوردارا رعایت نمیکنن عسل مقدار سم دارو جود مضره نکته بگم عسل موم نخرین سموم توی موم نون زنبور میشن مگه اون موم صورت توسط زنبور درست باشه مطمئن باشید زنبور سم کندوش نزده سمومس اپیستان کنین عسل خام بگیرین حرارت ندیده فیلتر قوی نشده زنبور ساده                                                                                                                                                                                                                                                                                                                                                                                                                                                                                                                                                  |\n",
            "|503608    |تاثیری نداشت                                                                                                                                                                                                                                                                                                                                                                                                                                                                                                                                                                                                                                                                                                                                                                                                                                                                                                                                                                                                                                                                                                                                                                                                                                                                                                                                                                                                                                                                                                                                                                                                                                                                                                                              |\n",
            "|701679    |مداد رنگی دیدم مداد رنگی مداد رنگی سری تولید فابر کاستل مخصوص نقاش هنرمنده                                                                                                                                                                                                                                                                                                                                                                                                                                                                                                                                                                                                                                                                                                                                                                                                                                                                                                                                                                                                                                                                                                                                                                                                                                                                                                                                                                                                                                                                                                                                                                                                                                                                |\n",
            "|133901    |دوربین قطعا دوربین هاست دی نیکون برابری میکنه ادم برطرف میکنه منطقی نگاه واقعیت اینه قیمت حسرت باقی نمی ماند                                                                                                                                                                                                                                                                                                                                                                                                                                                                                                                                                                                                                                                                                                                                                                                                                                                                                                                                                                                                                                                                                                                                                                                                                                                                                                                                                                                                                                                                                                                                                                                                                              |\n",
            "|517207    |وسیله کاربردی هستش بدنه ضعیف اتوبوس بنز تصادف ماشین ترکیده قوطی هایپ مونه هرچی باشه پراید صبا ایمن میباشد ممنون                                                                                                                                                                                                                                                                                                                                                                                                                                                                                                                                                                                                                                                                                                                                                                                                                                                                                                                                                                                                                                                                                                                                                                                                                                                                                                                                                                                                                                                                                                                                                                                                                           |\n",
            "|443966    |اینا درد میخورن نقره ایش کویره مثلا کویر گرما زده نشه میندازه خورشید جذبش نشه نمونه طلایی اینه برم گم سردشه میکشه خورشد جذب کنه گرمش شه دیده                                                                                                                                                                                                                                                                                                                                                                                                                                                                                                                                                                                                                                                                                                                                                                                                                                                                                                                                                                                                                                                                                                                                                                                                                                                                                                                                                                                                                                                                                                                                                                                              |\n",
            "|226249    |سلام دوستان شارژر گوشی عمرش کمتر سال اینطور شارژر اصل فابریک برندی ترجیحا آمپری براش بگیرین مشکل دیر شارژ گوشی حدودی بشه شارژر فست اصلی سامسونگ شدت خروجیش آمپر استفاده تایم ساعت دقیقه گوشی درصد شارژر فابریک گوشی ساعت دقیقه میکشه باطری کنه پیشنهادم اینه شارژر آمپری براش بگیرین فست شارژ نگیرین آمپری شارژ گوشی فشار بیاره خدا نکرده مدتی برد گوشیتون بسوزه                                                                                                                                                                                                                                                                                                                                                                                                                                                                                                                                                                                                                                                                                                                                                                                                                                                                                                                                                                                                                                                                                                                                                                                                                                                                                                                                                                          |\n",
            "|341816    |ببینید میگه کنسول شرکت مایکروسافت بهتره میگه مال سونی بحث فایدس بخوایم مقایسعه میبینیم مثلا قابلیت نداره برعکس اینه ببینید کدوم میکنید منه هرکسی میتونه ردش کنه قبول باشه                                                                                                                                                                                                                                                                                                                                                                                                                                                                                                                                                                                                                                                                                                                                                                                                                                                                                                                                                                                                                                                                                                                                                                                                                                                                                                                                                                                                                                                                                                                                                                 |\n",
            "|313420    |بهقیمتش نمی عرضه                                                                                                                                                                                                                                                                                                                                                                                                                                                                                                                                                                                                                                                                                                                                                                                                                                                                                                                                                                                                                                                                                                                                                                                                                                                                                                                                                                                                                                                                                                                                                                                                                                                                                                                          |\n",
            "|253710    |دوستان دیر شارژ پاوربانک ایراد پاوربانک انتظار نداشته_باشید گوشی ساعته شارژ بشه ظرفیتش باطری گوشیه زمان شارژ گوشی بکشه درست شارژ نمیشه طولانی نیس فرآیند شارژ پاوربان شیائومی جوریه خالی باشن سرعت شارژ میشه حفاظت باطری درصد آخر آروم شارژ میشه میکشه آداپتور شارژری نمیشه استفاده شارژرهای آمپری اصلأ نمیتونه شارژ کنه منطقی شارژر آمپری میتونن زمان شارژ زیاده پاوربانک ابتدای شارژ آمپر میکشه شارژر داغ میشه حتما چندبار میسوزه اینم نیس شارژر شارژ سریع فست شارژ کوئیک شارژ شارژرها مخصوص گوشی هستن قابلیت شارژ سریع دارن فابریک اوناس شارژ پاوربانک شارژ سریع مناسبه زمان معقولی شارژ میشه پاور هزار میلی آمپر هستش ساعته فول شارژ میشه شارژر پاور داغ میشن نداره شارژ فابریکی شارژسریع باشه پاورهای هزار میلی آمپری استفاده پاوربانک هزاری گزینه بهتری دیگه خیالت راحت باشه شارژ سریع معمولأ ولتاژ استفاده میکنه فابریک گوشی هستن ولت شدت آمپر ولت آمپر وشارژرهای قوی ولت شدت آمپر شارژرهایی توسط کمپانی بصورت جدا ساخته میشه ولتاژ هارو شدت ارائه میده بصورت هوشمند تخصیص تقسیم میکنه خطری نداره دستگاه مختلف مناسبه شارژر شارژ پاوربانک ظرفیت هستن اکه انتظار زمان استفاده ایده آل حرفه ایی دارین شارژرهارو بخرین برندهای تجربه خودم هارو مینویسم خواست بخره شارژر بخره شارژر تک پورت انکر قیمتش بالاس شارژر پورت شیائومی تجربه گزینه هستش شارژهای پورت أنکر قیمت شارژرهای پورت آکی برند خوبیه اندازه آنکر شیا أنکر شیائومی خودم خریدم آکی محل کار همکارم میگیرم استفاده میکنم بررسی خودم شارژر شیائومی انکر خوبه قیمتش بالاس شیائومی قیمتش مناسبه معمول قیمت شیائومی انتخابه آکی خوبه گفتم پای نمیرسه دوستان بجز اینا سراغ شارژرهای ارزون نرین بد ضرر میکنین گول پورت پورت نخورید کالای اصالت بگیرین ببخشید طولانی اکثریت مشکل شارژ پاوربانک بیاد توضیحاتی بده بتونه استفاده کنه امیدوارم کمکی کرده_باشم باتشکر فروشگاه دیجیکالا|\n",
            "|203451    |تقریبا سال ساعت دارم یادمه میلیون سیصد خریدمش زیبایی کیفیت تضمین شدست کیفیت بند ساعت منو متعجب روز اوله صحبت اضافه نمیکنم گفتنی دوستان گفتن بدونید امکانات ساعت هوشمند دارن کار اصلیشون نشون زمان آلارم هاست برنامه کاربردی واقعا بتونه اونها گوشی موبایل متمایز کنه براشون طراحی نشده خوره تکنولوژی هستید راست کارتونه پشیمون نمیشید زیبایی لاکچری اومدین سراغش ممکنه سرگرمی گرون نصیبتون بشه خسته میشید                                                                                                                                                                                                                                                                                                                                                                                                                                                                                                                                                                                                                                                                                                                                                                                                                                                                                                                                                                                                                                                                                                                                                                                                                                                                                                                                 |\n",
            "|334514    |برندحرف نداره هرچندچینی اصلش امریکاییه امابازم ازاکثربرندهای موجودبهتره وتاثیرگذارتر                                                                                                                                                                                                                                                                                                                                                                                                                                                                                                                                                                                                                                                                                                                                                                                                                                                                                                                                                                                                                                                                                                                                                                                                                                                                                                                                                                                                                                                                                                                                                                                                                                                      |\n",
            "|700304    |کلام انتظار داشتم                                                                                                                                                                                                                                                                                                                                                                                                                                                                                                                                                                                                                                                                                                                                                                                                                                                                                                                                                                                                                                                                                                                                                                                                                                                                                                                                                                                                                                                                                                                                                                                                                                                                                                                         |\n",
            "|137928    |ریختن محصول گیج روغن کشیدم رنگ روغن چک تقریبا سیاه محصول ریختم دقیقه موتور کار پیچ کارتر توصیه اکید سازنده متخصصین روغن بکشید تعمیرات غیره پیچ کارتر موتور روغنی پایین ریخت العاده سیاه کثیف نشان صحت عملکرد موتور شوی دلشت موتور تمیز مجاری روغن شسته سنتی میکنند میگویند محصولات استفاده نکنید جاش بزارید موتور جرم بگیره موتور تعمیر اینجوری نظرشون بهتره بگم محصولات دقیقا ساخته موتور ماشین محافظب قرار انقدر ماشین بریم موتورش بسوزه بعدا بیوفتیم موتور ماشین صورت رسیدگی هزار کیلومتر کار میکند صورتی روغن بازیافتی تقلبی استفاده هزار کیلیومتر فلاش اویل نریزید مجاری روغن مسدود میشود راحت موتور سوزد استفاده موتور شوی ماشین فشار روغن کاری ماشین سیلندر کره توربو مخصوصا بنز میتونه مفید باشه لجن رسوبات روغن شوید توصیه میکنم روغن ماشین خاطر کیفیت بنزین آلودگی هوا حداکثر هزار کیلیومتر عوض نزارید روغن سیاه بشه جرم بگیره روغن ماشین آلودگی اشباع بشه روغن عوض روغنی سیاه دیگه توانایی جذب آلودگی ناخالصی بقیه آلودگی صورت رسوب موتور بنده خودم نمایندگی کیا مراجعه میکنم ماشین موتور سوزانده موتور موتورها شدت جرم نشان تعویض روغن استفاده روغن بازیافتی ماشین جهان تست هزار کیلومتر اشکال فنی ایران هزار کیلومتر ناحیه موتور مشکل دلیلش تقلب گسترده آشکار توزیع روغن بازیافتی برندهای تجاری معروف تعویض دیر روغن لطفا ماشین مهربان باشید اینها سرمایه ملی کشور رعایت نکردن موارد ضرر کشور ضربه میزنید دلار ارزش نفتی خرید لوازم یدکی                                                                                                                                                                                                                                                                                                                                                                                     |\n",
            "|388255    |افتضاح ذره آب بهش برسه پاره میشه                                                                                                                                                                                                                                                                                                                                                                                                                                                                                                                                                                                                                                                                                                                                                                                                                                                                                                                                                                                                                                                                                                                                                                                                                                                                                                                                                                                                                                                                                                                                                                                                                                                                                                          |\n",
            "|189875    |سلام عرض ادب گوشی اکثریت کاربران پاسخگوست گیگ حافظه داخلی پشتیبانی کارت حافظه ترابایت مشخصات سایت سازنده گیگ حافظه رم دوربین صفحه نمایش اندازه رزولیشن نور صدای بلند فیلم پشتیبانی خواندن راحت هارد اکسترنال باتری قبول میلی آمپرساعت اسپیکر شارژر بیسیم کیفیت وزن گارانتی ارزشمند یاس مهمتر قیمت مزایای گوشی ارزش خرید برد قطعا قویتر رم بالاتر استفاده ساخت بدنه آلمونیم بکار توانست کاربران پاسخ گوشی ساخت کره جنوبی سال قیمت دلار معرفی بازار اهل بازی سنگین نیستید شکل ظاهری گوشی مشکلی ندارید خرید تردید نکنید گارد قاب گوشی سونی استفاده احتمالا مدل اکسپریا ایکس درود                                                                                                                                                                                                                                                                                                                                                                                                                                                                                                                                                                                                                                                                                                                                                                                                                                                                                                                                                                                                                                                                                                                                                             |\n",
            "|700304    |پولی میدی واقعا ارزه کاراییش خوبه پورت بودنش واقعا کار بنداز راضی                                                                                                                                                                                                                                                                                                                                                                                                                                                                                                                                                                                                                                                                                                                                                                                                                                                                                                                                                                                                                                                                                                                                                                                                                                                                                                                                                                                                                                                                                                                                                                                                                                                                         |\n",
            "|135021    |دوستان ماشالله همشون سوار خودرو تجربه دارن حتما بالای رفتن بنده عرض سریعترین خودرو جهان هستش                                                                                                                                                                                                                                                                                                                                                                                                                                                                                                                                                                                                                                                                                                                                                                                                                                                                                                                                                                                                                                                                                                                                                                                                                                                                                                                                                                                                                                                                                                                                                                                                                                              |\n",
            "|619216    |لطفا کامنت پاک                                                                                                                                                                                                                                                                                                                                                                                                                                                                                                                                                                                                                                                                                                                                                                                                                                                                                                                                                                                                                                                                                                                                                                                                                                                                                                                                                                                                                                                                                                                                                                                                                                                                                                                            |\n",
            "+----------+------------------------------------------------------------------------------------------------------------------------------------------------------------------------------------------------------------------------------------------------------------------------------------------------------------------------------------------------------------------------------------------------------------------------------------------------------------------------------------------------------------------------------------------------------------------------------------------------------------------------------------------------------------------------------------------------------------------------------------------------------------------------------------------------------------------------------------------------------------------------------------------------------------------------------------------------------------------------------------------------------------------------------------------------------------------------------------------------------------------------------------------------------------------------------------------------------------------------------------------------------------------------------------------------------------------------------------------------------------------------------------------------------------------------------------------------------------------------------------------------------------------------------------------------------------------------------------------------------------------------------------------------------------------------------------------------------------------------------------------+\n",
            "only showing top 20 rows\n",
            "\n"
          ]
        }
      ]
    },
    {
      "cell_type": "code",
      "source": [
        "comment_tokenization = udf(lambda z: tokenize(z))\n",
        "df_tokenize = products_sel.select(col(\"product_id\"),comment_tokenization(col(\"comment\")).alias(\"comment\") ) \n",
        "df_tokenize.show(20)"
      ],
      "metadata": {
        "colab": {
          "base_uri": "https://localhost:8080/"
        },
        "id": "geolRcHWmOmN",
        "outputId": "4411fb2e-3e07-484e-8657-c8d316967b81"
      },
      "execution_count": 33,
      "outputs": [
        {
          "output_type": "stream",
          "name": "stdout",
          "text": [
            "+----------+--------------------+\n",
            "|product_id|             comment|\n",
            "+----------+--------------------+\n",
            "|    517207|ماشین,حرکت,بگم,نخ...|\n",
            "|    597475|ساخته,ساده,تشخیص,...|\n",
            "|    503608|        نداشت,تاثیری|\n",
            "|    701679|نقاش,رنگی,دیدم,کا...|\n",
            "|    133901|دی,حسرت,قطعا,هاست...|\n",
            "|    517207|ماشین,پراید,ایمن,...|\n",
            "|    443966|خورشد,طلایی,کنه,خ...|\n",
            "|    226249|ترجیحا,خدا,اصلی,ب...|\n",
            "|    341816|قابلیت,کنسول,برعک...|\n",
            "|    313420|    عرضه,نمی,بهقیمتش|\n",
            "|    253710|نیس,ساخته,راحت,زم...|\n",
            "|    203451|هوشمند,سرگرمی,زما...|\n",
            "|    334514|امریکاییه,هرچندچی...|\n",
            "|    700304|   انتظار,کلام,داشتم|\n",
            "|    137928|تقلب,کشیدم,ساخته,...|\n",
            "|    388255|میشه,برسه,پاره,ذر...|\n",
            "|    189875|بیسیم,راحت,عرض,کر...|\n",
            "|    700304|راضی,بودنش,واقعا,...|\n",
            "|    135021|ماشالله,رفتن,سریع...|\n",
            "|    619216|      لطفا,کامنت,پاک|\n",
            "+----------+--------------------+\n",
            "only showing top 20 rows\n",
            "\n"
          ]
        }
      ]
    },
    {
      "cell_type": "code",
      "execution_count": 34,
      "metadata": {
        "colab": {
          "base_uri": "https://localhost:8080/"
        },
        "id": "sSEDw6hbIE7H",
        "outputId": "57f0dea7-92e8-4528-f159-052004dc0ba6"
      },
      "outputs": [
        {
          "output_type": "stream",
          "name": "stdout",
          "text": [
            "root\n",
            " |-- commentArray: array (nullable = true)\n",
            " |    |-- element: string (containsNull = true)\n",
            "\n",
            "+--------------------+\n",
            "|        commentArray|\n",
            "+--------------------+\n",
            "|[ماشین, حرکت, بگم...|\n",
            "|[ساخته, ساده, تشخ...|\n",
            "|     [نداشت, تاثیری]|\n",
            "|[نقاش, رنگی, دیدم...|\n",
            "|[دی, حسرت, قطعا, ...|\n",
            "|[ماشین, پراید, ای...|\n",
            "|[خورشد, طلایی, کن...|\n",
            "|[ترجیحا, خدا, اصل...|\n",
            "|[قابلیت, کنسول, ب...|\n",
            "|[عرضه, نمی, بهقیمتش]|\n",
            "|[نیس, ساخته, راحت...|\n",
            "|[هوشمند, سرگرمی, ...|\n",
            "|[امریکاییه, هرچند...|\n",
            "|[انتظار, کلام, دا...|\n",
            "|[تقلب, کشیدم, ساخ...|\n",
            "|[میشه, برسه, پاره...|\n",
            "|[بیسیم, راحت, عرض...|\n",
            "|[راضی, بودنش, واق...|\n",
            "|[ماشالله, رفتن, س...|\n",
            "|  [لطفا, کامنت, پاک]|\n",
            "+--------------------+\n",
            "only showing top 20 rows\n",
            "\n"
          ]
        }
      ],
      "source": [
        "from pyspark.sql.functions import split, col\n",
        "df2 = df_tokenize.select(split(col(\"comment\"),\",\").alias(\"commentArray\")) \\\n",
        "    .drop(\"comment\")\n",
        "df2.printSchema()\n",
        "df2.show()"
      ]
    },
    {
      "cell_type": "code",
      "execution_count": 35,
      "metadata": {
        "colab": {
          "base_uri": "https://localhost:8080/"
        },
        "id": "v4cwyZOQHOh2",
        "outputId": "f4cc79c1-1fef-47c2-ab9c-44db21425761"
      },
      "outputs": [
        {
          "output_type": "execute_result",
          "data": {
            "text/plain": [
              "<bound method DataFrame.printSchema of DataFrame[product_id: string, comment: string]>"
            ]
          },
          "metadata": {},
          "execution_count": 35
        }
      ],
      "source": [
        "df_tokenize.printSchema"
      ]
    },
    {
      "cell_type": "code",
      "execution_count": 41,
      "metadata": {
        "colab": {
          "base_uri": "https://localhost:8080/"
        },
        "id": "WBqPVsEZE1VM",
        "outputId": "38636e98-e032-488b-d51a-8c63daf791b5"
      },
      "outputs": [
        {
          "output_type": "stream",
          "name": "stderr",
          "text": [
            "/content/spark-3.2.1-bin-hadoop3.2/python/pyspark/sql/context.py:127: FutureWarning: Deprecated in 3.0.0. Use SparkSession.builder.getOrCreate() instead.\n",
            "  FutureWarning\n"
          ]
        },
        {
          "output_type": "stream",
          "name": "stdout",
          "text": [
            "+--------------------+----+\n",
            "|               items|freq|\n",
            "+--------------------+----+\n",
            "|               [بشه]|   6|\n",
            "|      [بشه, استفاده]|   5|\n",
            "|              [مثلا]|   5|\n",
            "|               [بگم]|   8|\n",
            "|        [بگم, کیفیت]|   6|\n",
            "|[بگم, کیفیت, استف...|   5|\n",
            "|      [بگم, استفاده]|   6|\n",
            "|              [دیجی]|   6|\n",
            "|              [دیگه]|   6|\n",
            "|        [دیگه, میشه]|   5|\n",
            "|         [دیگه, کار]|   5|\n",
            "|     [دیگه, استفاده]|   5|\n",
            "|              [قیمت]|   7|\n",
            "|              [میده]|   5|\n",
            "|              [ساعت]|   6|\n",
            "|              [سلام]|  10|\n",
            "|     [سلام, استفاده]|   5|\n",
            "|               [کنه]|   9|\n",
            "|              [حتما]|   7|\n",
            "|     [حتما, استفاده]|   6|\n",
            "+--------------------+----+\n",
            "only showing top 20 rows\n",
            "\n",
            "+----------------+----------+------------------+------------------+-------+\n",
            "|      antecedent|consequent|        confidence|              lift|support|\n",
            "+----------------+----------+------------------+------------------+-------+\n",
            "|          [سلام]| [استفاده]|               0.5|2.0833333333333335|    0.1|\n",
            "|          [گوشی]|  [دوستان]|0.5555555555555556| 3.968253968253968|    0.1|\n",
            "|          [گوشی]|   [کیفیت]|0.5555555555555556| 2.314814814814815|    0.1|\n",
            "|          [میشه]|    [دیگه]|             0.625| 5.208333333333334|    0.1|\n",
            "|          [میشه]| [استفاده]|             0.625| 2.604166666666667|    0.1|\n",
            "|           [کار]|    [دیگه]|0.5555555555555556|  4.62962962962963|    0.1|\n",
            "|           [کار]| [استفاده]|0.5555555555555556| 2.314814814814815|    0.1|\n",
            "|          [کالا]|    [دیجی]|               1.0| 8.333333333333334|   0.12|\n",
            "|[کیفیت, استفاده]|     [بگم]|0.8333333333333334| 5.208333333333333|    0.1|\n",
            "|           [بشه]| [استفاده]|0.8333333333333334|3.4722222222222223|    0.1|\n",
            "|        [دوستان]|    [گوشی]|0.7142857142857143|3.9682539682539684|    0.1|\n",
            "|           [بگم]|   [کیفیت]|              0.75|             3.125|   0.12|\n",
            "|           [بگم]| [استفاده]|              0.75|             3.125|   0.12|\n",
            "|  [بگم, استفاده]|   [کیفیت]|0.8333333333333334|3.4722222222222223|    0.1|\n",
            "|          [حتما]| [استفاده]|0.8571428571428571| 3.571428571428571|   0.12|\n",
            "|         [نداره]| [استفاده]|0.5555555555555556| 2.314814814814815|    0.1|\n",
            "|         [کیفیت]|     [بگم]|               0.5|             3.125|   0.12|\n",
            "|         [کیفیت]| [استفاده]|               0.5|2.0833333333333335|   0.12|\n",
            "|         [کیفیت]|    [گوشی]|0.4166666666666667| 2.314814814814815|    0.1|\n",
            "|    [بگم, کیفیت]| [استفاده]|0.8333333333333334|3.4722222222222223|    0.1|\n",
            "+----------------+----------+------------------+------------------+-------+\n",
            "only showing top 20 rows\n",
            "\n",
            "+--------------------+--------------------+\n",
            "|        commentArray|          prediction|\n",
            "+--------------------+--------------------+\n",
            "|[ماشین, حرکت, بگم...|    [کیفیت, استفاده]|\n",
            "|[ساخته, ساده, تشخ...|         [گوشی, بشه]|\n",
            "|     [نداشت, تاثیری]|                  []|\n",
            "|[نقاش, رنگی, دیدم...|                  []|\n",
            "|[دی, حسرت, قطعا, ...|                  []|\n",
            "|[ماشین, پراید, ای...|                  []|\n",
            "|[خورشد, طلایی, کن...|                  []|\n",
            "|[ترجیحا, خدا, اصل...|[کیفیت, بگم, دیگه...|\n",
            "|[قابلیت, کنسول, ب...|           [استفاده]|\n",
            "|[عرضه, نمی, بهقیمتش]|                  []|\n",
            "|[نیس, ساخته, راحت...|  [کیفیت, بگم, سلام]|\n",
            "|[هوشمند, سرگرمی, ...|[دیگه, استفاده, بگم]|\n",
            "|[امریکاییه, هرچند...|           [استفاده]|\n",
            "|[انتظار, کلام, دا...|                  []|\n",
            "|[تقلب, کشیدم, ساخ...|[گوشی, سلام, حتما...|\n",
            "|[میشه, برسه, پاره...|     [دیگه, استفاده]|\n",
            "|[بیسیم, راحت, عرض...|[دوستان, بگم, بشه...|\n",
            "|[راضی, بودنش, واق...|     [دیگه, استفاده]|\n",
            "|[ماشالله, رفتن, س...|     [گوشی, استفاده]|\n",
            "|  [لطفا, کامنت, پاک]|                  []|\n",
            "+--------------------+--------------------+\n",
            "only showing top 20 rows\n",
            "\n"
          ]
        }
      ],
      "source": [
        "\n",
        "from pyspark.ml.fpm import FPGrowth\n",
        "\n",
        "df_f = spark.createDataFrame([\n",
        "    (0, [1, 2, 5]),\n",
        "    (1, [1, 2, 3, 5]),\n",
        "    (2, [1, 2])\n",
        "], [\"id\", \"items\"])\n",
        "\n",
        "fpGrowth = FPGrowth(itemsCol=\"commentArray\", minSupport=0.1, minConfidence=0.1)\n",
        "model = fpGrowth.fit(df2)\n",
        "\n",
        "# Display frequent itemsets.\n",
        "model.freqItemsets.show()\n",
        "\n",
        "# Display generated association rules.\n",
        "model.associationRules.show()\n",
        "\n",
        "# transform examines the input items against all the association rules and summarize the\n",
        "# consequents as prediction\n",
        "model.transform(df2).show()\n"
      ]
    },
    {
      "cell_type": "markdown",
      "source": [
        "### Q5"
      ],
      "metadata": {
        "id": "E4sjbkd6-Ueb"
      }
    },
    {
      "cell_type": "code",
      "source": [
        "\n",
        "from collections import defaultdict\n",
        "class Graph:\n",
        "\n",
        "  def __init__(self):\n",
        "    self.graph = defaultdict(list)\n",
        "\n",
        "  def add_edge(self,u,v):\n",
        "    self.graph[u].append(v)\n",
        "\n",
        "  def BFS(self, n):\n",
        "    visited_node =  [0 for i in range(len(self.graph))]\n",
        "    queue = []\n",
        "    queue.append(n)\n",
        "    visited_node[n] = 1\n",
        "    while queue:\n",
        "      node = queue.pop(0)\n",
        "      print (node, end = \"--->\")\n",
        "      for n in self.graph[node]:\n",
        "        if visited_node[n] == 0:\n",
        "          queue.append(n)\n",
        "          visited_node[n] = 1"
      ],
      "metadata": {
        "id": "A-bltSI8-S2g"
      },
      "execution_count": 37,
      "outputs": []
    },
    {
      "cell_type": "code",
      "execution_count": 38,
      "metadata": {
        "id": "fgPAeu7KFfbU",
        "colab": {
          "base_uri": "https://localhost:8080/"
        },
        "outputId": "db4c686d-d66d-4bf1-9749-faa7b8313773"
      },
      "outputs": [
        {
          "output_type": "stream",
          "name": "stdout",
          "text": [
            "Following is Breadth First Traversal (starting from vertex 2)\n",
            "2--->0--->3--->1--->"
          ]
        }
      ],
      "source": [
        "g = Graph()\n",
        "g.add_edge(0, 1)\n",
        "g.add_edge(0, 2)\n",
        "g.add_edge(1, 2)\n",
        "g.add_edge(2, 0)\n",
        "g.add_edge(2, 3)\n",
        "g.add_edge(3, 3)\n",
        "\n",
        "print (\"Following is Breadth First Traversal\"\n",
        "\t\t\t\t\" (starting from vertex 2)\")\n",
        "g.BFS(2)\n"
      ]
    },
    {
      "cell_type": "code",
      "execution_count": 39,
      "metadata": {
        "id": "RFYcYcohGMax",
        "colab": {
          "base_uri": "https://localhost:8080/",
          "height": 171
        },
        "outputId": "04dcf38a-2d30-44fd-d97b-dd00e4ad8534"
      },
      "outputs": [
        {
          "output_type": "error",
          "ename": "NameError",
          "evalue": "ignored",
          "traceback": [
            "\u001b[0;31m---------------------------------------------------------------------------\u001b[0m",
            "\u001b[0;31mNameError\u001b[0m                                 Traceback (most recent call last)",
            "\u001b[0;32m<ipython-input-39-1aee0850c2f6>\u001b[0m in \u001b[0;36m<module>\u001b[0;34m()\u001b[0m\n\u001b[0;32m----> 1\u001b[0;31m \u001b[0mvisited\u001b[0m\u001b[0;34m\u001b[0m\u001b[0;34m\u001b[0m\u001b[0m\n\u001b[0m",
            "\u001b[0;31mNameError\u001b[0m: name 'visited' is not defined"
          ]
        }
      ],
      "source": [
        "visited"
      ]
    },
    {
      "cell_type": "code",
      "execution_count": null,
      "metadata": {
        "id": "0nR3p7Aj8XTA"
      },
      "outputs": [],
      "source": [
        "df_tokenize.show(truncate=False)"
      ]
    },
    {
      "cell_type": "code",
      "execution_count": null,
      "metadata": {
        "id": "SIYdlnAn6TUq"
      },
      "outputs": [],
      "source": [
        ""
      ]
    },
    {
      "cell_type": "markdown",
      "metadata": {
        "id": "Zo2yLTDECihs"
      },
      "source": [
        "### Q4"
      ]
    },
    {
      "cell_type": "code",
      "execution_count": null,
      "metadata": {
        "id": "v9mSnzTMCj7G"
      },
      "outputs": [],
      "source": [
        "\n",
        "pdf = pd.read_csv(\"https://raw.githubusercontent.com/SajjadMb/PySpark-walkthrough/main/data/digikala_comments.csv\")\n",
        "selected = pdf.comment\n",
        "df = pd.DataFrame(selected)\n",
        "\n",
        "df"
      ]
    },
    {
      "cell_type": "code",
      "execution_count": null,
      "metadata": {
        "id": "7XDRnopvH9Pi"
      },
      "outputs": [],
      "source": [
        "from pyspark.sql.types import *\n",
        "from pyspark.sql import SQLContext\n",
        "sqlContext = SQLContext(sc)\n",
        "\n",
        "\n",
        "# Auxiliar functions\n",
        "def equivalent_type(f):\n",
        "    if f == 'datetime64[ns]': return TimestampType()\n",
        "    elif f == 'int64': return LongType()\n",
        "    elif f == 'int32': return IntegerType()\n",
        "    elif f == 'float64': return FloatType()\n",
        "    else: return StringType()\n",
        "\n",
        "def define_structure(string, format_type):\n",
        "    try: typo = equivalent_type(format_type)\n",
        "    except: typo = StringType()\n",
        "    return StructField(string, typo)\n",
        "\n",
        "# Given pandas dataframe, it will return a spark's dataframe.\n",
        "def pandas_to_spark(pandas_df):\n",
        "    columns = list(pandas_df.columns)\n",
        "    types = list(pandas_df.dtypes)\n",
        "    struct_list = []\n",
        "    for column, typo in zip(columns, types): \n",
        "      struct_list.append(define_structure(column, typo))\n",
        "    p_schema = StructType(struct_list)\n",
        "    return sqlContext.createDataFrame(pandas_df, p_schema)"
      ]
    },
    {
      "cell_type": "code",
      "execution_count": null,
      "metadata": {
        "id": "L1VjPJRSIgVc"
      },
      "outputs": [],
      "source": [
        "res=pandas_to_spark(pdf)"
      ]
    },
    {
      "cell_type": "code",
      "execution_count": null,
      "metadata": {
        "id": "eOoHEZv4POjK"
      },
      "outputs": [],
      "source": [
        ""
      ]
    },
    {
      "cell_type": "code",
      "execution_count": null,
      "metadata": {
        "id": "U1X4nN95GKed"
      },
      "outputs": [],
      "source": [
        "res.show()\n",
        "\n"
      ]
    },
    {
      "cell_type": "code",
      "execution_count": null,
      "metadata": {
        "id": "vh7IfGmTbuJZ"
      },
      "outputs": [],
      "source": [
        "res.printSchema"
      ]
    },
    {
      "cell_type": "code",
      "execution_count": null,
      "metadata": {
        "id": "aDBvL2t_Korc"
      },
      "outputs": [],
      "source": [
        "comment = pandas_to_spark(df)\n",
        "comment.show()\n",
        "print(comment.collect()[1])"
      ]
    },
    {
      "cell_type": "code",
      "execution_count": null,
      "metadata": {
        "id": "CRBxQhPZT4XJ"
      },
      "outputs": [],
      "source": [
        "from hazm import *\n",
        "from pyspark.sql.functions import udf\n",
        "from pyspark.sql.functions import col\n",
        "\n",
        "normalizer = Normalizer()\n",
        "def normalize(text):\n",
        "  normalized = normalizer.normalize(text)\n",
        "  return normalized\n",
        "s = ' اگر هر کابل دیگه ای وصل کنیدی'\n",
        "a = normalize(s)\n",
        "print(s)\n",
        "print(a)\n",
        "\n",
        "convertUDF = udf(lambda z: normalize(z)) \n",
        "\n",
        "normal_res = res.select(col(\"product_id\"), \\\n",
        "    convertUDF(col(\"comment\")).alias(\"comment\") ) \\\n",
        "   .show(truncate=False)\n"
      ]
    },
    {
      "cell_type": "code",
      "execution_count": null,
      "metadata": {
        "id": "DrFGGiu6XFWK"
      },
      "outputs": [],
      "source": [
        "print(normal_res.collect()[5])\n",
        "print(comment.collect()[5])"
      ]
    }
  ],
  "metadata": {
    "colab": {
      "name": "pySpark.ipynb",
      "provenance": [],
      "authorship_tag": "ABX9TyMzpzj59YmNMsEUNL/14chP",
      "include_colab_link": true
    },
    "kernelspec": {
      "display_name": "Python 3",
      "name": "python3"
    },
    "language_info": {
      "name": "python"
    }
  },
  "nbformat": 4,
  "nbformat_minor": 0
}