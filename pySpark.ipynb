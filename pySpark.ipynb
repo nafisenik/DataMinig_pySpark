{
  "nbformat": 4,
  "nbformat_minor": 0,
  "metadata": {
    "colab": {
      "name": "pySpark.ipynb",
      "provenance": [],
      "authorship_tag": "ABX9TyOl/u46PHoYqleTZLM37Kug",
      "include_colab_link": true
    },
    "kernelspec": {
      "name": "python3",
      "display_name": "Python 3"
    },
    "language_info": {
      "name": "python"
    }
  },
  "cells": [
    {
      "cell_type": "markdown",
      "metadata": {
        "id": "view-in-github",
        "colab_type": "text"
      },
      "source": [
        "<a href=\"https://colab.research.google.com/github/nafisenik/DataMinig_pySpark/blob/main/pySpark.ipynb\" target=\"_parent\"><img src=\"https://colab.research.google.com/assets/colab-badge.svg\" alt=\"Open In Colab\"/></a>"
      ]
    },
    {
      "cell_type": "markdown",
      "source": [
        "### Q1"
      ],
      "metadata": {
        "id": "OaDuoGaWL5zC"
      }
    },
    {
      "cell_type": "code",
      "source": [
        "! pip install -q pyspark"
      ],
      "metadata": {
        "id": "VE-YAJH9L8H6"
      },
      "execution_count": 1,
      "outputs": []
    },
    {
      "cell_type": "code",
      "source": [
        "! apt-get install openjdk-8-jdk-headless -qq > /dev/null\n",
        "! wget -q https://dlcdn.apache.org/spark/spark-3.2.1/spark-3.2.1-bin-hadoop3.2.tgz\n",
        "! tar xf spark-3.2.1-bin-hadoop3.2.tgz"
      ],
      "metadata": {
        "id": "x24SL7hVcBhW"
      },
      "execution_count": 2,
      "outputs": []
    },
    {
      "cell_type": "code",
      "source": [
        "import os\n",
        "os.environ[\"JAVA_HOME\"] = \"/usr/lib/jvm/java-8-openjdk-amd64\"\n",
        "os.environ[\"SPARK_HOME\"] = \"/content/spark-3.2.1-bin-hadoop3.2\""
      ],
      "metadata": {
        "id": "W3uKfIP3cKRM"
      },
      "execution_count": 3,
      "outputs": []
    },
    {
      "cell_type": "code",
      "source": [
        "! pip install -q findspark\n"
      ],
      "metadata": {
        "id": "L7QVLJzVcQMT"
      },
      "execution_count": 4,
      "outputs": []
    },
    {
      "cell_type": "code",
      "source": [
        "import findspark\n",
        "findspark.init()\n",
        "findspark.find()"
      ],
      "metadata": {
        "colab": {
          "base_uri": "https://localhost:8080/",
          "height": 35
        },
        "id": "-3UTTMIXcTpY",
        "outputId": "9a174fc0-b35d-4e3a-d2e3-6e65a1c2f52d"
      },
      "execution_count": 5,
      "outputs": [
        {
          "output_type": "execute_result",
          "data": {
            "text/plain": [
              "'/content/spark-3.2.1-bin-hadoop3.2'"
            ],
            "application/vnd.google.colaboratory.intrinsic+json": {
              "type": "string"
            }
          },
          "metadata": {},
          "execution_count": 5
        }
      ]
    },
    {
      "cell_type": "code",
      "source": [
        "import pyspark as py\n",
        "print(py.__version__)"
      ],
      "metadata": {
        "colab": {
          "base_uri": "https://localhost:8080/"
        },
        "id": "RC0A3gpjMTHV",
        "outputId": "a2ea7cd0-4742-44d8-bd92-a97d75d697cb"
      },
      "execution_count": 6,
      "outputs": [
        {
          "output_type": "stream",
          "name": "stdout",
          "text": [
            "3.2.1\n"
          ]
        }
      ]
    },
    {
      "cell_type": "markdown",
      "source": [
        "### Import Libraries"
      ],
      "metadata": {
        "id": "6FdI5Fe93u1T"
      }
    },
    {
      "cell_type": "code",
      "source": [
        "import random\n",
        "import statistics\n",
        "import time\n",
        "import numpy as np\n",
        "from operator import add\n",
        "import matplotlib.pyplot as plt\n",
        "import math\n",
        "from pyspark.sql import SparkSession\n",
        "import pandas as pd\n",
        "import pyspark.sql.functions as F\n",
        "import re\n",
        "from hazm import *\n",
        "from pyspark.sql.types import StringType\n",
        "from pyspark.sql.functions import udf\n",
        "from pyspark.sql.functions import col\n",
        "from hazm import sent_tokenize, word_tokenize\n",
        "from hazm import stopwords_list\n",
        "from hazm import Stemmer, Lemmatizer"
      ],
      "metadata": {
        "id": "2Kd1c4oL3rZM"
      },
      "execution_count": 6,
      "outputs": []
    },
    {
      "cell_type": "markdown",
      "source": [
        "### Q2---> (1)"
      ],
      "metadata": {
        "id": "kwFliEBX4CTh"
      }
    },
    {
      "cell_type": "code",
      "source": [
        "def MC_pi_estimator(iteration):\n",
        "  circle_point = 0\n",
        "  total_point = 0\n",
        "  p_list =[]\n",
        "  hit = 0\n",
        "  start_time = time.time()\n",
        "  for i in range(iteration):\n",
        "    x, y = random.uniform(-1, 1), random.uniform(-1, 1)   \n",
        "    if x**2 + y**2 < 1:\n",
        "      circle_point += 1\n",
        "    total_point += 1\n",
        "    pi_num = 4.0 * circle_point / total_point\n",
        "    p_list.append(pi_num)\n",
        "  end = time.time()\n",
        "  t = end - start_time\n",
        "  return p_list, t, pi_num"
      ],
      "metadata": {
        "id": "LGMNbfDr4BUU"
      },
      "execution_count": 8,
      "outputs": []
    },
    {
      "cell_type": "markdown",
      "source": [
        "### Calculate Mean and Variance"
      ],
      "metadata": {
        "id": "CJLgAFc449lC"
      }
    },
    {
      "cell_type": "code",
      "source": [
        "ITERATION = 1000000\n",
        "pi_list ,time_ex, pi_est = MC_pi_estimator(ITERATION)\n",
        "pi_mean = statistics.mean(pi_list)\n",
        "pi_variance = statistics.variance(pi_list)\n",
        "print(f'Mean of P estimate: {pi_mean}')\n",
        "print(f'Variance of P estimate: {pi_variance}')\n",
        "print(f'Time of P estimate: {time_ex}')"
      ],
      "metadata": {
        "colab": {
          "base_uri": "https://localhost:8080/"
        },
        "id": "LLoCRLP84N6g",
        "outputId": "9b9c706d-8fb1-4ac1-ce60-5eaca1c4df99"
      },
      "execution_count": 9,
      "outputs": [
        {
          "output_type": "stream",
          "name": "stdout",
          "text": [
            "Mean of P estimate: 3.142111325572187\n",
            "Variance of P estimate: 4.0432427012569295e-05\n",
            "Time of P estimate: 1.5548861026763916\n"
          ]
        }
      ]
    },
    {
      "cell_type": "markdown",
      "source": [
        "### Q2 ----> (3)-(4)-(5)"
      ],
      "metadata": {
        "id": "N3ct4wX44UFl"
      }
    },
    {
      "cell_type": "code",
      "source": [
        "def is_inside(p):\n",
        "  x, y = random.uniform(-1, 1), random.uniform(-1, 1)\n",
        "  return x**2 + y**2 < 1 "
      ],
      "metadata": {
        "id": "g6lRjN_rhnin"
      },
      "execution_count": 10,
      "outputs": []
    },
    {
      "cell_type": "markdown",
      "source": [
        "### Compare Time and Pi estimate of 2 methods"
      ],
      "metadata": {
        "id": "bKQoM3gSMkIu"
      }
    },
    {
      "cell_type": "code",
      "source": [
        "def MC_pi_spark(iteration):\n",
        "  spark = SparkSession.builder.appName('Pi').getOrCreate()\n",
        "  sc = spark.sparkContext\n",
        "  start_time = time.time()\n",
        "  hit = sc.parallelize(range(0, iteration), 2) \\\n",
        "      .map(is_inside).reduce(add)\n",
        "  pi = 4.0 * hit / iteration\n",
        "  t = time.time() - start_time\n",
        "  spark.stop()\n",
        "  return pi, t\n",
        "\n",
        "iteration_num = [100, 1000, 10000, 100000, 1000000, 10000000]\n",
        "\n",
        "time_simple_MC = []\n",
        "time_spark_MC = []\n",
        "\n",
        "for i in iteration_num:\n",
        "    \n",
        "    print('--------Mont Carlo Pi Estimator Without PySparl--------')\n",
        "    pi_l, t, res = MC_pi_estimator(i)\n",
        "    print(f'Number of Itration: {i}')\n",
        "    print(f'Pi = : {res}')\n",
        "    print(f'Time of computation: {t} seconds')\n",
        "    time_simple_MC.append(t)\n",
        "    \n",
        "    print('--------Mont Carlo Pi Estimator with PySpark--------')   \n",
        "    res, t = MC_pi_spark(i)\n",
        "    print(f'Number of Itration: {i}')\n",
        "    print(f'Pi = : {res}')\n",
        "    print(f'Time of computation: {t} seconds')\n",
        "    time_spark_MC.append(t)   \n",
        "plt.figure(1)\n",
        "plt.plot(iteration_num, time_simple_MC, label=\"Simple Mont Carlo\")\n",
        "plt.plot(iteration_num, time_spark_MC, label=\"Spark Mont Carlo\")\n",
        "\n",
        "plt.xscale(\"log\")\n",
        "plt.xlabel(\"Number of points\")\n",
        "plt.ylabel(\"Time\")\n",
        "plt.legend()\n",
        "plt.show()"
      ],
      "metadata": {
        "colab": {
          "base_uri": "https://localhost:8080/",
          "height": 1000
        },
        "id": "z0qFAxZKNhAG",
        "outputId": "54b487c4-fb18-42e1-be38-a486ed2b9412"
      },
      "execution_count": 11,
      "outputs": [
        {
          "output_type": "stream",
          "name": "stdout",
          "text": [
            "--------Mont Carlo Pi Estimator Without PySparl--------\n",
            "Number of Itration: 100\n",
            "Pi = : 3.24\n",
            "Time of computation: 0.0002589225769042969 seconds\n",
            "--------Mont Carlo Pi Estimator with PySpark--------\n",
            "Number of Itration: 100\n",
            "Pi = : 3.36\n",
            "Time of computation: 5.206401109695435 seconds\n",
            "--------Mont Carlo Pi Estimator Without PySparl--------\n",
            "Number of Itration: 1000\n",
            "Pi = : 3.204\n",
            "Time of computation: 0.0027375221252441406 seconds\n",
            "--------Mont Carlo Pi Estimator with PySpark--------\n",
            "Number of Itration: 1000\n",
            "Pi = : 3.096\n",
            "Time of computation: 1.6035099029541016 seconds\n",
            "--------Mont Carlo Pi Estimator Without PySparl--------\n",
            "Number of Itration: 10000\n",
            "Pi = : 3.1508\n",
            "Time of computation: 0.02431654930114746 seconds\n",
            "--------Mont Carlo Pi Estimator with PySpark--------\n",
            "Number of Itration: 10000\n",
            "Pi = : 3.1384\n",
            "Time of computation: 1.0848939418792725 seconds\n",
            "--------Mont Carlo Pi Estimator Without PySparl--------\n",
            "Number of Itration: 100000\n",
            "Pi = : 3.14268\n",
            "Time of computation: 0.12876009941101074 seconds\n",
            "--------Mont Carlo Pi Estimator with PySpark--------\n",
            "Number of Itration: 100000\n",
            "Pi = : 3.14336\n",
            "Time of computation: 0.8343415260314941 seconds\n",
            "--------Mont Carlo Pi Estimator Without PySparl--------\n",
            "Number of Itration: 1000000\n",
            "Pi = : 3.143272\n",
            "Time of computation: 1.2270126342773438 seconds\n",
            "--------Mont Carlo Pi Estimator with PySpark--------\n",
            "Number of Itration: 1000000\n",
            "Pi = : 3.14186\n",
            "Time of computation: 2.0307366847991943 seconds\n",
            "--------Mont Carlo Pi Estimator Without PySparl--------\n",
            "Number of Itration: 10000000\n",
            "Pi = : 3.1419384\n",
            "Time of computation: 12.349571228027344 seconds\n",
            "--------Mont Carlo Pi Estimator with PySpark--------\n",
            "Number of Itration: 10000000\n",
            "Pi = : 3.1408844\n",
            "Time of computation: 14.616551637649536 seconds\n"
          ]
        },
        {
          "output_type": "display_data",
          "data": {
            "text/plain": [
              "<Figure size 432x288 with 1 Axes>"
            ],
            "image/png": "[encoded data removed]"
          },
          "metadata": {
            "needs_background": "light"
          }
        }
      ]
    },
    {
      "cell_type": "code",
      "source": [
        "# First Method\n",
        "from pyspark.sql import SparkSession\n",
        "\n",
        "spark = SparkSession.builder\\\n",
        "        .master(\"local\")\\\n",
        "        .appName(\"Colab\")\\\n",
        "        .getOrCreate()\n",
        "\n",
        "sc = spark.sparkContext"
      ],
      "metadata": {
        "id": "KNiXvo81hlST"
      },
      "execution_count": 1,
      "outputs": []
    },
    {
      "cell_type": "code",
      "source": [
        "spark.version\n"
      ],
      "metadata": {
        "colab": {
          "base_uri": "https://localhost:8080/",
          "height": 35
        },
        "id": "VSm4hG5MczzN",
        "outputId": "3000e5ca-5c99-4b81-84ab-d02f58e2dc2a"
      },
      "execution_count": 13,
      "outputs": [
        {
          "output_type": "execute_result",
          "data": {
            "text/plain": [
              "'3.2.1'"
            ],
            "application/vnd.google.colaboratory.intrinsic+json": {
              "type": "string"
            }
          },
          "metadata": {},
          "execution_count": 13
        }
      ]
    },
    {
      "cell_type": "code",
      "source": [
        "! wget -q https://raw.githubusercontent.com/SajjadMb/PySpark-walkthrough/main/data/digikala_comments.csv"
      ],
      "metadata": {
        "id": "BfWiEdH1dD9k"
      },
      "execution_count": 2,
      "outputs": []
    },
    {
      "cell_type": "code",
      "source": [
        "df = spark.read.option(\"header\", True).option(\"multiline\",True).csv(\"digikala_comments.csv\")\n",
        "df.show()\n"
      ],
      "metadata": {
        "colab": {
          "base_uri": "https://localhost:8080/"
        },
        "id": "w-O0c6hCdHWB",
        "outputId": "38b8f2f9-3260-4666-ba01-58c38900d86a"
      },
      "execution_count": 3,
      "outputs": [
        {
          "output_type": "stream",
          "name": "stdout",
          "text": [
            "+----------+--------------------+--------+-------+-----+--------+-------------------+---------------+--------------------+--------------------+--------------------+--------------------+\n",
            "|product_id|       product_title|title_en|user_id|likes|dislikes|verification_status|      recommend|               title|             comment|          advantages|       disadvantages|\n",
            "+----------+--------------------+--------+-------+-----+--------+-------------------+---------------+--------------------+--------------------+--------------------+--------------------+\n",
            "|      3692|ماوس بی‌سیم لاجیت...|      IT| 989472|    0|       0|           verified|             \\N|                null|واقعا عالیه. من ک...|                null|                null|\n",
            "|     90213|شارژر همراه شیاوم...|      AC|3862150|    4|       1|           verified|    recommended|        واقعاً عالیه|سلام، قبل اینکه ن...|  \"[\"\"عمر طولانی\\r\"\"|\"\"افت بسیار کم می...|\n",
            "|     59473|یدک پولیشر میکروف...|      HW| 626843|    1|       0|           verified|not_recommended|خیلی سخت حوله اش ...|گیره های فلزی خیل...|                null|                null|\n",
            "|    120499|گوشی موبایل هوآوی...|      MO| 786887|    6|      11|           verified|        no_idea|  گوشی مقرون به صرفه|همه چیز در رابطه ...|\"[\"\"صفحه نمایش پر...|\"\"کیفیت بالای ساخ...|\n",
            "|     67200|شارژر همراه شیائو...|      AC| 854531|   19|       4|           verified|        no_idea|ابعاد، استحکام و ...|اگر ظرفیتش براتون...|\"[\"\"ظریف و زیبا و...|\"\"بدنه محکم و با ...|\n",
            "|    133722|لپ تاپ 15 اینچی ا...|      IT| 497032|    6|       1|           verified|    recommended|اقرار بیش از حد د...|سلام دوستان،،_x00...|\"[\"\"همه چیز که تو...|\"[\"\"تاچ پدش میتون...|\n",
            "|    148509|اسپیکر بلوتوثی دی...|      IT| 574130|    3|       0|           verified|    recommended|           بسیار خوب|من چند سالی هست ک...|\"[\"\"کیفیت ساخت بس...|\"\"کیفیت صدا بسیار...|\n",
            "|     56871|ادو پرفیوم زنانه ...|      PC|1139954|    2|       2|           verified|             \\N|              عطر...|بوی تند ولی خوشبو...|                null|                null|\n",
            "|     49738|ماشین اصلاح صورت ...|      PA|2764879|    2|       1|           verified|             \\N|      عمر مفید کوتاه|متاسفانه عمر مفید...|                null|\"[\"\"طراحی ارگونوم...|\n",
            "|    161548|فلاسک هنری مدل Vi...|      HW|3934937|    1|       0|           verified|        no_idea|        خوب بودممنون|        خوب بودممنون|                null|                null|\n",
            "|      5107|هارددیسک اکسترنال...|      IT| 794316|    1|       0|           verified|    recommended|هارد با کیفیت و ظ...|نزدیک به دو ساله ...|\"[\"\"کیفیت ساخت خو...|\"\"ظاهر ساده و زیب...|\n",
            "|    156041|شمع خودرو ان جی ک...|      TC| 653445|   11|       4|           verified|             \\N|کارکرد بعد از ۶۰۰...|بعد از گذشت 3سال ...|                null|                null|\n",
            "|    134367|ماشین بازی بیبی ل...|      TS|3015544|   10|       5|           verified|    recommended|    لطفا موجودش کنید|افا از وقتی من ای...|\"[\"\"بچه ام دیگه ب...|       \"[\"\"نداره\"\"]\"|\n",
            "|    114006|شارژر همراه لنوو ...|      AC|3007704|    4|       2|           verified|    recommended|           پاور بانک|من این پاور بانک ...|        \"[\"\"عالی\"\"]\"|       \"[\"\"ندارد\"\"]\"|\n",
            "|    151402|خودتراش سیلور مدل...|      PC|1223376|    2|       6|           verified|             \\N|محصولی با کیفیت ا...|این تیغ محصول کشو...|\"[\"\"تولید شده در ...|\"[\"\"ضعیف بودن نقا...|\n",
            "|    146879|فلاسک غذا خودرو ب...|      TC|2838703|   15|      12|           verified|    recommended|فقط مناسب سفر طولانی|با توجه به قدرت خ...|                null|                null|\n",
            "|     81254|کرم نرم کننده دست...|      PC|1309402|    4|       1|           verified|             \\N|  مثل همیشه با کیفیت|امیوارم کیفیتش هم...|\"[\"\"جذب سریع ..را...|       \"[\"\"ندارد\"\"]\"|\n",
            "|     26368|  ماساژور بیورر MG80|      PA|1309402|    5|       0|           verified|             \\N|برند آلمانی و با ...|الان حدود یک سالی...|\"[\"\"پر قدرت.. خوش...|       \"[\"\"ندارد\"\"]\"|\n",
            "|     90894|مچ‌ بند هوشمند آی...|      PA|1338306|    2|       1|           verified|        no_idea|          لوازم یدکی|ساعت خوبی بود از ...|      \"[\"\"اندازه\\r\"\"|          \"\"ظاهر\\r\"\"|\n",
            "|     21340|ماشین اصلاح صورت ...|      PA|1309402|    3|       1|           verified|             \\N|قیمت مناسب و با ک...|حدود یک ساله دارم...|\"[\"\"پر قدرت طراحی...|       \"[\"\"ندارد\"\"]\"|\n",
            "+----------+--------------------+--------+-------+-----+--------+-------------------+---------------+--------------------+--------------------+--------------------+--------------------+\n",
            "only showing top 20 rows\n",
            "\n"
          ]
        }
      ]
    },
    {
      "cell_type": "code",
      "source": [
        "!pip install hazm"
      ],
      "metadata": {
        "colab": {
          "base_uri": "https://localhost:8080/"
        },
        "id": "SGlRtaEu1OYK",
        "outputId": "851be07a-7bf1-4998-d273-8ac6e6a1545c"
      },
      "execution_count": 16,
      "outputs": [
        {
          "output_type": "stream",
          "name": "stdout",
          "text": [
            "Requirement already satisfied: hazm in /usr/local/lib/python3.7/dist-packages (0.7.0)\n",
            "Requirement already satisfied: nltk==3.3 in /usr/local/lib/python3.7/dist-packages (from hazm) (3.3)\n",
            "Requirement already satisfied: libwapiti>=0.2.1 in /usr/local/lib/python3.7/dist-packages (from hazm) (0.2.1)\n",
            "Requirement already satisfied: six in /usr/local/lib/python3.7/dist-packages (from nltk==3.3->hazm) (1.15.0)\n"
          ]
        }
      ]
    },
    {
      "cell_type": "code",
      "source": [
        "def convert_num(text):\n",
        "  persian = ['۰', '۱', '۲', '۳', '۴', '۵', '۶', '۷', '۸', '۹']\n",
        "  convertedPersianNums = text.replace('۰','0').replace('۱','1').replace('۲','2').replace('۳','3').replace('۴','4')\\\n",
        "  .replace('۵','5').replace('۶','6').replace('۷','7').replace('۸','8').replace('۹','9')\n",
        "  return convertedPersianNums\n"
      ],
      "metadata": {
        "id": "qBB79hY1UASW"
      },
      "execution_count": 4,
      "outputs": []
    },
    {
      "cell_type": "code",
      "source": [
        "stopwords = stopwords_list()+['ها']\n",
        "def remove_stop_words(text):\n",
        "  text = re.sub('[^آ-ی]', ' ', text)\n",
        "  tokenized_text = word_tokenize(text)\n",
        "  print(tokenized_text)\n",
        "  all_tokens = [t for t in tokenized_text if t not in stopwords]\n",
        "  print(all_tokens)\n",
        "  text = \" \".join(all_tokens)\n",
        "  return text"
      ],
      "metadata": {
        "id": "akEfw_Snbytg"
      },
      "execution_count": 7,
      "outputs": []
    },
    {
      "cell_type": "code",
      "source": [
        "x = remove_stop_words('من از شهر به روستا رفتم و در راه علی را دیدم')\n",
        "print(x)"
      ],
      "metadata": {
        "colab": {
          "base_uri": "https://localhost:8080/"
        },
        "id": "RQQ4ChEqUfkl",
        "outputId": "b47de085-74b9-4ebb-f9fb-a2e0ecbb28b1"
      },
      "execution_count": 19,
      "outputs": [
        {
          "output_type": "stream",
          "name": "stdout",
          "text": [
            "['من', 'از', 'شهر', 'به', 'روستا', 'رفتم', 'و', 'در', 'راه', 'علی', 'را', 'دیدم']\n",
            "['شهر', 'روستا', 'رفتم', 'علی', 'دیدم']\n",
            "شهر روستا رفتم علی دیدم\n"
          ]
        }
      ]
    },
    {
      "cell_type": "code",
      "source": [
        "#https://github.com/optimopium/PySpark-walkthrough/blob/main/Spark_Tutorial.ipynb\n",
        "def clean_normalized(text):\n",
        "  normalizer = Normalizer()\n",
        "  try:\n",
        "    #normalize\n",
        "    cleaned_text = text.replace('_x000D_\\n',' ').splitlines() \n",
        "    cleaned_text = ' '.join(cleaned_text)\n",
        "    cleaned_text = normalizer.normalize(cleaned_text)\n",
        "    cleaned_text = cleaned_text.replace(\"،\",\" \").replace(\"\\u200c\",\" \").replace(r\"\\u200\",\" \").replace(r\"\\u200b\",\" \")\\\n",
        "            .replace(\".\",\" \").replace(\"-\",\" \").replace(\"_\",\" \").replace(\"\\n\",\" \").replace(\"\\r\",\" \").replace(\"\\\\\",\" \")\\\n",
        "            .replace(\"(\",\" \").replace(\")\",\" \").replace(\"[\",\" \").replace(\"!\",\" \").replace(\"]\",\" \")\\\n",
        "            .replace(\"r\",\" \").replace(\"\\\"\",\" \")\n",
        "    cleaned_text = re.sub(r\"\\s+.\\u0648.\\s+\", ' ', cleaned_text)\n",
        "    cleaned_text = re.sub(r'[^\\w\\s]', ' ', cleaned_text)\n",
        "\n",
        "    #Remove numbers\n",
        "    #cleaned_text = cleaned_text.replace('x000D',' ').splitlines() \n",
        "    #cleaned_text = ' '.join(cleaned_text)\n",
        "    cleaned_text = convert_num(cleaned_text)\n",
        "    cleaned_text = re.sub(r'[0-9]', ' ', cleaned_text)\n",
        "    cleaned_text = re.sub(' +', ' ',cleaned_text)\n",
        "    return cleaned_text\n",
        "  except:\n",
        "    return None"
      ],
      "metadata": {
        "id": "3BI16oUf04Nx"
      },
      "execution_count": 58,
      "outputs": []
    },
    {
      "cell_type": "code",
      "source": [
        ""
      ],
      "metadata": {
        "id": "iJot4mAsT-vw"
      },
      "execution_count": 20,
      "outputs": []
    },
    {
      "cell_type": "code",
      "source": [
        "clean_comment = udf(lambda z: clean_normalized(z))\n",
        "stop_words_deletion = udf(lambda z: remove_stop_words(z))"
      ],
      "metadata": {
        "id": "2Jop49bi8Li-"
      },
      "execution_count": 59,
      "outputs": []
    },
    {
      "cell_type": "code",
      "source": [
        ""
      ],
      "metadata": {
        "id": "NwB9iU11HOrN"
      },
      "execution_count": 21,
      "outputs": []
    },
    {
      "cell_type": "code",
      "source": [
        "df.select('product_id', 'comment').show(truncate=False)\n",
        "df_res = df.select(col(\"product_id\"),clean_comment(col(\"comment\")).alias(\"comment\") ) \n"
      ],
      "metadata": {
        "colab": {
          "base_uri": "https://localhost:8080/"
        },
        "id": "D4IepNcL8amh",
        "outputId": "30809147-7da0-4f80-cb38-53497dba9d0d"
      },
      "execution_count": 60,
      "outputs": [
        {
          "output_type": "stream",
          "name": "stdout",
          "text": [
            "+----------+-------------------------------------------------------------------------------------------------------------------------------------------------------------------------------------------------------------------------------------------------------------------------------------------------------------------------------------------------------------------------------------------------------------------------------------------------------------------------------------------------------------------------------------------------------------------------------------------------------------------------------------------------------------------------------------------------------------------------------------------------------------------------------------------------------------------------------------------------------------------------------------------------------------------------------------------------------------------------------------------------------------------------------------------------------------------------------------------------------------------------------------------------------------------------------------------------------------------------------------------------------------------------------------------------------------------------------+\n",
            "|product_id|comment                                                                                                                                                                                                                                                                                                                                                                                                                                                                                                                                                                                                                                                                                                                                                                                                                                                                                                                                                                                                                                                                                                                                                                                                                                                                                                                        |\n",
            "+----------+-------------------------------------------------------------------------------------------------------------------------------------------------------------------------------------------------------------------------------------------------------------------------------------------------------------------------------------------------------------------------------------------------------------------------------------------------------------------------------------------------------------------------------------------------------------------------------------------------------------------------------------------------------------------------------------------------------------------------------------------------------------------------------------------------------------------------------------------------------------------------------------------------------------------------------------------------------------------------------------------------------------------------------------------------------------------------------------------------------------------------------------------------------------------------------------------------------------------------------------------------------------------------------------------------------------------------------+\n",
            "|3692      |واقعا عالیه. من که ازش خیلی راضیم                                                                                                                                                                                                                                                                                                                                                                                                                                                                                                                                                                                                                                                                                                                                                                                                                                                                                                                                                                                                                                                                                                                                                                                                                                                                                              |\n",
            "|90213     |سلام، قبل اینکه نظرم رو بگم میخواستم به یک موضوع مهم اشاره کنم که نظراتی که ما برای کالاها ثبت میکنیم خیلی مهم هستن، چون بسیاری از مردم عزیز با استناد به این نظرات یک کالا رو خریداری میکنن. پس بهتره ک نظر غیر کارشناسی و الکی ندیم._x000D_\\n_x000D_\\nمن ۲سال این پاور بانک رو دارم، برای ۲نفر اشنا هم خریدم، پیشنهاد ویژه بود خریدم، واقعا از هر نظر عالیه، بعد گذشت ۲سال هنوزم ۵بار ایفون se رو شارژ میکنه، در خصوص زمان شارژ گفته بودن دوستان، اگر با کابل خود پاور شارژ کنید حدود ۶ساعت فول میشه، اما اگر هر کابل دیگه ای وصل کنید ۱۲تا۱۸ ساعت طول میکشه._x000D_\\nهمزمان با این پاور یک adata 10000 هم برای همسرم خریدم ، اونم خوب درومد ولی حدود ۳۰‎٪ افت داشته و کمتر بازدهی شارژ داره._x000D_\\n_x000D_\\nطبق تجربه من و اطرافیانم ک شیائومی داشتن، اگر کالایی ک میخرید اصل باشه(فیک زیاد داره) واقعا شیائومی حرف اول و میزنه، _x000D_\\nanker هم برند خیلی خوب ولی گرونه، هفته پیش از دیجی خریدم a1214 اونم واقعا سبک و عالیه و بازدهی بالایی داره.(۲خروجی هوشمند داره،مجموع ۳امپر میده،حداکثر یک خروجی ۲.۴ میده)_x000D_\\n_x000D_\\nببخشید طولانی شد.                                                                                                                                                                                                                                                                    |\n",
            "|59473     |گیره های فلزی خیلی سخت تا میشوند و لذا حوله را خیلی سخت می توان در آورد _x000D_\\n_x000D_\\nمهسان یه مدل دیگه داره که پلاستیکی هست و خیلی ساده و راحت خم می شود_x000D_\\n_x000D_\\nبه نظرم تولید این طرح را باید متوقف کنن چون گیره های آهنی خیلی سفت هستن و وقتی می خواستم خمشون کنم پایه پلاستیکیش شکست و بلا استفاده شد                                                                                                                                                                                                                                                                                                                                                                                                                                                                                                                                                                                                                                                                                                                                                                                                                                                                                                                                                                                                         |\n",
            "|120499    |همه چیز در رابطه با ظاهر این گوشی بسیار خوب است. بدنه یکپارچه فلزی-پلاستیکی و صفحه نمایش با کیفیت حسی ارزنده را منتقل میکند. در مقایسه با قیمت از بسیاری از گوشی های همرده پرتوان تر است و امکانات زیادی را در اختیار کاربر میگذارد. تنها مورد قدرت پردازنده گرافیکی و CPU گوشی است که با توجه به رزولوشن بالای صفحه نمایش مقداری در اجرای بازی های سنگین کم می آورد. همچنین حجم زیادی از رم محدود 2 گیگی این گوشی توسط سیستم اشغال میشود و در بهترین مواقع تنها نیمی از آن قابل اسفاده برنامه های دیگر است. _x000D_\\nمورد دیگر کیفیت پایین دوربین و کیفیت پایینتر اسپیکر است. تصاویر هر دو دوربین بسیار پر نویز  و تار هستند. تنها با استفاده از فلش و یا در نور روز تصاویر بهتری میتوان ثبت کرد. صدایی که از اسپیکر خارج میشود خیلی بیکیفیت و دارای اکو و نویز بالاست. اما کیفیت صدای خروجی هدفون بسیار خوب است._x000D_\\nباتری در کارهای متداول سبک تا معمولی کارایی خوبی دارد، اما هنگام اجرای برنامه های سنگین خیلی زود خالی میشود. زمان شارژ شدن باتری نیز نسبتا طولانی است. (حدود 3 ساعت)_x000D_\\nدر کل این گوشی را به کسانی که استفاده سنگین مولتی تسکینگ و گیم دارند پیشنهاد نمیکنم. اما اگر کسی هستید که وبگردی، تماشای ویدئو و استفاده از برنامه های  سبک بخش اعظم استفاده شما از گوشی موبایل هستند، دوربین و اسپیکر برایتان از نان شب واجب تر نیست و به ظاهری زیبا و بدنه با کیفیت اهمیت میدهید در خرید آن شک نکنید.|\n",
            "|67200     |اگر ظرفیتش براتون کافیه حتما بخرید._x000D_\\nیه شارژر 5 ولت 2 آمپر براش تهیه کنید تا سریعتر شارژ شه. خود برند شیائومی شارژر های خوبی داره._x000D_\\nظرافتش خوبه و وزن و ضخامت کمی داره و مثل یه موبایل راحت حمل میشه. البته پیشنهاد من ظرفیت های بالاتر هست. چون این مدل بسته به ظرفیت باتری گوشیتون صرفا به اندازه یک الی 2 بار شارژ کردن، انرژی ذخیره میکنه.                                                                                                                                                                                                                                                                                                                                                                                                                                                                                                                                                                                                                                                                                                                                                                                                                                                                                                                                                                   |\n",
            "|133722    |سلام دوستان،،_x000D_\\nمنم مثه بعضی از دوستان قبل از خرید کلی تحقیق در مورد این لپ تاپ عالی انجام دادم و به این نتیجه رسیدم که از مدل های مشابه همین شرکت و شرکت های دیگه واقعا بهتره،، در طول تحقیق هم به اون ویدیو هایی که بعضی دوستامون اشاره کردن هم برخوردم که از براق بودن صفحه نمایش و لق بودن لولاهای لپ تاپ موقع استفاده از تاچ اسکرین ایراد گرفته بودن، منم خیلی ترسیدم از این بابت ولی وقتی که تصمیم گرفتم که انتخابم رو نهایی کنم و بدستم رسید لپ تاپ دیدم واقعا تمام اون گفته ها اقراری بیش نبوده و اصلا خبری از لق زدن صفحه نیست موقع تاچ مگر اینکه بخوای محکم بکوبی انگشتتو که اونوقت تو هر لپ تاپی مسئله لق زدن هست، ولی از این بابت هیچ مشکلی نیست و کاملا محکمه._x000D_\\nدر مورد بازتاب بیش از حد صفحه نمایش هم همینطور فقط اقرار شده، اگر بخوای تو محیط بسته قرار داشته باشی با یه پروژکتور  رو بروی صفحه بازهم این مسئله واسه همه لپ تاپ ها هست، و اینکه اگه حتی با یه لپ تاپی که صفحه مات داشته باشه بخوای تو فضای آزاد زیر نور شدید خورشید کار کنی محتوای صفحه ی اون رو هم نمیبینی (گفتم اینارو چون لپ تاپ قبلیم صفحش مات بوده و تجربه کردم)  ولی تو شرایط عادی و استفاده روزمره به مشکلی باهاش برنمیخوری._x000D_\\nامیدوارم تونسته باشم تو رفع بعضی شبهه ها واسه بعضی از دوستامون کمک کرده باشم.                                                                                                          |\n",
            "|148509    |من چند سالی هست که این اسپیکرو خریدم و واقعا حرف نداره _x000D_\\nبا برندای دیگه مثل شیائومی و جی بی ال و مارکای دیگه مقایسه کردم یه سرو گردن از همه لحاظ بالاتره اصلا تو خریدش شک نکنید                                                                                                                                                                                                                                                                                                                                                                                                                                                                                                                                                                                                                                                                                                                                                                                                                                                                                                                                                                                                                                                                                                                                         |\n",
            "|56871     |بوی تند ولی خوشبو داره.ماندگاریش خوبه و هر چقدر میگذره خوشبوتر میشه..                                                                                                                                                                                                                                                                                                                                                                                                                                                                                                                                                                                                                                                                                                                                                                                                                                                                                                                                                                                                                                                                                                                                                                                                                                                          |\n",
            "|49738     |متاسفانه عمر مفید این ماشین کم هست و بعد از دو سال دیگه با باطری کار نمیکنه و گیر میکنه به نحوی که هیچیک از دکمه ها کار نمیکنه تا چند ساعت در این حالت میمونه دوباره با اتصال به برق کار میکنه                                                                                                                                                                                                                                                                                                                                                                                                                                                                                                                                                                                                                                                                                                                                                                                                                                                                                                                                                                                                                                                                                                                                 |\n",
            "|161548    |خوب بودممنون                                                                                                                                                                                                                                                                                                                                                                                                                                                                                                                                                                                                                                                                                                                                                                                                                                                                                                                                                                                                                                                                                                                                                                                                                                                                                                                   |\n",
            "|5107      |نزدیک به دو ساله که این هارد رو خریدم. استفاده سنگینی ازش نداشتم فقط به عنوان یه بک آپ از تمام اطلاعات و عکس ها و فیلم ها ازش استفاده میکنم._x000D_\\nسرعت انتقال اطلاعاتش مناسبه. کیفیت ساخت خوبی داره، تو این دو سال هیچ مشکل و ایرادی نداشته._x000D_\\nیه مقدار وجود آداپتور اذیت میکنه که جا به جایی هارد رو سخت کرده که اونم با توجه به اینکه هارد دسکتاپ هست چیز عجییبی نیست._x000D_\\nوزن هارد هم یه مقدار زیاده که نسبت به نمونه های دسکتاپ دیگه خوبه.                                                                                                                                                                                                                                                                                                                                                                                                                                                                                                                                                                                                                                                                                                                                                                                                                                                                    |\n",
            "|156041    |بعد از گذشت 3سال و 60000کیلومتر کارکرد روی ماشینم که سمند موتور معمولی است دقیقا مثل روز اول کارایی دارد..                                                                                                                                                                                                                                                                                                                                                                                                                                                                                                                                                                                                                                                                                                                                                                                                                                                                                                                                                                                                                                                                                                                                                                                                                     |\n",
            "|134367    |افا از وقتی من اینو واسه پسرم خریدم همه بچه های فامیل عاشقش شدن واسه سوار شدنش یک دعوایی میکنن که واویلا جالب اینجاست همشونم دوچرخه وسه چرخه دارن اما نمیدونم این چی ئاره که دخترو پسر سر این باهم دعوا میکنن .شاید باورتون نشه بچه باجناقم به خاطر این تب کرده میگه من فقط اینو میخوام .....پرسنل زحمتکش دیجی کالا لطفا اینو موجود کنید بچه داره ازدست میره  ... خیلی ممنون.                                                                                                                                                                                                                                                                                                                                                                                                                                                                                                                                                                                                                                                                                                                                                                                                                                                                                                                                                  |\n",
            "|114006    |من این پاور بانک رو حدود یک سال پیش از دیجی کالا گرفتم و واقعا ازش راضی هستم و عالیه . در خریدش شک نکنید . شارژدهیش عالیه                                                                                                                                                                                                                                                                                                                                                                                                                                                                                                                                                                                                                                                                                                                                                                                                                                                                                                                                                                                                                                                                                                                                                                                                      |\n",
            "|151402    |این تیغ محصول کشور آمریکا هست ( در عکس محصول مشخص هست ) و توسط شرکت پلیکان در ایران توزیع میشه (در سایت شرکت پلیکان ایران ذکر شده). کیفیت کلی اصلاح مناسب هست و انتظارات شما از محصولی از کشور سازنده را برآورده میکنه. ایرادی که من باهاش برخوردم نقطه اتصال خیلی ضعیف تیغ به دسته هست که با کمترین فشاری ممکنه بشکنه و غیرقابل استفاده باشه، البته نقطه اتصال ضعیف مربوط به قسمت تعویض شونده هست و دسته مشکلی ندارد.                                                                                                                                                                                                                                                                                                                                                                                                                                                                                                                                                                                                                                                                                                                                                                                                                                                                                                         |\n",
            "|146879    |با توجه به قدرت خنک کنندگی حداقل ۲ ساعت زمان لازم داره تا یکم خنک کنه. گرم کن حدود ۱ ساعت                                                                                                                                                                                                                                                                                                                                                                                                                                                                                                                                                                                                                                                                                                                                                                                                                                                                                                                                                                                                                                                                                                                                                                                                                                      |\n",
            "|81254     |امیوارم کیفیتش همینطور بمونه_x000D_\\nمن مدت هاس ازین برند استفاده میکنم و راضی ام                                                                                                                                                                                                                                                                                                                                                                                                                                                                                                                                                                                                                                                                                                                                                                                                                                                                                                                                                                                                                                                                                                                                                                                                                                              |\n",
            "|26368     |الان حدود یک سالی هست که دارمش و خیلی راضی ام ازش                                                                                                                                                                                                                                                                                                                                                                                                                                                                                                                                                                                                                                                                                                                                                                                                                                                                                                                                                                                                                                                                                                                                                                                                                                                                              |\n",
            "|90894     |ساعت خوبی بود از نظر ظاهر و سنسوراش خوب بود_x000D_\\nولی یه بدی بزرگی که داره بعد 3 ماه بندش خشک گرفت و پاره شد بندشم هیچ جا حتی دیجی نداشت_x000D_\\nعملا دیگه قابل استفاده نبود_x000D_\\nبه نظرم با توجه به نظرات بقیه هم که گفتن پاره میشه تا وقتی که بند یدکی نداره نخرید پولتون میریزید دور                                                                                                                                                                                                                                                                                                                                                                                                                                                                                                                                                                                                                                                                                                                                                                                                                                                                                                                                                                                                                                   |\n",
            "|21340     |حدود یک ساله دارمش راضی ام ازش نسبت به قیمتش مناسبه                                                                                                                                                                                                                                                                                                                                                                                                                                                                                                                                                                                                                                                                                                                                                                                                                                                                                                                                                                                                                                                                                                                                                                                                                                                                            |\n",
            "+----------+-------------------------------------------------------------------------------------------------------------------------------------------------------------------------------------------------------------------------------------------------------------------------------------------------------------------------------------------------------------------------------------------------------------------------------------------------------------------------------------------------------------------------------------------------------------------------------------------------------------------------------------------------------------------------------------------------------------------------------------------------------------------------------------------------------------------------------------------------------------------------------------------------------------------------------------------------------------------------------------------------------------------------------------------------------------------------------------------------------------------------------------------------------------------------------------------------------------------------------------------------------------------------------------------------------------------------------+\n",
            "only showing top 20 rows\n",
            "\n"
          ]
        }
      ]
    },
    {
      "cell_type": "code",
      "source": [
        "df_res.show(truncate=False)"
      ],
      "metadata": {
        "colab": {
          "base_uri": "https://localhost:8080/"
        },
        "id": "CT5qjOrnRylE",
        "outputId": "d496cdd5-33b8-4eb3-d667-69101a18a5d4"
      },
      "execution_count": 61,
      "outputs": [
        {
          "output_type": "stream",
          "name": "stdout",
          "text": [
            "+----------+--------------------------------------------------------------------------------------------------------------------------------------------------------------------------------------------------------------------------------------------------------------------------------------------------------------------------------------------------------------------------------------------------------------------------------------------------------------------------------------------------------------------------------------------------------------------------------------------------------------------------------------------------------------------------------------------------------------------------------------------------------------------------------------------------------------------------------------------------------------------------------------------------------------------------------------------------------------------------------------------------------------------------------------------------------------------------------------------------------------------------------------------------------------------------------------------------------------------------------------------------------------+\n",
            "|product_id|comment                                                                                                                                                                                                                                                                                                                                                                                                                                                                                                                                                                                                                                                                                                                                                                                                                                                                                                                                                                                                                                                                                                                                                                                                                                                       |\n",
            "+----------+--------------------------------------------------------------------------------------------------------------------------------------------------------------------------------------------------------------------------------------------------------------------------------------------------------------------------------------------------------------------------------------------------------------------------------------------------------------------------------------------------------------------------------------------------------------------------------------------------------------------------------------------------------------------------------------------------------------------------------------------------------------------------------------------------------------------------------------------------------------------------------------------------------------------------------------------------------------------------------------------------------------------------------------------------------------------------------------------------------------------------------------------------------------------------------------------------------------------------------------------------------------+\n",
            "|3692      |واقعا عالیه من که ازش خیلی راضیم                                                                                                                                                                                                                                                                                                                                                                                                                                                                                                                                                                                                                                                                                                                                                                                                                                                                                                                                                                                                                                                                                                                                                                                                                              |\n",
            "|90213     |سلام قبل اینکه نظرم رو بگم میخواستم به یک موضوع مهم اشاره کنم که نظراتی که ما برای کالاها ثبت میکنیم خیلی مهم هستن بسیاری از مردم عزیز با استناد به این نظرات یک کالا رو خریداری میکنن پس بهتره ک نظر غیر کارشناسی و الکی ندیم من سال این پاور بانک رو دارم برای نفر اشنا هم خریدم پیشنهاد ویژه خریدم واقعا از هر نظر عالیه بعد گذشت سال هنوزم بار ایفون se رو شارژ میکنه در خصوص زمان شارژ گفته بودن دوستان اگر با کابل پاور شارژ کنید حدود ساعت میشه اما اگر هر کابل دیگه ای وصل کنید تا ساعت میکشه همزمان با این پاور یک adata هم برای همسرم خریدم اونم درومد ولی حدود افت داشته و کمتر بازدهی شارژ داره طبق تجربه من و اطرافیانم ک شیائومی داشتن اگر کالایی ک میخرید اصل باشه فیک زیاد داره واقعا شیائومی حرف و میزنه anke هم برند خیلی ولی گرونه هفته پیش از دیجی خریدم a اونم واقعا سبک و عالیه و بازدهی بالایی داره خروجی هوشمند داره مجموع امپر میده حداکثر یک خروجی میده ببخشید طولانی شد                                                                                                                                                                                                                                                                                                                                                            |\n",
            "|59473     |گیره های فلزی خیلی سخت تا میشوند و لذا حوله را خیلی سخت می توان در آورد مهسان یه مدل دیگه داره که پلاستیکی هست و خیلی ساده و راحت خم می به نظرم تولید این طرح را باید متوقف کنن گیره های آهنی خیلی سفت هستن و وقتی می خواستم خمشون کنم پایه پلاستیکیش شکست و بلا استفاده شد                                                                                                                                                                                                                                                                                                                                                                                                                                                                                                                                                                                                                                                                                                                                                                                                                                                                                                                                                                                   |\n",
            "|120499    |همه چیز در رابطه با ظاهر این گوشی بسیار است بدنه یکپارچه فلزی پلاستیکی و صفحه نمایش با کیفیت حسی ارزنده را منتقل میکند در مقایسه با قیمت از بسیاری از گوشی های همرده پرتوان تر است و امکانات زیادی را در اختیار کاربر میگذارد تنها مورد قدرت پردازنده گرافیکی و CPU گوشی است که با توجه به رزولوشن بالای صفحه نمایش مقداری در اجرای بازی های سنگین کم می آورد همچنین حجم زیادی از رم محدود گیگی این گوشی توسط سیستم اشغال میشود و در بهترین مواقع تنها نیمی از آن قابل اسفاده برنامه های دیگر است مورد دیگر کیفیت پایین دوربین و کیفیت پایینتر اسپیکر است تصاویر هر دو دوربین بسیار پر نویز و تار هستند تنها با استفاده از فلش و یا در روز تصاویر بهتری میتوان ثبت کرد صدایی که از اسپیکر خارج میشود خیلی بیکیفیت و دارای اکو و نویز بالاست اما کیفیت صدای خروجی هدفون بسیار است باتری در کارهای متداول سبک تا معمولی کارایی خوبی دارد اما هنگام اجرای برنامه های سنگین خیلی خالی میشود زمان شارژ شدن باتری نیز نسبتا طولانی است حدود ساعت در کل این گوشی را به کسانی که استفاده سنگین مولتی تسکینگ و گیم دارند پیشنهاد نمیکنم اما اگر کسی هستید که وبگردی تماشای ویدئو و استفاده از برنامه های سبک بخش اعظم استفاده شما از گوشی موبایل هستند دوربین و اسپیکر برایتان از نان شب واجب تر نیست و به ظاهری زیبا و بدنه با کیفیت اهمیت میدهید در خرید آن شک نکنید |\n",
            "|67200     |اگر ظرفیتش براتون کافیه حتما بخرید یه شارژر ولت آمپر براش تهیه کنید تا سریعتر شارژ شه برند شیائومی شارژر های خوبی داره ظرافتش خوبه و وزن و ضخامت کمی داره و مثل یه موبایل راحت حمل میشه البته پیشنهاد من ظرفیت های بالاتر هست این مدل بسته به ظرفیت باتری گوشیتون صرفا به اندازه یک الی بار شارژ کردن انرژی ذخیره میکنه                                                                                                                                                                                                                                                                                                                                                                                                                                                                                                                                                                                                                                                                                                                                                                                                                                                                                                                                       |\n",
            "|133722    |سلام دوستان منم مثه بعضی از دوستان قبل از خرید کلی تحقیق در مورد این لپ تاپ عالی انجام دادم و به این نتیجه رسیدم که از مدل های مشابه همین شرکت و شرکت های دیگه واقعا بهتره در تحقیق هم به ویدیو هایی که بعضی دوستامون اشاره کردن هم برخوردم که از براق بودن صفحه نمایش و لق بودن لولاهای لپ تاپ موقع استفاده از تاچ اسکرین ایراد گرفته بودن منم خیلی ترسیدم از این بابت ولی وقتی که تصمیم گرفتم که انتخابم رو نهایی کنم و بدستم رسید لپ تاپ دیدم واقعا تمام گفته ها اقراری بیش نبوده و اصلا خبری از لق زدن صفحه نیست موقع تاچ مگر اینکه بخوای محکم بکوبی انگشتتو که اونوقت تو هر لپ تاپی مسئله لق زدن هست ولی از این بابت هیچ مشکلی نیست و کاملا محکمه در مورد بازتاب بیش از حد صفحه نمایش هم همینطور فقط اقرار شده اگر بخوای تو محیط بسته قرار داشته باشی با یه پروژکتور رو بروی صفحه بازهم این مسئله واسه همه لپ تاپ ها هست و اینکه اگه حتی با یه لپ تاپی که صفحه مات داشته باشه بخوای تو فضای آزاد زیر شدید خورشید کار کنی محتوای صفحه ی رو هم نمیبینی گفتم اینارو لپ تاپ قبلیم صفحش مات بوده و تجربه کردم ولی تو شرایط عادی و استفاده روزمره به مشکلی باهاش برنمیخوری امیدوارم تونسته باشم تو رفع بعضی شبهه ها واسه بعضی از دوستامون کمک کرده باشم                                                                                                        |\n",
            "|148509    |من چند سالی هست که این اسپیکرو خریدم و واقعا حرف نداره با برندای دیگه مثل شیائومی و جی بی ال و مارکای دیگه مقایسه کردم یه سرو گردن از همه لحاظ بالاتره اصلا تو خریدش شک نکنید                                                                                                                                                                                                                                                                                                                                                                                                                                                                                                                                                                                                                                                                                                                                                                                                                                                                                                                                                                                                                                                                                 |\n",
            "|56871     |بوی تند ولی خوشبو داره ماندگاریش خوبه و هر چقدر میگذره خوشبوتر میشه                                                                                                                                                                                                                                                                                                                                                                                                                                                                                                                                                                                                                                                                                                                                                                                                                                                                                                                                                                                                                                                                                                                                                                                           |\n",
            "|49738     |متاسفانه عمر مفید این ماشین کم هست و بعد از دو سال دیگه با باطری کار نمیکنه و گیر میکنه به نحوی که هیچیک از دکمه ها کار نمیکنه تا چند ساعت در این حالت میمونه دوباره با اتصال به برق کار میکنه                                                                                                                                                                                                                                                                                                                                                                                                                                                                                                                                                                                                                                                                                                                                                                                                                                                                                                                                                                                                                                                                |\n",
            "|161548    |خوب بودممنون                                                                                                                                                                                                                                                                                                                                                                                                                                                                                                                                                                                                                                                                                                                                                                                                                                                                                                                                                                                                                                                                                                                                                                                                                                                  |\n",
            "|5107      |نزدیک به دو ساله که این هارد رو خریدم استفاده سنگینی ازش نداشتم فقط به عنوان یه بک آپ از تمام اطلاعات و عکس ها و فیلم ها ازش استفاده میکنم سرعت انتقال اطلاعاتش مناسبه کیفیت ساخت خوبی داره تو این دو سال هیچ مشکل و ایرادی نداشته یه مقدار وجود آداپتور اذیت میکنه که جا به جایی هارد رو سخت کرده که اونم با توجه به اینکه هارد دسکتاپ هست چیز عجییبی نیست وزن هارد هم یه مقدار زیاده که نسبت به نمونه های دسکتاپ دیگه خوبه                                                                                                                                                                                                                                                                                                                                                                                                                                                                                                                                                                                                                                                                                                                                                                                                                                  |\n",
            "|156041    |بعد از گذشت سال و کیلومتر کارکرد ماشینم که سمند موتور معمولی است دقیقا مثل اول کارایی دارد                                                                                                                                                                                                                                                                                                                                                                                                                                                                                                                                                                                                                                                                                                                                                                                                                                                                                                                                                                                                                                                                                                                                                                    |\n",
            "|134367    |افا از وقتی من اینو واسه پسرم خریدم همه بچه های فامیل عاشقش شدن واسه سوار شدنش یک دعوایی میکنن که واویلا جالب اینجاست همشونم دوچرخه وسه چرخه دارن اما نمیدونم این چی ئاره که دخترو پسر سر این باهم دعوا میکنن شاید باورتون نشه بچه باجناقم به خاطر این تب کرده میگه من فقط اینو میخوام پرسنل زحمتکش دیجی کالا لطفا اینو موجود کنید بچه داره ازدست میره خیلی ممنون                                                                                                                                                                                                                                                                                                                                                                                                                                                                                                                                                                                                                                                                                                                                                                                                                                                                                             |\n",
            "|114006    |من این پاور بانک رو حدود یک سال پیش از دیجی کالا گرفتم و واقعا ازش راضی هستم و عالیه در خریدش شک نکنید شارژدهیش عالیه                                                                                                                                                                                                                                                                                                                                                                                                                                                                                                                                                                                                                                                                                                                                                                                                                                                                                                                                                                                                                                                                                                                                         |\n",
            "|151402    |این تیغ محصول کشور آمریکا هست در عکس محصول مشخص هست و توسط شرکت پلیکان در ایران توزیع میشه در سایت شرکت پلیکان ایران ذکر شده کیفیت کلی اصلاح مناسب هست و انتظارات شما از محصولی از کشور سازنده را برآورده میکنه ایرادی که من باهاش برخوردم نقطه اتصال خیلی ضعیف تیغ به دسته هست که با کمترین فشاری ممکنه بشکنه و غیرقابل استفاده باشه البته نقطه اتصال ضعیف مربوط به قسمت تعویض شونده هست و دسته مشکلی ندارد                                                                                                                                                                                                                                                                                                                                                                                                                                                                                                                                                                                                                                                                                                                                                                                                                                                  |\n",
            "|146879    |با توجه به قدرت خنک کنندگی حداقل ساعت زمان لازم داره تا یکم خنک کنه گرم کن حدود ساعت                                                                                                                                                                                                                                                                                                                                                                                                                                                                                                                                                                                                                                                                                                                                                                                                                                                                                                                                                                                                                                                                                                                                                                          |\n",
            "|81254     |امیوارم کیفیتش همینطور بمونه من مدت هاس ازین برند استفاده میکنم و راضی ام                                                                                                                                                                                                                                                                                                                                                                                                                                                                                                                                                                                                                                                                                                                                                                                                                                                                                                                                                                                                                                                                                                                                                                                     |\n",
            "|26368     |الان حدود یک سالی هست که دارمش و خیلی راضی ام ازش                                                                                                                                                                                                                                                                                                                                                                                                                                                                                                                                                                                                                                                                                                                                                                                                                                                                                                                                                                                                                                                                                                                                                                                                             |\n",
            "|90894     |ساعت خوبی از نظر ظاهر و سنسوراش بود ولی یه بدی بزرگی که داره بعد ماه بندش خشک گرفت و پاره شد بندشم هیچ جا حتی دیجی نداشت عملا دیگه قابل استفاده نبود به نظرم با توجه به نظرات بقیه هم که گفتن پاره میشه تا وقتی که بند یدکی نداره نخرید پولتون میریزید دور                                                                                                                                                                                                                                                                                                                                                                                                                                                                                                                                                                                                                                                                                                                                                                                                                                                                                                                                                                                                    |\n",
            "|21340     |حدود یک ساله دارمش راضی ام ازش نسبت به قیمتش مناسبه                                                                                                                                                                                                                                                                                                                                                                                                                                                                                                                                                                                                                                                                                                                                                                                                                                                                                                                                                                                                                                                                                                                                                                                                           |\n",
            "+----------+--------------------------------------------------------------------------------------------------------------------------------------------------------------------------------------------------------------------------------------------------------------------------------------------------------------------------------------------------------------------------------------------------------------------------------------------------------------------------------------------------------------------------------------------------------------------------------------------------------------------------------------------------------------------------------------------------------------------------------------------------------------------------------------------------------------------------------------------------------------------------------------------------------------------------------------------------------------------------------------------------------------------------------------------------------------------------------------------------------------------------------------------------------------------------------------------------------------------------------------------------------------+\n",
            "only showing top 20 rows\n",
            "\n"
          ]
        }
      ]
    },
    {
      "cell_type": "code",
      "source": [
        ""
      ],
      "metadata": {
        "colab": {
          "base_uri": "https://localhost:8080/"
        },
        "id": "FOLs5bzrhvcY",
        "outputId": "2d5732f6-c3cf-4408-9e17-810129fcf6c8"
      },
      "execution_count": 30,
      "outputs": [
        {
          "output_type": "execute_result",
          "data": {
            "text/plain": [
              "pyspark.sql.dataframe.DataFrame"
            ]
          },
          "metadata": {},
          "execution_count": 30
        }
      ]
    },
    {
      "cell_type": "code",
      "source": [
        "df_word_count = df_res.withColumn('wordCount', F.size(F.split(F.col('comment'), ' ')))\n",
        "df_word_count.select('product_id','wordCount').show(100)"
      ],
      "metadata": {
        "colab": {
          "base_uri": "https://localhost:8080/"
        },
        "id": "EloEGPgcXfqa",
        "outputId": "95913e2b-3095-4adc-de45-cc9256fec5e3"
      },
      "execution_count": 62,
      "outputs": [
        {
          "output_type": "stream",
          "name": "stdout",
          "text": [
            "+----------+---------+\n",
            "|product_id|wordCount|\n",
            "+----------+---------+\n",
            "|      3692|        7|\n",
            "|     90213|      182|\n",
            "|     59473|       60|\n",
            "|    120499|      247|\n",
            "|     67200|       64|\n",
            "|    133722|      238|\n",
            "|    148509|       38|\n",
            "|     56871|       14|\n",
            "|     49738|       43|\n",
            "|    161548|        2|\n",
            "|      5107|       89|\n",
            "|    156041|       19|\n",
            "|    134367|       72|\n",
            "|    114006|       26|\n",
            "|    151402|       80|\n",
            "|    146879|       19|\n",
            "|     81254|       14|\n",
            "|     26368|       12|\n",
            "|     90894|       55|\n",
            "|     21340|       11|\n",
            "|    144139|       87|\n",
            "|    138040|       56|\n",
            "|    105719|       42|\n",
            "|    147165|       42|\n",
            "|    116387|       38|\n",
            "|     73064|       65|\n",
            "|    110040|       90|\n",
            "|    139131|       52|\n",
            "|     80854|        6|\n",
            "|    163519|       10|\n",
            "|    102068|      431|\n",
            "|    129988|       34|\n",
            "|    130386|      103|\n",
            "|    160008|       31|\n",
            "|     93850|      126|\n",
            "|    154624|       75|\n",
            "|    106471|        7|\n",
            "|    112714|       55|\n",
            "|    104427|       74|\n",
            "|    133709|       65|\n",
            "|     55495|      104|\n",
            "|    121304|       89|\n",
            "|    150718|       22|\n",
            "|    154559|       23|\n",
            "|    127328|      127|\n",
            "|    162788|       38|\n",
            "|     24666|       73|\n",
            "|     81429|       16|\n",
            "|     58800|       13|\n",
            "|    149656|       24|\n",
            "|     39074|      123|\n",
            "|    181602|       44|\n",
            "|      3914|       22|\n",
            "|    154067|       43|\n",
            "|     45483|       17|\n",
            "|    138721|       71|\n",
            "|    181477|        8|\n",
            "|     98676|       84|\n",
            "|    120648|       16|\n",
            "|    123316|        4|\n",
            "|    153949|       17|\n",
            "|     64043|      107|\n",
            "|    127401|       99|\n",
            "|    157938|       21|\n",
            "|    159000|        8|\n",
            "|     33428|      115|\n",
            "|     39527|       10|\n",
            "|    117313|       34|\n",
            "|    150824|       21|\n",
            "|    114167|       25|\n",
            "|    147108|        9|\n",
            "|    159149|       30|\n",
            "|    180591|      220|\n",
            "|    147108|       12|\n",
            "|     56710|       63|\n",
            "|    159141|       51|\n",
            "|    141385|       62|\n",
            "|    174014|       16|\n",
            "|    139131|      122|\n",
            "|    141719|       62|\n",
            "|    189737|       18|\n",
            "|    116483|       29|\n",
            "|    183945|       14|\n",
            "|    166853|      117|\n",
            "|    134558|       45|\n",
            "|    106424|       52|\n",
            "|    115614|       59|\n",
            "|    152429|       22|\n",
            "|     63384|       47|\n",
            "|      2118|       27|\n",
            "|    113352|        4|\n",
            "|     14762|       30|\n",
            "|     51981|      114|\n",
            "|    177683|       18|\n",
            "|    183430|      135|\n",
            "|    163713|       42|\n",
            "|    147614|       11|\n",
            "|     56736|       66|\n",
            "|    189665|       13|\n",
            "|     90575|        5|\n",
            "+----------+---------+\n",
            "only showing top 100 rows\n",
            "\n"
          ]
        }
      ]
    },
    {
      "cell_type": "code",
      "source": [
        "df_res = df_res.dropna()\n",
        "\n",
        "df_res = df_res.na.drop(\"all\")\n",
        "df_res.withColumn('word', F.explode(F.split(F.col('comment'), ' ')))\\\n",
        "    .groupBy('word')\\\n",
        "    .count()\\\n",
        "    .sort('count', ascending=False)\\\n",
        "    .show()\n"
      ],
      "metadata": {
        "colab": {
          "base_uri": "https://localhost:8080/"
        },
        "id": "XyBanPk-Yaig",
        "outputId": "5c8ffcc9-4c0d-4f41-81be-483e514e4113"
      },
      "execution_count": 64,
      "outputs": [
        {
          "output_type": "stream",
          "name": "stdout",
          "text": [
            "+-------+-----+\n",
            "|   word|count|\n",
            "+-------+-----+\n",
            "|      و|12014|\n",
            "|     که| 6134|\n",
            "|     از| 5902|\n",
            "|     به| 5070|\n",
            "|    این| 4886|\n",
            "|     من| 3790|\n",
            "|     با| 3655|\n",
            "|     رو| 3544|\n",
            "|   خیلی| 3485|\n",
            "|     هم| 3266|\n",
            "|     در| 3157|\n",
            "|   داره| 2230|\n",
            "|       | 2220|\n",
            "|   برای| 1991|\n",
            "|    ولی| 1990|\n",
            "|استفاده| 1782|\n",
            "|    هست| 1725|\n",
            "|  کیفیت| 1593|\n",
            "|   میشه| 1389|\n",
            "|    های| 1386|\n",
            "+-------+-----+\n",
            "only showing top 20 rows\n",
            "\n"
          ]
        }
      ]
    },
    {
      "cell_type": "code",
      "source": [
        ""
      ],
      "metadata": {
        "id": "carJMENWgyS2"
      },
      "execution_count": null,
      "outputs": []
    },
    {
      "cell_type": "code",
      "source": [
        "df_final = df_res.select(col(\"product_id\"),stop_words_deletion(col(\"comment\")).alias(\"comment\") ) \n",
        "#df_final.show(truncate=False)"
      ],
      "metadata": {
        "id": "NKKGm6JsaGJV"
      },
      "execution_count": 67,
      "outputs": []
    },
    {
      "cell_type": "code",
      "source": [
        "df_final.withColumn('word', F.explode(F.split(F.col('comment'), ' ')))\\\n",
        "    .groupBy('word')\\\n",
        "    .count()\\\n",
        "    .sort('count', ascending=False)\\\n",
        "    .show(100)"
      ],
      "metadata": {
        "colab": {
          "base_uri": "https://localhost:8080/"
        },
        "id": "WIBjGVXlgzUa",
        "outputId": "66630a90-0db7-4f1f-c750-8fa82c0bb6da"
      },
      "execution_count": 69,
      "outputs": [
        {
          "output_type": "stream",
          "name": "stdout",
          "text": [
            "+-------+-----+\n",
            "|   word|count|\n",
            "+-------+-----+\n",
            "|   داره| 2232|\n",
            "|استفاده| 1783|\n",
            "|    هست| 1726|\n",
            "|  کیفیت| 1594|\n",
            "|   میشه| 1389|\n",
            "|    های| 1386|\n",
            "|  خریدم| 1300|\n",
            "|     یه| 1205|\n",
            "|   گوشی| 1174|\n",
            "|   خوبه| 1140|\n",
            "|  عالیه| 1140|\n",
            "|  واقعا| 1076|\n",
            "|   اصلا|  981|\n",
            "|  میکنم|  933|\n",
            "|  نداره|  884|\n",
            "|   قیمت|  884|\n",
            "|  میکنه|  883|\n",
            "|   خرید|  858|\n",
            "|    کار|  837|\n",
            "|   دیجی|  808|\n",
            "|   راضی|  801|\n",
            "|   شارژ|  792|\n",
            "|پیشنهاد|  769|\n",
            "|   کالا|  707|\n",
            "|     ای|  663|\n",
            "|   باشه|  642|\n",
            "|   دیگه|  635|\n",
            "|  محصول|  629|\n",
            "|   سلام|  615|\n",
            "|    ازش|  570|\n",
            "|  قیمتش|  565|\n",
            "|    اگه|  548|\n",
            "| دستگاه|  492|\n",
            "|  گرفتم|  491|\n",
            "|   دارم|  489|\n",
            "|   ساعت|  464|\n",
            "|   حتما|  464|\n",
            "| دوستان|  455|\n",
            "|    ماه|  454|\n",
            "|    مدل|  453|\n",
            "|    رنگ|  444|\n",
            "|   الان|  440|\n",
            "|  راضیم|  428|\n",
            "|   ارزش|  413|\n",
            "|    جنس|  408|\n",
            "|  نمیشه|  381|\n",
            "|   میده|  381|\n",
            "|   بازی|  378|\n",
            "|    کنه|  374|\n",
            "|      ی|  370|\n",
            "|   هستش|  367|\n",
            "|    سال|  366|\n",
            "|   هستم|  352|\n",
            "|    دست|  346|\n",
            "|   مشکل|  330|\n",
            "|  خوبیه|  323|\n",
            "|  بخرید|  323|\n",
            "|   دستم|  322|\n",
            "|     تر|  317|\n",
            "|   راحت|  315|\n",
            "|    نمی|  313|\n",
            "|    بشه|  312|\n",
            "|    بگم|  303|\n",
            "|   توجه|  293|\n",
            "| دوربین|  291|\n",
            "|   شگفت|  290|\n",
            "| العاده|  283|\n",
            "|      ک|  281|\n",
            "|   صفحه|  280|\n",
            "|   صدای|  278|\n",
            "|    صدا|  274|\n",
            "|   بسته|  274|\n",
            "|  باهاش|  273|\n",
            "|   واسه|  273|\n",
            "|  داشتم|  261|\n",
            "|  انگیز|  261|\n",
            "|  مشکلی|  257|\n",
            "|    نصب|  256|\n",
            "|   سرعت|  253|\n",
            "|     بد|  253|\n",
            "|     آب|  250|\n",
            "|   زیبا|  239|\n",
            "|     ام|  237|\n",
            "|  ماشین|  236|\n",
            "|   دادم|  235|\n",
            "|   نظرم|  235|\n",
            "|  ممنون|  233|\n",
            "|   خودم|  232|\n",
            "|   خراب|  231|\n",
            "|  پایین|  228|\n",
            "|   داخل|  226|\n",
            "|    عکس|  226|\n",
            "|  باتری|  222|\n",
            "|    کلا|  220|\n",
            "|  طراحی|  220|\n",
            "|  خریدش|  219|\n",
            "|   ساخت|  217|\n",
            "|   حالت|  215|\n",
            "| اندازه|  215|\n",
            "|   روشن|  214|\n",
            "+-------+-----+\n",
            "only showing top 100 rows\n",
            "\n"
          ]
        }
      ]
    },
    {
      "cell_type": "code",
      "source": [
        "StopWord"
      ],
      "metadata": {
        "id": "8BoiT332blBM"
      },
      "execution_count": null,
      "outputs": []
    },
    {
      "cell_type": "code",
      "source": [
        "\n",
        "import re\n",
        "org_string = \"سلام دوستان،،_x000D_\\nمنم مثه بعضی از دوستان قبل از خرید کلی تحقیق در مورد این لپ تاپ عالی انجام دادم و به این نتیجه رسیدم که از مدل های مشابه همین شرکت و شرکت های دیگه واقعا بهتره،، در طول تحقیق هم به اون ویدیو هایی که بعضی دوستامون اشاره کردن هم برخوردم که از براق بودن صفحه نمایش و لق بودن لولاهای لپ تاپ موقع استفاده از تاچ اسکرین ایراد گرفته بودن، منم خیلی ترسیدم از این بابت ولی وقتی که تصمیم گرفتم که انتخابم رو نهایی کنم و بدستم رسید لپ تاپ دیدم واقعا تمام اون گفته ها اقراری بیش نبوده و اصلا خبری از لق زدن صفحه نیست موقع تاچ مگر اینکه بخوای محکم بکوبی انگشتتو که اونوقت تو هر لپ تاپی مسئله لق زدن هست، ولی از این بابت هیچ مشکلی نیست و کاملا محکم \"\n",
        "pattern = r'[0-9]'\n",
        "print(clean_normalized(org_string))\n",
        "#mod_string = re.sub(pattern, '', org_string)\n",
        "#mod_string = re.sub(r'[^\\w\\s]', '', org_string)\n",
        "\n",
        "#print(mod_string)"
      ],
      "metadata": {
        "id": "zM5cz_UY3JSb"
      },
      "execution_count": null,
      "outputs": []
    },
    {
      "cell_type": "code",
      "source": [
        ""
      ],
      "metadata": {
        "id": "SIYdlnAn6TUq"
      },
      "execution_count": null,
      "outputs": []
    },
    {
      "cell_type": "code",
      "source": [
        "comment_likes_dislikes = digikala.select(\"likes\",\"dislikes\",\"comment\")\n",
        "comment_likes_dislikes.show(30)"
      ],
      "metadata": {
        "id": "_EsS9g5kdTTP"
      },
      "execution_count": null,
      "outputs": []
    },
    {
      "cell_type": "code",
      "source": [
        "likeablity = comment_likes_dislikes.dropna().withColumn(\"likability\",comment_likes_dislikes[\"likes\"] - comment_likes_dislikes[\"dislikes\"])\n",
        "likeablity.show()\n"
      ],
      "metadata": {
        "id": "BVsOtxdKdrGp"
      },
      "execution_count": null,
      "outputs": []
    },
    {
      "cell_type": "code",
      "source": [
        "popular = likeablity.agg(F.max(\"likability\").alias(\"best\")).collect()\n",
        "popular"
      ],
      "metadata": {
        "id": "6KMQciYIga72"
      },
      "execution_count": null,
      "outputs": []
    },
    {
      "cell_type": "code",
      "source": [
        "\n",
        "normalizer = Normalizer()\n",
        "def normalize(text):\n",
        "  return nor\n",
        "s = 'سلام درخت ها را اب بده این نیز می رود'\n",
        "print (s)\n",
        "print(normalize(s))"
      ],
      "metadata": {
        "id": "_mPb-tZnfzJ9"
      },
      "execution_count": null,
      "outputs": []
    },
    {
      "cell_type": "markdown",
      "source": [
        "### Q4"
      ],
      "metadata": {
        "id": "Zo2yLTDECihs"
      }
    },
    {
      "cell_type": "code",
      "source": [
        "\n",
        "pdf = pd.read_csv(\"https://raw.githubusercontent.com/SajjadMb/PySpark-walkthrough/main/data/digikala_comments.csv\")\n",
        "selected = pdf.comment\n",
        "df = pd.DataFrame(selected)\n",
        "\n",
        "df"
      ],
      "metadata": {
        "id": "v9mSnzTMCj7G"
      },
      "execution_count": null,
      "outputs": []
    },
    {
      "cell_type": "code",
      "source": [
        "from pyspark.sql.types import *\n",
        "from pyspark.sql import SQLContext\n",
        "sqlContext = SQLContext(sc)\n",
        "\n",
        "\n",
        "# Auxiliar functions\n",
        "def equivalent_type(f):\n",
        "    if f == 'datetime64[ns]': return TimestampType()\n",
        "    elif f == 'int64': return LongType()\n",
        "    elif f == 'int32': return IntegerType()\n",
        "    elif f == 'float64': return FloatType()\n",
        "    else: return StringType()\n",
        "\n",
        "def define_structure(string, format_type):\n",
        "    try: typo = equivalent_type(format_type)\n",
        "    except: typo = StringType()\n",
        "    return StructField(string, typo)\n",
        "\n",
        "# Given pandas dataframe, it will return a spark's dataframe.\n",
        "def pandas_to_spark(pandas_df):\n",
        "    columns = list(pandas_df.columns)\n",
        "    types = list(pandas_df.dtypes)\n",
        "    struct_list = []\n",
        "    for column, typo in zip(columns, types): \n",
        "      struct_list.append(define_structure(column, typo))\n",
        "    p_schema = StructType(struct_list)\n",
        "    return sqlContext.createDataFrame(pandas_df, p_schema)"
      ],
      "metadata": {
        "id": "7XDRnopvH9Pi"
      },
      "execution_count": null,
      "outputs": []
    },
    {
      "cell_type": "code",
      "source": [
        "res=pandas_to_spark(pdf)"
      ],
      "metadata": {
        "id": "L1VjPJRSIgVc"
      },
      "execution_count": null,
      "outputs": []
    },
    {
      "cell_type": "code",
      "source": [
        ""
      ],
      "metadata": {
        "id": "eOoHEZv4POjK"
      },
      "execution_count": null,
      "outputs": []
    },
    {
      "cell_type": "code",
      "source": [
        "res.show()\n",
        "\n"
      ],
      "metadata": {
        "id": "U1X4nN95GKed"
      },
      "execution_count": null,
      "outputs": []
    },
    {
      "cell_type": "code",
      "source": [
        "res.printSchema"
      ],
      "metadata": {
        "id": "vh7IfGmTbuJZ"
      },
      "execution_count": null,
      "outputs": []
    },
    {
      "cell_type": "code",
      "source": [
        "comment = pandas_to_spark(df)\n",
        "comment.show()\n",
        "print(comment.collect()[1])"
      ],
      "metadata": {
        "id": "aDBvL2t_Korc"
      },
      "execution_count": null,
      "outputs": []
    },
    {
      "cell_type": "code",
      "source": [
        "from hazm import *\n",
        "from pyspark.sql.functions import udf\n",
        "from pyspark.sql.functions import col\n",
        "\n",
        "normalizer = Normalizer()\n",
        "def normalize(text):\n",
        "  normalized = normalizer.normalize(text)\n",
        "  return normalized\n",
        "s = ' اگر هر کابل دیگه ای وصل کنیدی'\n",
        "a = normalize(s)\n",
        "print(s)\n",
        "print(a)\n",
        "\n",
        "convertUDF = udf(lambda z: normalize(z)) \n",
        "\n",
        "normal_res = res.select(col(\"product_id\"), \\\n",
        "    convertUDF(col(\"comment\")).alias(\"comment\") ) \\\n",
        "   .show(truncate=False)\n"
      ],
      "metadata": {
        "id": "CRBxQhPZT4XJ"
      },
      "execution_count": null,
      "outputs": []
    },
    {
      "cell_type": "code",
      "source": [
        "print(normal_res.collect()[5])\n",
        "print(comment.collect()[5])"
      ],
      "metadata": {
        "id": "DrFGGiu6XFWK"
      },
      "execution_count": null,
      "outputs": []
    }
  ]
}