{
  "nbformat": 4,
  "nbformat_minor": 0,
  "metadata": {
    "colab": {
      "name": "pySpark.ipynb",
      "provenance": [],
      "authorship_tag": "ABX9TyO6PFOfG38pqqov7iwxPqfx",
      "include_colab_link": true
    },
    "kernelspec": {
      "name": "python3",
      "display_name": "Python 3"
    },
    "language_info": {
      "name": "python"
    }
  },
  "cells": [
    {
      "cell_type": "markdown",
      "metadata": {
        "id": "view-in-github",
        "colab_type": "text"
      },
      "source": [
        "<a href=\"https://colab.research.google.com/github/nafisenik/DataMinig_pySpark/blob/main/pySpark.ipynb\" target=\"_parent\"><img src=\"https://colab.research.google.com/assets/colab-badge.svg\" alt=\"Open In Colab\"/></a>"
      ]
    },
    {
      "cell_type": "code",
      "execution_count": 1,
      "metadata": {
        "id": "Jcmn-XHn1U-e"
      },
      "outputs": [],
      "source": [
        "import random\n",
        "import statistics\n",
        "from time import time\n",
        "import numpy as np\n",
        "from operator import add\n",
        "import matplotlib.pyplot as plt\n",
        "import math\n",
        "from pyspark.sql import SparkSession"
      ]
    },
    {
      "cell_type": "code",
      "source": [
        "def MC_pi_estimator(iteration):\n",
        "  circle_point = 0\n",
        "  total_point = 0\n",
        "  p_list =[]\n",
        "  hit = 0\n",
        "  start = time()\n",
        "  for i in range(iteration):\n",
        "    x, y = random.uniform(-1, 1), random.uniform(-1, 1)   \n",
        "    if x**2 + y**2 < 1:\n",
        "      circle_point += 1\n",
        "    total_point += 1\n",
        "    pi_num = 4.0 * circle_point / total_point\n",
        "    p_list.append(pi_num)\n",
        "  t = np.round(time() - start, 3)\n",
        "  return p_list, t, pi_num"
      ],
      "metadata": {
        "id": "dccbXdZJVjzb"
      },
      "execution_count": 2,
      "outputs": []
    },
    {
      "cell_type": "code",
      "source": [
        "ITERATION = 1000000\n",
        "pi_list ,time, pi_est = MC_pi_estimator(ITERATION)\n",
        "pi_mean = statistics.mean(pi_list)\n",
        "pi_variance = statistics.variance(pi_list)\n",
        "print(f'Mean of P estimate: {pi_mean}')\n",
        "print(f'Variance of P estimate: {pi_variance}')"
      ],
      "metadata": {
        "colab": {
          "base_uri": "https://localhost:8080/"
        },
        "id": "lnf4zY6FL3Vl",
        "outputId": "fd3bdd7f-8729-4f40-c947-be2741ae0390"
      },
      "execution_count": 3,
      "outputs": [
        {
          "output_type": "stream",
          "name": "stdout",
          "text": [
            "Mean of P estimate: 3.1452383664615278\n",
            "variance of P estimate: 4.331806713411681e-05\n"
          ]
        }
      ]
    },
    {
      "cell_type": "markdown",
      "source": [
        "### Q1"
      ],
      "metadata": {
        "id": "OaDuoGaWL5zC"
      }
    },
    {
      "cell_type": "code",
      "source": [
        "!pip install pyspark"
      ],
      "metadata": {
        "colab": {
          "base_uri": "https://localhost:8080/"
        },
        "id": "VE-YAJH9L8H6",
        "outputId": "6a572500-f52f-4cb8-ef0e-99fc058e5b73"
      },
      "execution_count": 5,
      "outputs": [
        {
          "output_type": "stream",
          "name": "stdout",
          "text": [
            "Collecting pyspark\n",
            "  Downloading pyspark-3.2.1.tar.gz (281.4 MB)\n",
            "\u001b[K     |████████████████████████████████| 281.4 MB 32 kB/s \n",
            "\u001b[?25hCollecting py4j==0.10.9.3\n",
            "  Downloading py4j-0.10.9.3-py2.py3-none-any.whl (198 kB)\n",
            "\u001b[K     |████████████████████████████████| 198 kB 48.7 MB/s \n",
            "\u001b[?25hBuilding wheels for collected packages: pyspark\n",
            "  Building wheel for pyspark (setup.py) ... \u001b[?25l\u001b[?25hdone\n",
            "  Created wheel for pyspark: filename=pyspark-3.2.1-py2.py3-none-any.whl size=281853642 sha256=990fd0a2484401278c54da4f8a04f031ddca58e9b0e872459c5a8a18b8929ad8\n",
            "  Stored in directory: /root/.cache/pip/wheels/9f/f5/07/7cd8017084dce4e93e84e92efd1e1d5334db05f2e83bcef74f\n",
            "Successfully built pyspark\n",
            "Installing collected packages: py4j, pyspark\n",
            "Successfully installed py4j-0.10.9.3 pyspark-3.2.1\n"
          ]
        }
      ]
    },
    {
      "cell_type": "code",
      "source": [
        "import pyspark as py\n",
        "print(py.__version__)"
      ],
      "metadata": {
        "colab": {
          "base_uri": "https://localhost:8080/"
        },
        "id": "RC0A3gpjMTHV",
        "outputId": "c785f680-b72a-4ee7-f6a4-9a67bc669301"
      },
      "execution_count": 6,
      "outputs": [
        {
          "output_type": "stream",
          "name": "stdout",
          "text": [
            "3.2.1\n"
          ]
        }
      ]
    },
    {
      "cell_type": "code",
      "source": [
        "def is_inside(p):\n",
        "  x, y = random.uniform(-1, 1), random.uniform(-1, 1)\n",
        "  return x**2 + y**2 < 1 "
      ],
      "metadata": {
        "id": "g6lRjN_rhnin"
      },
      "execution_count": null,
      "outputs": []
    },
    {
      "cell_type": "markdown",
      "source": [
        "### Q2"
      ],
      "metadata": {
        "id": "bKQoM3gSMkIu"
      }
    },
    {
      "cell_type": "code",
      "source": [
        "def MC_pi_spark(n, exec):\n",
        "\n",
        "    start = time()\n",
        "    hit = sc.parallelize(range(0, n), exec) \\\n",
        "        .map(is_inside).reduce(add)\n",
        "    pi = 4.0 * hit / n\n",
        "    timing = np.round(time() - start, 3)\n",
        "    return pi, timing\n",
        "\n",
        "spark = SparkSession.builder.appName('Pi').getOrCreate()\n",
        "sc = spark.sparkContext\n",
        "\n",
        "# Number of iterations\n",
        "N = [10000, 50000, 100000, 500000, 1000000, 5000000, 10000000, 50000000, 100000000]\n",
        "\n",
        "# Buffers to record the time taken for naive, default, and 2 clusters, respectively\n",
        "T = []\n",
        "T_spark_2_executors = []\n",
        "T_spark_4_executors = []\n",
        "\n",
        "# Buffers to record the value of pi for naive, 2 executers, and 4 executors\n",
        "P = []\n",
        "P_spark_2_executors = []\n",
        "P_spark_4_executors = []\n",
        "\n",
        "# Run naive and default Spark version\n",
        "print(\"\\n===== Naive Method =====\")\n",
        "for n in N:\n",
        "    pi, t = naive_method(n)\n",
        "    P.append(pi)\n",
        "    T.append(t)               # Naive method\n",
        "\n",
        "print(\"\\n===== Spark Method 4 clusters =====\")\n",
        "for n in N:\n",
        "    pi, t = spark_method(n, 4)\n",
        "    P_spark_4_executors.append(pi)\n",
        "    T_spark_4_executors.append(t)     # Default Spark method (4 clusters)\n",
        "\n",
        "# Stop the Spark session\n",
        "spark.stop()\n",
        "\n",
        "# Since we cannot have 2 different sparks running at the same time, we close the previous\n",
        "# one and start a new one and initialize how many clusters we want to use\n",
        "# Run Spark version with 2 clusters\n",
        "spark = SparkSession.builder.appName('EstimatePi').getOrCreate()\n",
        "sc = spark.sparkContext\n",
        "print(\"\\n===== Spark Method 2 clusters =====\")\n",
        "for n in N:\n",
        "    pi, t = spark_method(n, 2)\n",
        "    P_spark_2_executors.append(pi)\n",
        "    T_spark_2_executors.append(t)\n",
        "\n",
        "spark.stop()\n",
        "\n",
        "# Plot time taken for each iteration\n",
        "plt.figure(1)\n",
        "plt.plot(N, T, label=\"naive\")\n",
        "plt.plot(N, T_spark_2_executors, label=\"spark - 2 exec\")\n",
        "plt.plot(N, T_spark_4_executors, label=\"spark - 4 exec\")\n",
        "\n",
        "plt.xscale(\"log\")\n",
        "plt.xlabel(\"Total number of points.\")\n",
        "plt.ylabel(\"Time to estimate pi (sec.)\")\n",
        "plt.legend()\n",
        "plt.show()\n",
        "\n",
        "# Plot convergence of pi estimate\n",
        "plt.figure(2)\n",
        "plt.plot(N, P, label=\"naive\")\n",
        "plt.plot(N, P_spark_2_executors, label=\"spark - 2 exec\")\n",
        "plt.plot(N, P_spark_4_executors, label=\"spark - 4 exec\")\n",
        "plt.hlines(y=math.pi, xmin=0, xmax=100000000, colors='k', linestyles='dashed', label=\"pi\")\n",
        "\n",
        "plt.xscale(\"log\")\n",
        "plt.xlabel(\"Total Number of Iterations\")\n",
        "plt.ylabel(\"Pi Estimate\")\n",
        "plt.legend()\n",
        "plt.show()"
      ],
      "metadata": {
        "colab": {
          "base_uri": "https://localhost:8080/",
          "height": 1000
        },
        "id": "z0qFAxZKNhAG",
        "outputId": "79908c55-abfc-4fe9-fe49-eafd8bc3442a"
      },
      "execution_count": 7,
      "outputs": [
        {
          "output_type": "stream",
          "name": "stdout",
          "text": [
            "\n",
            "===== Naive Method =====\n",
            "iterations: 10000\t\tpi= 3.1364\t\tseconds= 0.007\n",
            "iterations: 50000\t\tpi= 3.13608\t\tseconds= 0.028\n",
            "iterations: 100000\t\tpi= 3.14496\t\tseconds= 0.037\n",
            "iterations: 500000\t\tpi= 3.143336\t\tseconds= 0.205\n",
            "iterations: 1000000\t\tpi= 3.145308\t\tseconds= 0.373\n",
            "iterations: 5000000\t\tpi= 3.1417408\t\tseconds= 1.864\n",
            "iterations: 10000000\t\tpi= 3.1402024\t\tseconds= 3.776\n",
            "iterations: 50000000\t\tpi= 3.14168704\t\tseconds= 18.8\n",
            "iterations: 100000000\t\tpi= 3.14146804\t\tseconds= 37.645\n",
            "\n",
            "===== Spark Method 4 clusters =====\n",
            "iterations= 10000\t\tpi= 3.1424\t\tseconds= 2.45\n",
            "iterations= 50000\t\tpi= 3.11456\t\tseconds= 0.291\n",
            "iterations= 100000\t\tpi= 3.1352\t\tseconds= 0.306\n",
            "iterations= 500000\t\tpi= 3.1496\t\tseconds= 0.632\n",
            "iterations= 1000000\t\tpi= 3.147088\t\tseconds= 0.989\n",
            "iterations= 5000000\t\tpi= 3.1407008\t\tseconds= 4.213\n",
            "iterations= 10000000\t\tpi= 3.1409072\t\tseconds= 8.528\n",
            "iterations= 50000000\t\tpi= 3.14101152\t\tseconds= 41.577\n",
            "iterations= 100000000\t\tpi= 3.14134304\t\tseconds= 80.687\n",
            "\n",
            "===== Spark Method 2 clusters =====\n",
            "iterations= 10000\t\tpi= 3.0952\t\tseconds= 0.677\n",
            "iterations= 50000\t\tpi= 3.1352\t\tseconds= 0.236\n",
            "iterations= 100000\t\tpi= 3.13576\t\tseconds= 0.198\n",
            "iterations= 500000\t\tpi= 3.147088\t\tseconds= 0.509\n",
            "iterations= 1000000\t\tpi= 3.14296\t\tseconds= 0.93\n",
            "iterations= 5000000\t\tpi= 3.1409072\t\tseconds= 4.487\n",
            "iterations= 10000000\t\tpi= 3.141108\t\tseconds= 8.35\n",
            "iterations= 50000000\t\tpi= 3.14134304\t\tseconds= 40.315\n",
            "iterations= 100000000\t\tpi= 3.1416324\t\tseconds= 79.882\n"
          ]
        },
        {
          "output_type": "display_data",
          "data": {
            "text/plain": [
              "<Figure size 432x288 with 1 Axes>"
            ],
            "image/png": "[encoded data removed]"
          },
          "metadata": {
            "needs_background": "light"
          }
        },
        {
          "output_type": "display_data",
          "data": {
            "text/plain": [
              "<Figure size 432x288 with 1 Axes>"
            ],
            "image/png": "[encoded data removed]"
          },
          "metadata": {
            "needs_background": "light"
          }
        }
      ]
    },
    {
      "cell_type": "code",
      "source": [
        ""
      ],
      "metadata": {
        "id": "KNiXvo81hlST"
      },
      "execution_count": null,
      "outputs": []
    }
  ]
}