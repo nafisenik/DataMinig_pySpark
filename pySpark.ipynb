{
  "nbformat": 4,
  "nbformat_minor": 0,
  "metadata": {
    "colab": {
      "name": "pySpark.ipynb",
      "provenance": [],
      "authorship_tag": "ABX9TyN0AKAVHfeVT8wauiVNnJPb",
      "include_colab_link": true
    },
    "kernelspec": {
      "name": "python3",
      "display_name": "Python 3"
    },
    "language_info": {
      "name": "python"
    }
  },
  "cells": [
    {
      "cell_type": "markdown",
      "metadata": {
        "id": "view-in-github",
        "colab_type": "text"
      },
      "source": [
        "<a href=\"https://colab.research.google.com/github/nafisenik/DataMinig_pySpark/blob/main/pySpark.ipynb\" target=\"_parent\"><img src=\"https://colab.research.google.com/assets/colab-badge.svg\" alt=\"Open In Colab\"/></a>"
      ]
    },
    {
      "cell_type": "markdown",
      "source": [
        "### Q1"
      ],
      "metadata": {
        "id": "OaDuoGaWL5zC"
      }
    },
    {
      "cell_type": "code",
      "source": [
        "!pip install pyspark"
      ],
      "metadata": {
        "colab": {
          "base_uri": "https://localhost:8080/"
        },
        "id": "VE-YAJH9L8H6",
        "outputId": "0263b004-4649-4af9-bbae-33ca99dc5475"
      },
      "execution_count": 1,
      "outputs": [
        {
          "output_type": "stream",
          "name": "stdout",
          "text": [
            "Requirement already satisfied: pyspark in /usr/local/lib/python3.7/dist-packages (3.2.1)\n",
            "Requirement already satisfied: py4j==0.10.9.3 in /usr/local/lib/python3.7/dist-packages (from pyspark) (0.10.9.3)\n"
          ]
        }
      ]
    },
    {
      "cell_type": "code",
      "source": [
        "import pyspark as py\n",
        "print(py.__version__)"
      ],
      "metadata": {
        "colab": {
          "base_uri": "https://localhost:8080/"
        },
        "id": "RC0A3gpjMTHV",
        "outputId": "8eb69294-bd5c-41a6-81ee-f8f09b15e9b4"
      },
      "execution_count": 2,
      "outputs": [
        {
          "output_type": "stream",
          "name": "stdout",
          "text": [
            "3.2.1\n"
          ]
        }
      ]
    },
    {
      "cell_type": "markdown",
      "source": [
        "### Import Libraries"
      ],
      "metadata": {
        "id": "6FdI5Fe93u1T"
      }
    },
    {
      "cell_type": "code",
      "source": [
        "import random\n",
        "import statistics\n",
        "import time\n",
        "import numpy as np\n",
        "from operator import add\n",
        "import matplotlib.pyplot as plt\n",
        "import math\n",
        "from pyspark.sql import SparkSession"
      ],
      "metadata": {
        "id": "2Kd1c4oL3rZM"
      },
      "execution_count": 3,
      "outputs": []
    },
    {
      "cell_type": "markdown",
      "source": [
        "### Q2---> (1)"
      ],
      "metadata": {
        "id": "kwFliEBX4CTh"
      }
    },
    {
      "cell_type": "code",
      "source": [
        "def MC_pi_estimator(iteration):\n",
        "  circle_point = 0\n",
        "  total_point = 0\n",
        "  p_list =[]\n",
        "  hit = 0\n",
        "  start_time = time.time()\n",
        "  for i in range(iteration):\n",
        "    x, y = random.uniform(-1, 1), random.uniform(-1, 1)   \n",
        "    if x**2 + y**2 < 1:\n",
        "      circle_point += 1\n",
        "    total_point += 1\n",
        "    pi_num = 4.0 * circle_point / total_point\n",
        "    p_list.append(pi_num)\n",
        "  end = time.time()\n",
        "  t = end - start_time\n",
        "  return p_list, t, pi_num"
      ],
      "metadata": {
        "id": "LGMNbfDr4BUU"
      },
      "execution_count": 4,
      "outputs": []
    },
    {
      "cell_type": "markdown",
      "source": [
        "### Calculate Mean and Variance"
      ],
      "metadata": {
        "id": "CJLgAFc449lC"
      }
    },
    {
      "cell_type": "code",
      "source": [
        "ITERATION = 1000000\n",
        "pi_list ,time_ex, pi_est = MC_pi_estimator(ITERATION)\n",
        "pi_mean = statistics.mean(pi_list)\n",
        "pi_variance = statistics.variance(pi_list)\n",
        "print(f'Mean of P estimate: {pi_mean}')\n",
        "print(f'Variance of P estimate: {pi_variance}')\n",
        "print(f'Time of P estimate: {time_ex}')"
      ],
      "metadata": {
        "colab": {
          "base_uri": "https://localhost:8080/"
        },
        "id": "LLoCRLP84N6g",
        "outputId": "5ee14cce-4a7e-4b81-d52c-a0ec2c55e0a5"
      },
      "execution_count": 5,
      "outputs": [
        {
          "output_type": "stream",
          "name": "stdout",
          "text": [
            "Mean of P estimate: 3.1416366084583047\n",
            "Variance of P estimate: 2.7895035116268464e-05\n",
            "Time of P estimate: 1.8576223850250244\n"
          ]
        }
      ]
    },
    {
      "cell_type": "markdown",
      "source": [
        "### Q2 ----> (3)-(4)-(5)"
      ],
      "metadata": {
        "id": "N3ct4wX44UFl"
      }
    },
    {
      "cell_type": "code",
      "source": [
        "def is_inside(p):\n",
        "  x, y = random.uniform(-1, 1), random.uniform(-1, 1)\n",
        "  return x**2 + y**2 < 1 "
      ],
      "metadata": {
        "id": "g6lRjN_rhnin"
      },
      "execution_count": 6,
      "outputs": []
    },
    {
      "cell_type": "markdown",
      "source": [
        "### Compare Time and Pi estimate of 2 methods"
      ],
      "metadata": {
        "id": "bKQoM3gSMkIu"
      }
    },
    {
      "cell_type": "code",
      "source": [
        "def MC_pi_spark(iteration):\n",
        "  spark = SparkSession.builder.appName('Pi').getOrCreate()\n",
        "  sc = spark.sparkContext\n",
        "  start_time = time.time()\n",
        "  hit = sc.parallelize(range(0, iteration), 2) \\\n",
        "      .map(is_inside).reduce(add)\n",
        "  pi = 4.0 * hit / iteration\n",
        "  t = time.time() - start_time\n",
        "  spark.stop()\n",
        "  return pi, t\n",
        "\n",
        "iteration_num = [100, 1000, 10000, 100000, 1000000, 10000000]\n",
        "\n",
        "time_simple_MC = []\n",
        "time_spark_MC = []\n",
        "\n",
        "for i in iteration_num:\n",
        "    \n",
        "    print('--------Mont Carlo Pi Estimator Without PySparl--------')\n",
        "    pi_l, t, res = MC_pi_estimator(i)\n",
        "    print(f'Number of Itration: {i}')\n",
        "    print(f'Pi = : {res}')\n",
        "    print(f'Time of computation: {t} seconds')\n",
        "    time_simple_MC.append(t)\n",
        "    \n",
        "    print('--------Mont Carlo Pi Estimator with PySpark--------')   \n",
        "    res, t = MC_pi_spark(i)\n",
        "    print(f'Number of Itration: {i}')\n",
        "    print(f'Pi = : {res}')\n",
        "    print(f'Time of computation: {t} seconds')\n",
        "    time_spark_MC.append(t)   \n",
        "plt.figure(1)\n",
        "plt.plot(iteration_num, time_simple_MC, label=\"Simple Mont Carlo\")\n",
        "plt.plot(iteration_num, time_spark_MC, label=\"Spark Mont Carlo\")\n",
        "\n",
        "plt.xscale(\"log\")\n",
        "plt.xlabel(\"Number of points\")\n",
        "plt.ylabel(\"Time\")\n",
        "plt.legend()\n",
        "plt.show()"
      ],
      "metadata": {
        "colab": {
          "base_uri": "https://localhost:8080/",
          "height": 1000
        },
        "id": "z0qFAxZKNhAG",
        "outputId": "849abc6e-14e5-49a1-f7e2-fbef941e01ba"
      },
      "execution_count": 7,
      "outputs": [
        {
          "output_type": "stream",
          "name": "stdout",
          "text": [
            "--------Mont Carlo Pi Estimator Without PySparl--------\n",
            "Number of Itration: 100\n",
            "Pi = : 3.12\n",
            "Time of computation: 0.00022673606872558594 seconds\n",
            "--------Mont Carlo Pi Estimator with PySpark--------\n",
            "Number of Itration: 100\n",
            "Pi = : 3.04\n",
            "Time of computation: 4.200033664703369 seconds\n",
            "--------Mont Carlo Pi Estimator Without PySparl--------\n",
            "Number of Itration: 1000\n",
            "Pi = : 3.084\n",
            "Time of computation: 0.002329587936401367 seconds\n",
            "--------Mont Carlo Pi Estimator with PySpark--------\n",
            "Number of Itration: 1000\n",
            "Pi = : 3.1\n",
            "Time of computation: 1.9038913249969482 seconds\n",
            "--------Mont Carlo Pi Estimator Without PySparl--------\n",
            "Number of Itration: 10000\n",
            "Pi = : 3.1324\n",
            "Time of computation: 0.040766239166259766 seconds\n",
            "--------Mont Carlo Pi Estimator with PySpark--------\n",
            "Number of Itration: 10000\n",
            "Pi = : 3.1328\n",
            "Time of computation: 0.6532125473022461 seconds\n",
            "--------Mont Carlo Pi Estimator Without PySparl--------\n",
            "Number of Itration: 100000\n",
            "Pi = : 3.13772\n",
            "Time of computation: 0.12088990211486816 seconds\n",
            "--------Mont Carlo Pi Estimator with PySpark--------\n",
            "Number of Itration: 100000\n",
            "Pi = : 3.13564\n",
            "Time of computation: 0.8362843990325928 seconds\n",
            "--------Mont Carlo Pi Estimator Without PySparl--------\n",
            "Number of Itration: 1000000\n",
            "Pi = : 3.143784\n",
            "Time of computation: 1.2272772789001465 seconds\n",
            "--------Mont Carlo Pi Estimator with PySpark--------\n",
            "Number of Itration: 1000000\n",
            "Pi = : 3.143116\n",
            "Time of computation: 2.274534225463867 seconds\n",
            "--------Mont Carlo Pi Estimator Without PySparl--------\n",
            "Number of Itration: 10000000\n",
            "Pi = : 3.1428528\n",
            "Time of computation: 11.978701114654541 seconds\n",
            "--------Mont Carlo Pi Estimator with PySpark--------\n",
            "Number of Itration: 10000000\n",
            "Pi = : 3.1419512\n",
            "Time of computation: 14.416650295257568 seconds\n"
          ]
        },
        {
          "output_type": "display_data",
          "data": {
            "text/plain": [
              "<Figure size 432x288 with 1 Axes>"
            ],
            "image/png": "[encoded data removed]"
          },
          "metadata": {
            "needs_background": "light"
          }
        }
      ]
    },
    {
      "cell_type": "code",
      "source": [
        ""
      ],
      "metadata": {
        "id": "8ictEvM3vvFB"
      },
      "execution_count": 7,
      "outputs": []
    },
    {
      "cell_type": "code",
      "source": [
        ""
      ],
      "metadata": {
        "id": "KNiXvo81hlST"
      },
      "execution_count": 7,
      "outputs": []
    }
  ]
}