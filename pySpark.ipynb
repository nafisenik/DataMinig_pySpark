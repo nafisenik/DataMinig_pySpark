{
  "cells": [
    {
      "cell_type": "markdown",
      "metadata": {
        "id": "view-in-github",
        "colab_type": "text"
      },
      "source": [
        "<a href=\"https://colab.research.google.com/github/nafisenik/DataMinig_pySpark/blob/main/pySpark.ipynb\" target=\"_parent\"><img src=\"https://colab.research.google.com/assets/colab-badge.svg\" alt=\"Open In Colab\"/></a>"
      ]
    },
    {
      "cell_type": "markdown",
      "metadata": {
        "id": "OaDuoGaWL5zC"
      },
      "source": [
        "### Q1"
      ]
    },
    {
      "cell_type": "code",
      "execution_count": 1,
      "metadata": {
        "id": "VE-YAJH9L8H6"
      },
      "outputs": [],
      "source": [
        "! pip install -q pyspark"
      ]
    },
    {
      "cell_type": "code",
      "execution_count": 2,
      "metadata": {
        "id": "x24SL7hVcBhW"
      },
      "outputs": [],
      "source": [
        "! apt-get install openjdk-8-jdk-headless -qq > /dev/null\n",
        "! wget -q https://dlcdn.apache.org/spark/spark-3.2.1/spark-3.2.1-bin-hadoop3.2.tgz\n",
        "! tar xf spark-3.2.1-bin-hadoop3.2.tgz"
      ]
    },
    {
      "cell_type": "code",
      "execution_count": 3,
      "metadata": {
        "id": "W3uKfIP3cKRM"
      },
      "outputs": [],
      "source": [
        "import os\n",
        "os.environ[\"JAVA_HOME\"] = \"/usr/lib/jvm/java-8-openjdk-amd64\"\n",
        "os.environ[\"SPARK_HOME\"] = \"/content/spark-3.2.1-bin-hadoop3.2\""
      ]
    },
    {
      "cell_type": "code",
      "execution_count": 4,
      "metadata": {
        "id": "L7QVLJzVcQMT"
      },
      "outputs": [],
      "source": [
        "! pip install -q findspark\n"
      ]
    },
    {
      "cell_type": "code",
      "execution_count": 5,
      "metadata": {
        "colab": {
          "base_uri": "https://localhost:8080/",
          "height": 35
        },
        "id": "-3UTTMIXcTpY",
        "outputId": "54817e2e-b752-417b-cfe7-8012e5f7d5ef"
      },
      "outputs": [
        {
          "output_type": "execute_result",
          "data": {
            "text/plain": [
              "'/content/spark-3.2.1-bin-hadoop3.2'"
            ],
            "application/vnd.google.colaboratory.intrinsic+json": {
              "type": "string"
            }
          },
          "metadata": {},
          "execution_count": 5
        }
      ],
      "source": [
        "import findspark\n",
        "findspark.init()\n",
        "findspark.find()"
      ]
    },
    {
      "cell_type": "code",
      "execution_count": 6,
      "metadata": {
        "colab": {
          "base_uri": "https://localhost:8080/"
        },
        "id": "RC0A3gpjMTHV",
        "outputId": "114cfde0-a99a-4f36-a5bf-3329ce69a8a7"
      },
      "outputs": [
        {
          "output_type": "stream",
          "name": "stdout",
          "text": [
            "3.2.1\n"
          ]
        }
      ],
      "source": [
        "import pyspark as py\n",
        "print(py.__version__)"
      ]
    },
    {
      "cell_type": "markdown",
      "metadata": {
        "id": "6FdI5Fe93u1T"
      },
      "source": [
        "### Import Libraries"
      ]
    },
    {
      "cell_type": "code",
      "execution_count": 7,
      "metadata": {
        "id": "2Kd1c4oL3rZM"
      },
      "outputs": [],
      "source": [
        "import random\n",
        "import statistics\n",
        "import time\n",
        "import numpy as np\n",
        "from operator import add\n",
        "import matplotlib.pyplot as plt\n",
        "import math\n",
        "from pyspark.sql import SparkSession\n",
        "import pandas as pd\n",
        "import pyspark.sql.functions as F\n",
        "import re\n",
        "from hazm import *\n",
        "from pyspark.sql.types import StringType\n",
        "from pyspark.sql.functions import udf\n",
        "from pyspark.sql.functions import col\n",
        "from hazm import sent_tokenize, word_tokenize\n",
        "from hazm import stopwords_list\n",
        "from hazm import Stemmer, Lemmatizer"
      ]
    },
    {
      "cell_type": "markdown",
      "metadata": {
        "id": "kwFliEBX4CTh"
      },
      "source": [
        "### Q2---> (1)"
      ]
    },
    {
      "cell_type": "code",
      "execution_count": 8,
      "metadata": {
        "id": "LGMNbfDr4BUU"
      },
      "outputs": [],
      "source": [
        "def MC_pi_estimator(iteration):\n",
        "  circle_point = 0\n",
        "  total_point = 0\n",
        "  p_list =[]\n",
        "  hit = 0\n",
        "  start_time = time.time()\n",
        "  for i in range(iteration):\n",
        "    x, y = random.uniform(-1, 1), random.uniform(-1, 1)   \n",
        "    if x**2 + y**2 < 1:\n",
        "      circle_point += 1\n",
        "    total_point += 1\n",
        "    pi_num = 4.0 * circle_point / total_point\n",
        "    p_list.append(pi_num)\n",
        "  end = time.time()\n",
        "  t = end - start_time\n",
        "  return p_list, t, pi_num"
      ]
    },
    {
      "cell_type": "markdown",
      "metadata": {
        "id": "CJLgAFc449lC"
      },
      "source": [
        "### Calculate Mean and Variance"
      ]
    },
    {
      "cell_type": "code",
      "execution_count": 9,
      "metadata": {
        "colab": {
          "base_uri": "https://localhost:8080/"
        },
        "id": "LLoCRLP84N6g",
        "outputId": "006fedf6-2166-4f09-9063-eda10103a238"
      },
      "outputs": [
        {
          "output_type": "stream",
          "name": "stdout",
          "text": [
            "Mean of P estimate: 3.1391584646628123\n",
            "Variance of P estimate: 3.528959538438914e-05\n",
            "Time of P estimate: 1.2112691402435303\n"
          ]
        }
      ],
      "source": [
        "ITERATION = 1000000\n",
        "pi_list ,time_ex, pi_est = MC_pi_estimator(ITERATION)\n",
        "pi_mean = statistics.mean(pi_list)\n",
        "pi_variance = statistics.variance(pi_list)\n",
        "print(f'Mean of P estimate: {pi_mean}')\n",
        "print(f'Variance of P estimate: {pi_variance}')\n",
        "print(f'Time of P estimate: {time_ex}')"
      ]
    },
    {
      "cell_type": "markdown",
      "metadata": {
        "id": "N3ct4wX44UFl"
      },
      "source": [
        "### Q2 ----> (3)-(4)-(5)"
      ]
    },
    {
      "cell_type": "code",
      "execution_count": 10,
      "metadata": {
        "id": "g6lRjN_rhnin"
      },
      "outputs": [],
      "source": [
        "def is_inside(p):\n",
        "  x, y = random.uniform(-1, 1), random.uniform(-1, 1)\n",
        "  return x**2 + y**2 < 1 "
      ]
    },
    {
      "cell_type": "markdown",
      "metadata": {
        "id": "bKQoM3gSMkIu"
      },
      "source": [
        "### Compare Time and Pi estimate of 2 methods"
      ]
    },
    {
      "cell_type": "code",
      "execution_count": 11,
      "metadata": {
        "colab": {
          "base_uri": "https://localhost:8080/",
          "height": 1000
        },
        "id": "z0qFAxZKNhAG",
        "outputId": "0e05aa27-3914-4162-b83b-75d9a6a24902"
      },
      "outputs": [
        {
          "output_type": "stream",
          "name": "stdout",
          "text": [
            "--------Mont Carlo Pi Estimator Without PySparl--------\n",
            "Number of Itration: 100\n",
            "Pi = : 3.0\n",
            "Time of computation: 0.00016641616821289062 seconds\n",
            "--------Mont Carlo Pi Estimator with PySpark--------\n",
            "Number of Itration: 100\n",
            "Pi = : 3.12\n",
            "Time of computation: 5.122607946395874 seconds\n",
            "--------Mont Carlo Pi Estimator Without PySparl--------\n",
            "Number of Itration: 1000\n",
            "Pi = : 3.112\n",
            "Time of computation: 0.0021016597747802734 seconds\n",
            "--------Mont Carlo Pi Estimator with PySpark--------\n",
            "Number of Itration: 1000\n",
            "Pi = : 3.12\n",
            "Time of computation: 1.933089256286621 seconds\n",
            "--------Mont Carlo Pi Estimator Without PySparl--------\n",
            "Number of Itration: 10000\n",
            "Pi = : 3.1644\n",
            "Time of computation: 0.03693532943725586 seconds\n",
            "--------Mont Carlo Pi Estimator with PySpark--------\n",
            "Number of Itration: 10000\n",
            "Pi = : 3.1292\n",
            "Time of computation: 1.614698886871338 seconds\n",
            "--------Mont Carlo Pi Estimator Without PySparl--------\n",
            "Number of Itration: 100000\n",
            "Pi = : 3.14388\n",
            "Time of computation: 0.5429351329803467 seconds\n",
            "--------Mont Carlo Pi Estimator with PySpark--------\n",
            "Number of Itration: 100000\n",
            "Pi = : 3.14892\n",
            "Time of computation: 2.376077175140381 seconds\n",
            "--------Mont Carlo Pi Estimator Without PySparl--------\n",
            "Number of Itration: 1000000\n",
            "Pi = : 3.140564\n",
            "Time of computation: 2.189246416091919 seconds\n",
            "--------Mont Carlo Pi Estimator with PySpark--------\n",
            "Number of Itration: 1000000\n",
            "Pi = : 3.140128\n",
            "Time of computation: 1.9262325763702393 seconds\n",
            "--------Mont Carlo Pi Estimator Without PySparl--------\n",
            "Number of Itration: 10000000\n",
            "Pi = : 3.1409932\n",
            "Time of computation: 11.451926708221436 seconds\n",
            "--------Mont Carlo Pi Estimator with PySpark--------\n",
            "Number of Itration: 10000000\n",
            "Pi = : 3.1414404\n",
            "Time of computation: 14.164411544799805 seconds\n"
          ]
        },
        {
          "output_type": "display_data",
          "data": {
            "text/plain": [
              "<Figure size 432x288 with 1 Axes>"
            ],
            "image/png": "[encoded data removed]"
          },
          "metadata": {
            "needs_background": "light"
          }
        }
      ],
      "source": [
        "def MC_pi_spark(iteration):\n",
        "  spark = SparkSession.builder.appName('Pi').getOrCreate()\n",
        "  sc = spark.sparkContext\n",
        "  start_time = time.time()\n",
        "  hit = sc.parallelize(range(0, iteration), 2) \\\n",
        "      .map(is_inside).reduce(add)\n",
        "  pi = 4.0 * hit / iteration\n",
        "  t = time.time() - start_time\n",
        "  spark.stop()\n",
        "  return pi, t\n",
        "\n",
        "iteration_num = [100, 1000, 10000, 100000, 1000000, 10000000]\n",
        "\n",
        "time_simple_MC = []\n",
        "time_spark_MC = []\n",
        "\n",
        "for i in iteration_num:\n",
        "    \n",
        "    print('--------Mont Carlo Pi Estimator Without PySparl--------')\n",
        "    pi_l, t, res = MC_pi_estimator(i)\n",
        "    print(f'Number of Itration: {i}')\n",
        "    print(f'Pi = : {res}')\n",
        "    print(f'Time of computation: {t} seconds')\n",
        "    time_simple_MC.append(t)\n",
        "    \n",
        "    print('--------Mont Carlo Pi Estimator with PySpark--------')   \n",
        "    res, t = MC_pi_spark(i)\n",
        "    print(f'Number of Itration: {i}')\n",
        "    print(f'Pi = : {res}')\n",
        "    print(f'Time of computation: {t} seconds')\n",
        "    time_spark_MC.append(t)   \n",
        "plt.figure(1)\n",
        "plt.plot(iteration_num, time_simple_MC, label=\"Simple Mont Carlo\")\n",
        "plt.plot(iteration_num, time_spark_MC, label=\"Spark Mont Carlo\")\n",
        "\n",
        "plt.xscale(\"log\")\n",
        "plt.xlabel(\"Number of points\")\n",
        "plt.ylabel(\"Time\")\n",
        "plt.legend()\n",
        "plt.show()"
      ]
    },
    {
      "cell_type": "code",
      "execution_count": 12,
      "metadata": {
        "id": "KNiXvo81hlST"
      },
      "outputs": [],
      "source": [
        "# First Method\n",
        "from pyspark.sql import SparkSession\n",
        "\n",
        "spark = SparkSession.builder\\\n",
        "        .master(\"local\")\\\n",
        "        .appName(\"Colab\")\\\n",
        "        .getOrCreate()\n",
        "\n",
        "sc = spark.sparkContext"
      ]
    },
    {
      "cell_type": "code",
      "execution_count": 13,
      "metadata": {
        "colab": {
          "base_uri": "https://localhost:8080/",
          "height": 35
        },
        "id": "VSm4hG5MczzN",
        "outputId": "7f4825b2-b70b-4162-9160-627f7462eabe"
      },
      "outputs": [
        {
          "output_type": "execute_result",
          "data": {
            "text/plain": [
              "'3.2.1'"
            ],
            "application/vnd.google.colaboratory.intrinsic+json": {
              "type": "string"
            }
          },
          "metadata": {},
          "execution_count": 13
        }
      ],
      "source": [
        "spark.version\n"
      ]
    },
    {
      "cell_type": "code",
      "execution_count": 14,
      "metadata": {
        "id": "BfWiEdH1dD9k"
      },
      "outputs": [],
      "source": [
        "! wget -q https://raw.githubusercontent.com/SajjadMb/PySpark-walkthrough/main/data/digikala_comments.csv"
      ]
    },
    {
      "cell_type": "code",
      "execution_count": 15,
      "metadata": {
        "colab": {
          "base_uri": "https://localhost:8080/"
        },
        "id": "w-O0c6hCdHWB",
        "outputId": "96213754-9088-4add-b8a4-15a462a1d9d7"
      },
      "outputs": [
        {
          "output_type": "stream",
          "name": "stdout",
          "text": [
            "+----------+--------------------+--------+-------+-----+--------+-------------------+---------------+--------------------+--------------------+--------------------+--------------------+\n",
            "|product_id|       product_title|title_en|user_id|likes|dislikes|verification_status|      recommend|               title|             comment|          advantages|       disadvantages|\n",
            "+----------+--------------------+--------+-------+-----+--------+-------------------+---------------+--------------------+--------------------+--------------------+--------------------+\n",
            "|      3692|ماوس بی‌سیم لاجیت...|      IT| 989472|    0|       0|           verified|             \\N|                null|واقعا عالیه. من ک...|                null|                null|\n",
            "|     90213|شارژر همراه شیاوم...|      AC|3862150|    4|       1|           verified|    recommended|        واقعاً عالیه|سلام، قبل اینکه ن...|  \"[\"\"عمر طولانی\\r\"\"|\"\"افت بسیار کم می...|\n",
            "|     59473|یدک پولیشر میکروف...|      HW| 626843|    1|       0|           verified|not_recommended|خیلی سخت حوله اش ...|گیره های فلزی خیل...|                null|                null|\n",
            "|    120499|گوشی موبایل هوآوی...|      MO| 786887|    6|      11|           verified|        no_idea|  گوشی مقرون به صرفه|همه چیز در رابطه ...|\"[\"\"صفحه نمایش پر...|\"\"کیفیت بالای ساخ...|\n",
            "|     67200|شارژر همراه شیائو...|      AC| 854531|   19|       4|           verified|        no_idea|ابعاد، استحکام و ...|اگر ظرفیتش براتون...|\"[\"\"ظریف و زیبا و...|\"\"بدنه محکم و با ...|\n",
            "|    133722|لپ تاپ 15 اینچی ا...|      IT| 497032|    6|       1|           verified|    recommended|اقرار بیش از حد د...|سلام دوستان،،_x00...|\"[\"\"همه چیز که تو...|\"[\"\"تاچ پدش میتون...|\n",
            "|    148509|اسپیکر بلوتوثی دی...|      IT| 574130|    3|       0|           verified|    recommended|           بسیار خوب|من چند سالی هست ک...|\"[\"\"کیفیت ساخت بس...|\"\"کیفیت صدا بسیار...|\n",
            "|     56871|ادو پرفیوم زنانه ...|      PC|1139954|    2|       2|           verified|             \\N|              عطر...|بوی تند ولی خوشبو...|                null|                null|\n",
            "|     49738|ماشین اصلاح صورت ...|      PA|2764879|    2|       1|           verified|             \\N|      عمر مفید کوتاه|متاسفانه عمر مفید...|                null|\"[\"\"طراحی ارگونوم...|\n",
            "|    161548|فلاسک هنری مدل Vi...|      HW|3934937|    1|       0|           verified|        no_idea|        خوب بودممنون|        خوب بودممنون|                null|                null|\n",
            "|      5107|هارددیسک اکسترنال...|      IT| 794316|    1|       0|           verified|    recommended|هارد با کیفیت و ظ...|نزدیک به دو ساله ...|\"[\"\"کیفیت ساخت خو...|\"\"ظاهر ساده و زیب...|\n",
            "|    156041|شمع خودرو ان جی ک...|      TC| 653445|   11|       4|           verified|             \\N|کارکرد بعد از ۶۰۰...|بعد از گذشت 3سال ...|                null|                null|\n",
            "|    134367|ماشین بازی بیبی ل...|      TS|3015544|   10|       5|           verified|    recommended|    لطفا موجودش کنید|افا از وقتی من ای...|\"[\"\"بچه ام دیگه ب...|       \"[\"\"نداره\"\"]\"|\n",
            "|    114006|شارژر همراه لنوو ...|      AC|3007704|    4|       2|           verified|    recommended|           پاور بانک|من این پاور بانک ...|        \"[\"\"عالی\"\"]\"|       \"[\"\"ندارد\"\"]\"|\n",
            "|    151402|خودتراش سیلور مدل...|      PC|1223376|    2|       6|           verified|             \\N|محصولی با کیفیت ا...|این تیغ محصول کشو...|\"[\"\"تولید شده در ...|\"[\"\"ضعیف بودن نقا...|\n",
            "|    146879|فلاسک غذا خودرو ب...|      TC|2838703|   15|      12|           verified|    recommended|فقط مناسب سفر طولانی|با توجه به قدرت خ...|                null|                null|\n",
            "|     81254|کرم نرم کننده دست...|      PC|1309402|    4|       1|           verified|             \\N|  مثل همیشه با کیفیت|امیوارم کیفیتش هم...|\"[\"\"جذب سریع ..را...|       \"[\"\"ندارد\"\"]\"|\n",
            "|     26368|  ماساژور بیورر MG80|      PA|1309402|    5|       0|           verified|             \\N|برند آلمانی و با ...|الان حدود یک سالی...|\"[\"\"پر قدرت.. خوش...|       \"[\"\"ندارد\"\"]\"|\n",
            "|     90894|مچ‌ بند هوشمند آی...|      PA|1338306|    2|       1|           verified|        no_idea|          لوازم یدکی|ساعت خوبی بود از ...|      \"[\"\"اندازه\\r\"\"|          \"\"ظاهر\\r\"\"|\n",
            "|     21340|ماشین اصلاح صورت ...|      PA|1309402|    3|       1|           verified|             \\N|قیمت مناسب و با ک...|حدود یک ساله دارم...|\"[\"\"پر قدرت طراحی...|       \"[\"\"ندارد\"\"]\"|\n",
            "+----------+--------------------+--------+-------+-----+--------+-------------------+---------------+--------------------+--------------------+--------------------+--------------------+\n",
            "only showing top 20 rows\n",
            "\n"
          ]
        }
      ],
      "source": [
        "df = spark.read.option(\"header\", True).option(\"multiline\",True).csv(\"digikala_comments.csv\")\n",
        "df.show()\n"
      ]
    },
    {
      "cell_type": "code",
      "execution_count": 16,
      "metadata": {
        "colab": {
          "base_uri": "https://localhost:8080/"
        },
        "id": "SGlRtaEu1OYK",
        "outputId": "f91ce950-6985-4f0c-9c89-0be3692b3ed4"
      },
      "outputs": [
        {
          "output_type": "stream",
          "name": "stdout",
          "text": [
            "Requirement already satisfied: hazm in /usr/local/lib/python3.7/dist-packages (0.7.0)\n",
            "Requirement already satisfied: libwapiti>=0.2.1 in /usr/local/lib/python3.7/dist-packages (from hazm) (0.2.1)\n",
            "Requirement already satisfied: nltk==3.3 in /usr/local/lib/python3.7/dist-packages (from hazm) (3.3)\n",
            "Requirement already satisfied: six in /usr/local/lib/python3.7/dist-packages (from nltk==3.3->hazm) (1.15.0)\n"
          ]
        }
      ],
      "source": [
        "!pip install hazm"
      ]
    },
    {
      "cell_type": "code",
      "execution_count": 17,
      "metadata": {
        "id": "qBB79hY1UASW"
      },
      "outputs": [],
      "source": [
        "def convert_num(text):\n",
        "  persian = ['۰', '۱', '۲', '۳', '۴', '۵', '۶', '۷', '۸', '۹']\n",
        "  convertedPersianNums = text.replace('۰','0').replace('۱','1').replace('۲','2').replace('۳','3').replace('۴','4')\\\n",
        "  .replace('۵','5').replace('۶','6').replace('۷','7').replace('۸','8').replace('۹','9')\n",
        "  return convertedPersianNums\n"
      ]
    },
    {
      "cell_type": "code",
      "execution_count": 18,
      "metadata": {
        "id": "akEfw_Snbytg"
      },
      "outputs": [],
      "source": [
        "stopwords = stopwords_list()+['ها','های','یه','ک','ام','ای','اگه','تر','اس','اینو','ازش','واسه','ی','هاش','برا','تره','اونم','چی','ترین','جی','داره','هست']\n",
        "def remove_stop_words(text):\n",
        "  text = re.sub('[^آ-ی]', ' ', text)\n",
        "  tokenized_text = word_tokenize(text)\n",
        "  #print(tokenized_text)\n",
        "  all_tokens = [t for t in tokenized_text if t not in stopwords]\n",
        "  #print(all_tokens)\n",
        "  text = \" \".join(all_tokens)\n",
        "  return text"
      ]
    },
    {
      "cell_type": "code",
      "execution_count": 19,
      "metadata": {
        "colab": {
          "base_uri": "https://localhost:8080/"
        },
        "id": "RQQ4ChEqUfkl",
        "outputId": "e6b12ebd-bd85-47ae-ba25-eaf1bcaa15cc"
      },
      "outputs": [
        {
          "output_type": "stream",
          "name": "stdout",
          "text": [
            "['و', 'در', 'به', 'از', 'که', 'این', 'را', 'با', 'است', 'برای', 'آن', 'یک', 'خود', 'تا', 'کرد', 'بر', 'هم', 'نیز', 'گفت', 'می\\u200cشود', 'وی', 'شد', 'دارد', 'ما', 'اما', 'یا', 'شده', 'باید', 'هر', 'آنها', 'بود', 'او', 'دیگر', 'دو', 'مورد', 'می\\u200cکند', 'شود', 'کند', 'وجود', 'بین', 'پیش', 'شده_است', 'پس', 'نظر', 'اگر', 'همه', 'یکی', 'حال', 'هستند', 'من', 'کنند', 'نیست', 'باشد', 'چه', 'بی', 'می', 'بخش', 'می\\u200cکنند', 'همین', 'افزود', 'هایی', 'دارند', 'راه', 'همچنین', 'روی', 'داد', 'بیشتر', 'بسیار', 'سه', 'داشت', 'چند', 'سوی', 'تنها', 'هیچ', 'میان', 'اینکه', 'شدن', 'بعد', 'جدید', 'ولی', 'حتی', 'کردن', 'برخی', 'کردند', 'می\\u200cدهد', 'اول', 'نه', 'کرده_است', 'نسبت', 'بیش', 'شما', 'چنین', 'طور', 'افراد', 'تمام', 'درباره', 'بار', 'بسیاری', 'می\\u200cتواند', 'کرده', 'چون', 'ندارد', 'دوم', 'بزرگ', 'طی', 'حدود', 'همان', 'بدون', 'البته', 'آنان', 'می\\u200cگوید', 'دیگری', 'خواهد_شد', 'کنیم', 'قابل', 'یعنی', 'رشد', 'می\\u200cتوان', 'وارد', 'کل', 'ویژه', 'قبل', 'براساس', 'نیاز', 'گذاری', 'هنوز', 'لازم', 'سازی', 'بوده_است', 'چرا', 'می\\u200cشوند', 'وقتی', 'گرفت', 'کم', 'جای', 'حالی', 'تغییر', 'پیدا', 'اکنون', 'تحت', 'باعث', 'مدت', 'فقط', 'زیادی', 'تعداد', 'آیا', 'بیان', 'رو', 'شدند', 'عدم', 'کرده_اند', 'بودن', 'نوع', 'بلکه', 'جاری', 'دهد', 'برابر', 'مهم', 'بوده', 'اخیر', 'مربوط', 'امر', 'زیر', 'گیری', 'شاید', 'خصوص', 'آقای', 'اثر', 'کننده', 'بودند', 'فکر', 'کنار', 'اولین', 'سوم', 'سایر', 'کنید', 'ضمن', 'مانند', 'باز', 'می\\u200cگیرد', 'ممکن', 'حل', 'دارای', 'پی', 'مثل', 'می\\u200cرسد', 'اجرا', 'دور', 'منظور', 'کسی', 'موجب', 'طول', 'امکان', 'آنچه', 'تعیین', 'گفته', 'شوند', 'جمع', 'خیلی', 'علاوه', 'گونه', 'تاکنون', 'رسید', 'ساله', 'گرفته', 'شده_اند', 'علت', 'چهار', 'داشته_باشد', 'خواهد_بود', 'طرف', 'تهیه', 'تبدیل', 'مناسب', 'زیرا', 'مشخص', 'می\\u200cتوانند', 'نزدیک', 'جریان', 'روند', 'بنابراین', 'می\\u200cدهند', 'یافت', 'نخستین', 'بالا', 'پنج', 'ریزی', 'عالی', 'چیزی', 'نخست', 'بیشتری', 'ترتیب', 'شده_بود', 'خاص', 'خوبی', 'خوب', 'شروع', 'فرد', 'کامل', 'غیر', 'می\\u200cرود', 'دهند', 'آخرین', 'دادن', 'جدی', 'بهترین', 'شامل', 'گیرد', 'بخشی', 'باشند', 'تمامی', 'بهتر', 'داده_است', 'حد', 'نبود', 'کسانی', 'می\\u200cکرد', 'داریم', 'علیه', 'می\\u200cباشد', 'دانست', 'ناشی', 'داشتند', 'دهه', 'می\\u200cشد', 'ایشان', 'آنجا', 'گرفته_است', 'دچار', 'می\\u200cآید', 'لحاظ', 'آنکه', 'داده', 'بعضی', 'هستیم', 'اند', 'برداری', 'نباید', 'می\\u200cکنیم', 'نشست', 'سهم', 'همیشه', 'آمد', 'اش', 'وگو', 'می\\u200cکنم', 'حداقل', 'طبق', 'جا', 'خواهد_کرد', 'نوعی', 'چگونه', 'رفت', 'هنگام', 'فوق', 'روش', 'ندارند', 'سعی', 'بندی', 'شمار', 'کلی', 'کافی', 'مواجه', 'همچنان', 'زیاد', 'سمت', 'کوچک', 'داشته_است', 'چیز', 'پشت', 'آورد', 'حالا', 'روبه', 'سال\\u200cهای', 'دادند', 'می\\u200cکردند', 'عهده', 'نیمه', 'جایی', 'دیگران', 'سی', 'بروز', 'یکدیگر', 'آمده_است', 'جز', 'کنم', 'سپس', 'کنندگان', 'خودش', 'همواره', 'یافته', 'شان', 'صرف', 'نمی\\u200cشود', 'رسیدن', 'چهارم', 'یابد', 'متر', 'ساز', 'داشته', 'کرده_بود', 'باره', 'نحوه', 'کردم', 'تو', 'شخصی', 'داشته_باشند', 'محسوب', 'پخش', 'کمی', 'متفاوت', 'سراسر', 'کاملا', 'داشتن', 'نظیر', 'آمده', 'گروهی', 'فردی', 'ع', 'همچون', 'خطر', 'خویش', 'کدام', 'دسته', 'سبب', 'عین', 'آوری', 'متاسفانه', 'بیرون', 'دار', 'ابتدا', 'شش', 'افرادی', 'می\\u200cگویند', 'سالهای', 'درون', 'نیستند', 'یافته_است', 'پر', 'خاطرنشان', 'گاه', 'جمعی', 'اغلب', 'دوباره', 'می\\u200cیابد', 'لذا', 'زاده', 'گردد', 'اینجا', 'ها', 'های', 'یه', 'ک', 'ام', 'ای', 'اگه', 'تر', 'اس', 'اینو', 'ازش', 'واسه', 'ی', 'هاش', 'برا', 'تره', 'اونم', 'چی', 'ترین', 'جی', 'داره', 'هست']\n"
          ]
        }
      ],
      "source": [
        "x = remove_stop_words('من از شهر به روستا رفتم و در راه علی را دیدم')\n",
        "print(stopwords)"
      ]
    },
    {
      "cell_type": "code",
      "execution_count": 20,
      "metadata": {
        "id": "3BI16oUf04Nx"
      },
      "outputs": [],
      "source": [
        "#https://github.com/optimopium/PySpark-walkthrough/blob/main/Spark_Tutorial.ipynb\n",
        "def clean_normalized(text):\n",
        "  normalizer = Normalizer()\n",
        "  try:\n",
        "    #normalize\n",
        "    cleaned_text = text.replace('_x000D_\\n',' ').splitlines() \n",
        "    cleaned_text = ' '.join(cleaned_text)\n",
        "    cleaned_text = normalizer.normalize(cleaned_text)\n",
        "    cleaned_text = cleaned_text.replace(\"،\",\" \").replace(\"\\u200c\",\" \").replace(r\"\\u200\",\" \").replace(r\"\\u200b\",\" \")\\\n",
        "            .replace(\".\",\" \").replace(\"-\",\" \").replace(\"_\",\" \").replace(\"\\n\",\" \").replace(\"\\r\",\" \").replace(\"\\\\\",\" \")\\\n",
        "            .replace(\"(\",\" \").replace(\")\",\" \").replace(\"[\",\" \").replace(\"!\",\" \").replace(\"]\",\" \")\\\n",
        "            .replace(\"r\",\" \").replace(\"\\\"\",\" \")\n",
        "    cleaned_text = re.sub(r\"\\s+.\\u0648.\\s+\", ' ', cleaned_text)\n",
        "    cleaned_text = re.sub(r'[^\\w\\s]', ' ', cleaned_text)\n",
        "\n",
        "    #Remove numbers\n",
        "    #cleaned_text = cleaned_text.replace('x000D',' ').splitlines() \n",
        "    #cleaned_text = ' '.join(cleaned_text)\n",
        "    cleaned_text = convert_num(cleaned_text)\n",
        "    cleaned_text = re.sub(r'[0-9]', ' ', cleaned_text)\n",
        "    cleaned_text = re.sub(' +', ' ',cleaned_text)\n",
        "    cleaned_text = remove_stop_words(cleaned_text)\n",
        "    return cleaned_text\n",
        "  except:\n",
        "    return None"
      ]
    },
    {
      "cell_type": "code",
      "execution_count": 20,
      "metadata": {
        "id": "iJot4mAsT-vw"
      },
      "outputs": [],
      "source": [
        ""
      ]
    },
    {
      "cell_type": "code",
      "execution_count": 21,
      "metadata": {
        "id": "2Jop49bi8Li-"
      },
      "outputs": [],
      "source": [
        "clean_comment = udf(lambda z: clean_normalized(z))\n",
        "stop_words_deletion = udf(lambda z: remove_stop_words(z))"
      ]
    },
    {
      "cell_type": "code",
      "execution_count": 21,
      "metadata": {
        "id": "NwB9iU11HOrN"
      },
      "outputs": [],
      "source": [
        ""
      ]
    },
    {
      "cell_type": "code",
      "execution_count": 22,
      "metadata": {
        "colab": {
          "base_uri": "https://localhost:8080/"
        },
        "id": "D4IepNcL8amh",
        "outputId": "ff70b799-74e3-4ecb-a7bd-804215f4cac7"
      },
      "outputs": [
        {
          "output_type": "stream",
          "name": "stdout",
          "text": [
            "+----------+-------------------------------------------------------------------------------------------------------------------------------------------------------------------------------------------------------------------------------------------------------------------------------------------------------------------------------------------------------------------------------------------------------------------------------------------------------------------------------------------------------------------------------------------------------------------------------------------------------------------------------------------------------------------------------------------------------------------------------------------------------------------------------------------------------------------------------------------------------------------------------------------------------------------------------------------------------------------------------------------------------------------------------------------------------------------------------------------------------------------------------------------------------------------------------------------------------------------------------------------------------------------------------------------------------------------------------+\n",
            "|product_id|comment                                                                                                                                                                                                                                                                                                                                                                                                                                                                                                                                                                                                                                                                                                                                                                                                                                                                                                                                                                                                                                                                                                                                                                                                                                                                                                                        |\n",
            "+----------+-------------------------------------------------------------------------------------------------------------------------------------------------------------------------------------------------------------------------------------------------------------------------------------------------------------------------------------------------------------------------------------------------------------------------------------------------------------------------------------------------------------------------------------------------------------------------------------------------------------------------------------------------------------------------------------------------------------------------------------------------------------------------------------------------------------------------------------------------------------------------------------------------------------------------------------------------------------------------------------------------------------------------------------------------------------------------------------------------------------------------------------------------------------------------------------------------------------------------------------------------------------------------------------------------------------------------------+\n",
            "|3692      |واقعا عالیه. من که ازش خیلی راضیم                                                                                                                                                                                                                                                                                                                                                                                                                                                                                                                                                                                                                                                                                                                                                                                                                                                                                                                                                                                                                                                                                                                                                                                                                                                                                              |\n",
            "|90213     |سلام، قبل اینکه نظرم رو بگم میخواستم به یک موضوع مهم اشاره کنم که نظراتی که ما برای کالاها ثبت میکنیم خیلی مهم هستن، چون بسیاری از مردم عزیز با استناد به این نظرات یک کالا رو خریداری میکنن. پس بهتره ک نظر غیر کارشناسی و الکی ندیم._x000D_\\n_x000D_\\nمن ۲سال این پاور بانک رو دارم، برای ۲نفر اشنا هم خریدم، پیشنهاد ویژه بود خریدم، واقعا از هر نظر عالیه، بعد گذشت ۲سال هنوزم ۵بار ایفون se رو شارژ میکنه، در خصوص زمان شارژ گفته بودن دوستان، اگر با کابل خود پاور شارژ کنید حدود ۶ساعت فول میشه، اما اگر هر کابل دیگه ای وصل کنید ۱۲تا۱۸ ساعت طول میکشه._x000D_\\nهمزمان با این پاور یک adata 10000 هم برای همسرم خریدم ، اونم خوب درومد ولی حدود ۳۰‎٪ افت داشته و کمتر بازدهی شارژ داره._x000D_\\n_x000D_\\nطبق تجربه من و اطرافیانم ک شیائومی داشتن، اگر کالایی ک میخرید اصل باشه(فیک زیاد داره) واقعا شیائومی حرف اول و میزنه، _x000D_\\nanker هم برند خیلی خوب ولی گرونه، هفته پیش از دیجی خریدم a1214 اونم واقعا سبک و عالیه و بازدهی بالایی داره.(۲خروجی هوشمند داره،مجموع ۳امپر میده،حداکثر یک خروجی ۲.۴ میده)_x000D_\\n_x000D_\\nببخشید طولانی شد.                                                                                                                                                                                                                                                                    |\n",
            "|59473     |گیره های فلزی خیلی سخت تا میشوند و لذا حوله را خیلی سخت می توان در آورد _x000D_\\n_x000D_\\nمهسان یه مدل دیگه داره که پلاستیکی هست و خیلی ساده و راحت خم می شود_x000D_\\n_x000D_\\nبه نظرم تولید این طرح را باید متوقف کنن چون گیره های آهنی خیلی سفت هستن و وقتی می خواستم خمشون کنم پایه پلاستیکیش شکست و بلا استفاده شد                                                                                                                                                                                                                                                                                                                                                                                                                                                                                                                                                                                                                                                                                                                                                                                                                                                                                                                                                                                                         |\n",
            "|120499    |همه چیز در رابطه با ظاهر این گوشی بسیار خوب است. بدنه یکپارچه فلزی-پلاستیکی و صفحه نمایش با کیفیت حسی ارزنده را منتقل میکند. در مقایسه با قیمت از بسیاری از گوشی های همرده پرتوان تر است و امکانات زیادی را در اختیار کاربر میگذارد. تنها مورد قدرت پردازنده گرافیکی و CPU گوشی است که با توجه به رزولوشن بالای صفحه نمایش مقداری در اجرای بازی های سنگین کم می آورد. همچنین حجم زیادی از رم محدود 2 گیگی این گوشی توسط سیستم اشغال میشود و در بهترین مواقع تنها نیمی از آن قابل اسفاده برنامه های دیگر است. _x000D_\\nمورد دیگر کیفیت پایین دوربین و کیفیت پایینتر اسپیکر است. تصاویر هر دو دوربین بسیار پر نویز  و تار هستند. تنها با استفاده از فلش و یا در نور روز تصاویر بهتری میتوان ثبت کرد. صدایی که از اسپیکر خارج میشود خیلی بیکیفیت و دارای اکو و نویز بالاست. اما کیفیت صدای خروجی هدفون بسیار خوب است._x000D_\\nباتری در کارهای متداول سبک تا معمولی کارایی خوبی دارد، اما هنگام اجرای برنامه های سنگین خیلی زود خالی میشود. زمان شارژ شدن باتری نیز نسبتا طولانی است. (حدود 3 ساعت)_x000D_\\nدر کل این گوشی را به کسانی که استفاده سنگین مولتی تسکینگ و گیم دارند پیشنهاد نمیکنم. اما اگر کسی هستید که وبگردی، تماشای ویدئو و استفاده از برنامه های  سبک بخش اعظم استفاده شما از گوشی موبایل هستند، دوربین و اسپیکر برایتان از نان شب واجب تر نیست و به ظاهری زیبا و بدنه با کیفیت اهمیت میدهید در خرید آن شک نکنید.|\n",
            "|67200     |اگر ظرفیتش براتون کافیه حتما بخرید._x000D_\\nیه شارژر 5 ولت 2 آمپر براش تهیه کنید تا سریعتر شارژ شه. خود برند شیائومی شارژر های خوبی داره._x000D_\\nظرافتش خوبه و وزن و ضخامت کمی داره و مثل یه موبایل راحت حمل میشه. البته پیشنهاد من ظرفیت های بالاتر هست. چون این مدل بسته به ظرفیت باتری گوشیتون صرفا به اندازه یک الی 2 بار شارژ کردن، انرژی ذخیره میکنه.                                                                                                                                                                                                                                                                                                                                                                                                                                                                                                                                                                                                                                                                                                                                                                                                                                                                                                                                                                   |\n",
            "|133722    |سلام دوستان،،_x000D_\\nمنم مثه بعضی از دوستان قبل از خرید کلی تحقیق در مورد این لپ تاپ عالی انجام دادم و به این نتیجه رسیدم که از مدل های مشابه همین شرکت و شرکت های دیگه واقعا بهتره،، در طول تحقیق هم به اون ویدیو هایی که بعضی دوستامون اشاره کردن هم برخوردم که از براق بودن صفحه نمایش و لق بودن لولاهای لپ تاپ موقع استفاده از تاچ اسکرین ایراد گرفته بودن، منم خیلی ترسیدم از این بابت ولی وقتی که تصمیم گرفتم که انتخابم رو نهایی کنم و بدستم رسید لپ تاپ دیدم واقعا تمام اون گفته ها اقراری بیش نبوده و اصلا خبری از لق زدن صفحه نیست موقع تاچ مگر اینکه بخوای محکم بکوبی انگشتتو که اونوقت تو هر لپ تاپی مسئله لق زدن هست، ولی از این بابت هیچ مشکلی نیست و کاملا محکمه._x000D_\\nدر مورد بازتاب بیش از حد صفحه نمایش هم همینطور فقط اقرار شده، اگر بخوای تو محیط بسته قرار داشته باشی با یه پروژکتور  رو بروی صفحه بازهم این مسئله واسه همه لپ تاپ ها هست، و اینکه اگه حتی با یه لپ تاپی که صفحه مات داشته باشه بخوای تو فضای آزاد زیر نور شدید خورشید کار کنی محتوای صفحه ی اون رو هم نمیبینی (گفتم اینارو چون لپ تاپ قبلیم صفحش مات بوده و تجربه کردم)  ولی تو شرایط عادی و استفاده روزمره به مشکلی باهاش برنمیخوری._x000D_\\nامیدوارم تونسته باشم تو رفع بعضی شبهه ها واسه بعضی از دوستامون کمک کرده باشم.                                                                                                          |\n",
            "|148509    |من چند سالی هست که این اسپیکرو خریدم و واقعا حرف نداره _x000D_\\nبا برندای دیگه مثل شیائومی و جی بی ال و مارکای دیگه مقایسه کردم یه سرو گردن از همه لحاظ بالاتره اصلا تو خریدش شک نکنید                                                                                                                                                                                                                                                                                                                                                                                                                                                                                                                                                                                                                                                                                                                                                                                                                                                                                                                                                                                                                                                                                                                                         |\n",
            "|56871     |بوی تند ولی خوشبو داره.ماندگاریش خوبه و هر چقدر میگذره خوشبوتر میشه..                                                                                                                                                                                                                                                                                                                                                                                                                                                                                                                                                                                                                                                                                                                                                                                                                                                                                                                                                                                                                                                                                                                                                                                                                                                          |\n",
            "|49738     |متاسفانه عمر مفید این ماشین کم هست و بعد از دو سال دیگه با باطری کار نمیکنه و گیر میکنه به نحوی که هیچیک از دکمه ها کار نمیکنه تا چند ساعت در این حالت میمونه دوباره با اتصال به برق کار میکنه                                                                                                                                                                                                                                                                                                                                                                                                                                                                                                                                                                                                                                                                                                                                                                                                                                                                                                                                                                                                                                                                                                                                 |\n",
            "|161548    |خوب بودممنون                                                                                                                                                                                                                                                                                                                                                                                                                                                                                                                                                                                                                                                                                                                                                                                                                                                                                                                                                                                                                                                                                                                                                                                                                                                                                                                   |\n",
            "|5107      |نزدیک به دو ساله که این هارد رو خریدم. استفاده سنگینی ازش نداشتم فقط به عنوان یه بک آپ از تمام اطلاعات و عکس ها و فیلم ها ازش استفاده میکنم._x000D_\\nسرعت انتقال اطلاعاتش مناسبه. کیفیت ساخت خوبی داره، تو این دو سال هیچ مشکل و ایرادی نداشته._x000D_\\nیه مقدار وجود آداپتور اذیت میکنه که جا به جایی هارد رو سخت کرده که اونم با توجه به اینکه هارد دسکتاپ هست چیز عجییبی نیست._x000D_\\nوزن هارد هم یه مقدار زیاده که نسبت به نمونه های دسکتاپ دیگه خوبه.                                                                                                                                                                                                                                                                                                                                                                                                                                                                                                                                                                                                                                                                                                                                                                                                                                                                    |\n",
            "|156041    |بعد از گذشت 3سال و 60000کیلومتر کارکرد روی ماشینم که سمند موتور معمولی است دقیقا مثل روز اول کارایی دارد..                                                                                                                                                                                                                                                                                                                                                                                                                                                                                                                                                                                                                                                                                                                                                                                                                                                                                                                                                                                                                                                                                                                                                                                                                     |\n",
            "|134367    |افا از وقتی من اینو واسه پسرم خریدم همه بچه های فامیل عاشقش شدن واسه سوار شدنش یک دعوایی میکنن که واویلا جالب اینجاست همشونم دوچرخه وسه چرخه دارن اما نمیدونم این چی ئاره که دخترو پسر سر این باهم دعوا میکنن .شاید باورتون نشه بچه باجناقم به خاطر این تب کرده میگه من فقط اینو میخوام .....پرسنل زحمتکش دیجی کالا لطفا اینو موجود کنید بچه داره ازدست میره  ... خیلی ممنون.                                                                                                                                                                                                                                                                                                                                                                                                                                                                                                                                                                                                                                                                                                                                                                                                                                                                                                                                                  |\n",
            "|114006    |من این پاور بانک رو حدود یک سال پیش از دیجی کالا گرفتم و واقعا ازش راضی هستم و عالیه . در خریدش شک نکنید . شارژدهیش عالیه                                                                                                                                                                                                                                                                                                                                                                                                                                                                                                                                                                                                                                                                                                                                                                                                                                                                                                                                                                                                                                                                                                                                                                                                      |\n",
            "|151402    |این تیغ محصول کشور آمریکا هست ( در عکس محصول مشخص هست ) و توسط شرکت پلیکان در ایران توزیع میشه (در سایت شرکت پلیکان ایران ذکر شده). کیفیت کلی اصلاح مناسب هست و انتظارات شما از محصولی از کشور سازنده را برآورده میکنه. ایرادی که من باهاش برخوردم نقطه اتصال خیلی ضعیف تیغ به دسته هست که با کمترین فشاری ممکنه بشکنه و غیرقابل استفاده باشه، البته نقطه اتصال ضعیف مربوط به قسمت تعویض شونده هست و دسته مشکلی ندارد.                                                                                                                                                                                                                                                                                                                                                                                                                                                                                                                                                                                                                                                                                                                                                                                                                                                                                                         |\n",
            "|146879    |با توجه به قدرت خنک کنندگی حداقل ۲ ساعت زمان لازم داره تا یکم خنک کنه. گرم کن حدود ۱ ساعت                                                                                                                                                                                                                                                                                                                                                                                                                                                                                                                                                                                                                                                                                                                                                                                                                                                                                                                                                                                                                                                                                                                                                                                                                                      |\n",
            "|81254     |امیوارم کیفیتش همینطور بمونه_x000D_\\nمن مدت هاس ازین برند استفاده میکنم و راضی ام                                                                                                                                                                                                                                                                                                                                                                                                                                                                                                                                                                                                                                                                                                                                                                                                                                                                                                                                                                                                                                                                                                                                                                                                                                              |\n",
            "|26368     |الان حدود یک سالی هست که دارمش و خیلی راضی ام ازش                                                                                                                                                                                                                                                                                                                                                                                                                                                                                                                                                                                                                                                                                                                                                                                                                                                                                                                                                                                                                                                                                                                                                                                                                                                                              |\n",
            "|90894     |ساعت خوبی بود از نظر ظاهر و سنسوراش خوب بود_x000D_\\nولی یه بدی بزرگی که داره بعد 3 ماه بندش خشک گرفت و پاره شد بندشم هیچ جا حتی دیجی نداشت_x000D_\\nعملا دیگه قابل استفاده نبود_x000D_\\nبه نظرم با توجه به نظرات بقیه هم که گفتن پاره میشه تا وقتی که بند یدکی نداره نخرید پولتون میریزید دور                                                                                                                                                                                                                                                                                                                                                                                                                                                                                                                                                                                                                                                                                                                                                                                                                                                                                                                                                                                                                                   |\n",
            "|21340     |حدود یک ساله دارمش راضی ام ازش نسبت به قیمتش مناسبه                                                                                                                                                                                                                                                                                                                                                                                                                                                                                                                                                                                                                                                                                                                                                                                                                                                                                                                                                                                                                                                                                                                                                                                                                                                                            |\n",
            "+----------+-------------------------------------------------------------------------------------------------------------------------------------------------------------------------------------------------------------------------------------------------------------------------------------------------------------------------------------------------------------------------------------------------------------------------------------------------------------------------------------------------------------------------------------------------------------------------------------------------------------------------------------------------------------------------------------------------------------------------------------------------------------------------------------------------------------------------------------------------------------------------------------------------------------------------------------------------------------------------------------------------------------------------------------------------------------------------------------------------------------------------------------------------------------------------------------------------------------------------------------------------------------------------------------------------------------------------------+\n",
            "only showing top 20 rows\n",
            "\n"
          ]
        }
      ],
      "source": [
        "df.select('product_id', 'comment').show(truncate=False)\n",
        "df_res = df.select(col(\"product_id\"),clean_comment(col(\"comment\")).alias(\"comment\") ) \n"
      ]
    },
    {
      "cell_type": "code",
      "execution_count": 23,
      "metadata": {
        "colab": {
          "base_uri": "https://localhost:8080/"
        },
        "id": "CT5qjOrnRylE",
        "outputId": "ed947b43-7d25-4c6c-fed5-70009b988113"
      },
      "outputs": [
        {
          "output_type": "stream",
          "name": "stdout",
          "text": [
            "+----------+-----------------------------------------------------------------------------------------------------------------------------------------------------------------------------------------------------------------------------------------------------------------------------------------------------------------------------------------------------------------------------------------------------------------------------------------------------------------------------------------------------------------------------------------------------------------------------------------------------------------------------------------------------------------------------------------------------------------------------------------------------------------------------------------------------+\n",
            "|product_id|comment                                                                                                                                                                                                                                                                                                                                                                                                                                                                                                                                                                                                                                                                                                                                                                                              |\n",
            "+----------+-----------------------------------------------------------------------------------------------------------------------------------------------------------------------------------------------------------------------------------------------------------------------------------------------------------------------------------------------------------------------------------------------------------------------------------------------------------------------------------------------------------------------------------------------------------------------------------------------------------------------------------------------------------------------------------------------------------------------------------------------------------------------------------------------------+\n",
            "|3692      |واقعا عالیه راضیم                                                                                                                                                                                                                                                                                                                                                                                                                                                                                                                                                                                                                                                                                                                                                                                    |\n",
            "|90213     |سلام نظرم بگم میخواستم موضوع اشاره نظراتی کالاها ثبت میکنیم هستن مردم عزیز استناد نظرات کالا خریداری میکنن بهتره کارشناسی الکی ندیم سال پاور بانک دارم نفر اشنا خریدم پیشنهاد خریدم واقعا عالیه گذشت سال هنوزم ایفون شارژ میکنه زمان شارژ دوستان کابل پاور شارژ ساعت میشه کابل دیگه وصل ساعت میکشه همزمان پاور همسرم خریدم درومد افت کمتر بازدهی شارژ تجربه اطرافیانم شیائومی کالایی میخرید اصل باشه فیک واقعا شیائومی حرف میزنه برند گرونه هفته دیجی خریدم واقعا سبک عالیه بازدهی بالایی خروجی هوشمند مجموع امپر میده حداکثر خروجی میده ببخشید طولانی                                                                                                                                                                                                                                               |\n",
            "|59473     |گیره فلزی سخت میشوند حوله سخت توان مهسان مدل دیگه پلاستیکی ساده راحت خم نظرم تولید طرح متوقف کنن گیره آهنی سفت هستن خواستم خمشون پایه پلاستیکیش شکست بلا استفاده                                                                                                                                                                                                                                                                                                                                                                                                                                                                                                                                                                                                                                     |\n",
            "|120499    |رابطه ظاهر گوشی بدنه یکپارچه فلزی پلاستیکی صفحه نمایش کیفیت حسی ارزنده منتقل میکند مقایسه قیمت گوشی همرده پرتوان امکانات اختیار کاربر میگذارد قدرت پردازنده گرافیکی گوشی توجه رزولوشن بالای صفحه نمایش مقداری اجرای بازی سنگین حجم رم محدود گیگی گوشی توسط سیستم اشغال میشود مواقع نیمی اسفاده برنامه کیفیت پایین دوربین کیفیت پایینتر اسپیکر تصاویر دوربین نویز تار استفاده فلش روز تصاویر بهتری میتوان ثبت صدایی اسپیکر خارج میشود بیکیفیت اکو نویز بالاست کیفیت صدای خروجی هدفون باتری کارهای متداول سبک معمولی کارایی اجرای برنامه سنگین خالی میشود زمان شارژ باتری نسبتا طولانی ساعت گوشی استفاده سنگین مولتی تسکینگ گیم پیشنهاد نمیکنم هستید وبگردی تماشای ویدئو استفاده برنامه سبک اعظم استفاده گوشی موبایل دوربین اسپیکر برایتان نان شب واجب ظاهری زیبا بدنه کیفیت اهمیت میدهید خرید شک نکنید|\n",
            "|67200     |ظرفیتش براتون کافیه حتما بخرید شارژر ولت آمپر براش سریعتر شارژ شه برند شیائومی شارژر ظرافتش خوبه وزن ضخامت موبایل راحت حمل میشه پیشنهاد ظرفیت بالاتر مدل بسته ظرفیت باتری گوشیتون صرفا اندازه الی شارژ انرژی ذخیره میکنه                                                                                                                                                                                                                                                                                                                                                                                                                                                                                                                                                                             |\n",
            "|133722    |سلام دوستان منم مثه دوستان خرید تحقیق لپ تاپ انجام دادم نتیجه رسیدم مدل مشابه شرکت شرکت دیگه واقعا بهتره تحقیق ویدیو دوستامون اشاره برخوردم براق صفحه نمایش لق لولاهای لپ تاپ موقع استفاده تاچ اسکرین ایراد منم ترسیدم بابت تصمیم گرفتم انتخابم نهایی بدستم لپ تاپ دیدم واقعا اقراری نبوده اصلا خبری لق زدن صفحه موقع تاچ مگر بخوای محکم بکوبی انگشتتو اونوقت لپ تاپی مسئله لق زدن بابت مشکلی محکمه بازتاب صفحه نمایش همینطور اقرار بخوای محیط بسته قرار داشته_باشی پروژکتور بروی صفحه بازهم مسئله لپ تاپ لپ تاپی صفحه مات باشه بخوای فضای آزاد شدید خورشید کار کنی محتوای صفحه نمیبینی گفتم اینارو لپ تاپ قبلیم صفحش مات تجربه شرایط عادی استفاده روزمره مشکلی باهاش برنمیخوری امیدوارم تونسته باشم رفع شبهه دوستامون کمک کرده_باشم                                                                 |\n",
            "|148509    |سالی اسپیکرو خریدم واقعا حرف نداره برندای دیگه شیائومی ال مارکای دیگه مقایسه سرو گردن بالاتره اصلا خریدش شک نکنید                                                                                                                                                                                                                                                                                                                                                                                                                                                                                                                                                                                                                                                                                    |\n",
            "|56871     |بوی تند خوشبو ماندگاریش خوبه چقدر میگذره خوشبوتر میشه                                                                                                                                                                                                                                                                                                                                                                                                                                                                                                                                                                                                                                                                                                                                                |\n",
            "|49738     |عمر مفید ماشین سال دیگه باطری کار نمیکنه گیر میکنه نحوی هیچیک دکمه کار نمیکنه ساعت حالت میمونه اتصال برق کار میکنه                                                                                                                                                                                                                                                                                                                                                                                                                                                                                                                                                                                                                                                                                   |\n",
            "|161548    |بودممنون                                                                                                                                                                                                                                                                                                                                                                                                                                                                                                                                                                                                                                                                                                                                                                                             |\n",
            "|5107      |هارد خریدم استفاده سنگینی نداشتم عنوان بک آپ اطلاعات عکس فیلم استفاده میکنم سرعت انتقال اطلاعاتش مناسبه کیفیت ساخت سال مشکل ایرادی نداشته مقدار آداپتور اذیت میکنه هارد سخت توجه هارد دسکتاپ عجییبی وزن هارد مقدار زیاده نمونه دسکتاپ دیگه خوبه                                                                                                                                                                                                                                                                                                                                                                                                                                                                                                                                                      |\n",
            "|156041    |گذشت سال کیلومتر کارکرد ماشینم سمند موتور معمولی دقیقا کارایی                                                                                                                                                                                                                                                                                                                                                                                                                                                                                                                                                                                                                                                                                                                                        |\n",
            "|134367    |افا پسرم خریدم بچه فامیل عاشقش سوار شدنش دعوایی میکنن واویلا جالب اینجاست همشونم دوچرخه وسه چرخه دارن نمیدونم ئاره دخترو پسر سر باهم دعوا میکنن باورتون نشه بچه باجناقم خاطر تب میگه میخوام پرسنل زحمتکش دیجی کالا لطفا موجود بچه ازدست میره ممنون                                                                                                                                                                                                                                                                                                                                                                                                                                                                                                                                                   |\n",
            "|114006    |پاور بانک سال دیجی کالا گرفتم واقعا راضی هستم عالیه خریدش شک نکنید شارژدهیش عالیه                                                                                                                                                                                                                                                                                                                                                                                                                                                                                                                                                                                                                                                                                                                    |\n",
            "|151402    |تیغ محصول کشور آمریکا عکس محصول توسط شرکت پلیکان ایران توزیع میشه سایت شرکت پلیکان ایران ذکر کیفیت اصلاح انتظارات محصولی کشور سازنده برآورده میکنه ایرادی باهاش برخوردم نقطه اتصال ضعیف تیغ کمترین فشاری ممکنه بشکنه غیرقابل استفاده باشه نقطه اتصال ضعیف قسمت تعویض شونده مشکلی                                                                                                                                                                                                                                                                                                                                                                                                                                                                                                                     |\n",
            "|146879    |توجه قدرت خنک کنندگی ساعت زمان یکم خنک کنه گرم کن ساعت                                                                                                                                                                                                                                                                                                                                                                                                                                                                                                                                                                                                                                                                                                                                               |\n",
            "|81254     |امیوارم کیفیتش همینطور بمونه هاس ازین برند استفاده میکنم راضی                                                                                                                                                                                                                                                                                                                                                                                                                                                                                                                                                                                                                                                                                                                                        |\n",
            "|26368     |الان سالی دارمش راضی                                                                                                                                                                                                                                                                                                                                                                                                                                                                                                                                                                                                                                                                                                                                                                                 |\n",
            "|90894     |ساعت ظاهر سنسوراش بدی بزرگی ماه بندش خشک پاره بندشم دیجی نداشت عملا دیگه استفاده نظرم توجه نظرات بقیه گفتن پاره میشه بند یدکی نداره نخرید پولتون میریزید                                                                                                                                                                                                                                                                                                                                                                                                                                                                                                                                                                                                                                             |\n",
            "|21340     |دارمش راضی قیمتش مناسبه                                                                                                                                                                                                                                                                                                                                                                                                                                                                                                                                                                                                                                                                                                                                                                              |\n",
            "+----------+-----------------------------------------------------------------------------------------------------------------------------------------------------------------------------------------------------------------------------------------------------------------------------------------------------------------------------------------------------------------------------------------------------------------------------------------------------------------------------------------------------------------------------------------------------------------------------------------------------------------------------------------------------------------------------------------------------------------------------------------------------------------------------------------------------+\n",
            "only showing top 20 rows\n",
            "\n"
          ]
        }
      ],
      "source": [
        "df_res.show(truncate=False)"
      ]
    },
    {
      "cell_type": "code",
      "execution_count": 24,
      "metadata": {
        "colab": {
          "base_uri": "https://localhost:8080/"
        },
        "id": "FOLs5bzrhvcY",
        "outputId": "2657761d-c451-4e1f-87a2-a2d290006d49"
      },
      "outputs": [
        {
          "output_type": "stream",
          "name": "stdout",
          "text": [
            "+----------+----------+\n",
            "|product_id|popularity|\n",
            "+----------+----------+\n",
            "|    517207|     184.0|\n",
            "|    597475|     124.0|\n",
            "|    503608|     115.0|\n",
            "|    701679|     114.0|\n",
            "|    133901|     113.0|\n",
            "|    517207|     109.0|\n",
            "|    443966|     108.0|\n",
            "|    226249|     102.0|\n",
            "|    341816|      91.0|\n",
            "|    313420|      80.0|\n",
            "+----------+----------+\n",
            "only showing top 10 rows\n",
            "\n"
          ]
        }
      ],
      "source": [
        "selected_df = df.select(\"product_id\", \"likes\", \"dislikes\", \"comment\")\n",
        "popularity = selected_df.dropna().withColumn(\"popularity\",selected_df[\"likes\"] - selected_df[\"dislikes\"])\n",
        "popularity.orderBy(\"popularity\", ascending=False).select('product_id','popularity').show(10)\n"
      ]
    },
    {
      "cell_type": "code",
      "execution_count": 25,
      "metadata": {
        "colab": {
          "base_uri": "https://localhost:8080/"
        },
        "id": "EloEGPgcXfqa",
        "outputId": "c52998b4-3a2c-42a3-8614-ffa68d193744"
      },
      "outputs": [
        {
          "output_type": "stream",
          "name": "stdout",
          "text": [
            "+----------+---------+\n",
            "|product_id|wordCount|\n",
            "+----------+---------+\n",
            "|      3692|        3|\n",
            "|     90213|       93|\n",
            "|     59473|       30|\n",
            "|    120499|      129|\n",
            "|     67200|       38|\n",
            "|    133722|      127|\n",
            "|    148509|       20|\n",
            "|     56871|        9|\n",
            "|     49738|       22|\n",
            "|    161548|        1|\n",
            "|      5107|       41|\n",
            "|    156041|       10|\n",
            "|    134367|       44|\n",
            "|    114006|       15|\n",
            "|    151402|       46|\n",
            "|    146879|       12|\n",
            "|     81254|       10|\n",
            "|     26368|        4|\n",
            "|     90894|       28|\n",
            "|     21340|        4|\n",
            "|    144139|       42|\n",
            "|    138040|       36|\n",
            "|    105719|       19|\n",
            "|    147165|       24|\n",
            "|    116387|       24|\n",
            "|     73064|       42|\n",
            "|    110040|       45|\n",
            "|    139131|       27|\n",
            "|     80854|        3|\n",
            "|    163519|        6|\n",
            "|    102068|      224|\n",
            "|    129988|       18|\n",
            "|    130386|       47|\n",
            "|    160008|       15|\n",
            "|     93850|       65|\n",
            "|    154624|       32|\n",
            "|    106471|        2|\n",
            "|    112714|       29|\n",
            "|    104427|       32|\n",
            "|    133709|       38|\n",
            "|     55495|       49|\n",
            "|    121304|       44|\n",
            "|    150718|       13|\n",
            "|    154559|       15|\n",
            "|    127328|       58|\n",
            "|    162788|       15|\n",
            "|     24666|       40|\n",
            "|     81429|        5|\n",
            "|     58800|        8|\n",
            "|    149656|       16|\n",
            "|     39074|       67|\n",
            "|    181602|       20|\n",
            "|      3914|       13|\n",
            "|    154067|       25|\n",
            "|     45483|       11|\n",
            "|    138721|       31|\n",
            "|    181477|        6|\n",
            "|     98676|       41|\n",
            "|    120648|        8|\n",
            "|    123316|        1|\n",
            "|    153949|        9|\n",
            "|     64043|       39|\n",
            "|    127401|       52|\n",
            "|    157938|        9|\n",
            "|    159000|        5|\n",
            "|     33428|       64|\n",
            "|     39527|        7|\n",
            "|    117313|       18|\n",
            "|    150824|       11|\n",
            "|    114167|       11|\n",
            "|    147108|        5|\n",
            "|    159149|       12|\n",
            "|    180591|      119|\n",
            "|    147108|        7|\n",
            "|     56710|       32|\n",
            "|    159141|       26|\n",
            "|    141385|       40|\n",
            "|    174014|        9|\n",
            "|    139131|       64|\n",
            "|    141719|       30|\n",
            "|    189737|        9|\n",
            "|    116483|       14|\n",
            "|    183945|        6|\n",
            "|    166853|       60|\n",
            "|    134558|       27|\n",
            "|    106424|       23|\n",
            "|    115614|       36|\n",
            "|    152429|       17|\n",
            "|     63384|       25|\n",
            "|      2118|        7|\n",
            "|    113352|        3|\n",
            "|     14762|       13|\n",
            "|     51981|       62|\n",
            "|    177683|       12|\n",
            "|    183430|       72|\n",
            "|    163713|       22|\n",
            "|    147614|        6|\n",
            "|     56736|       38|\n",
            "|    189665|        6|\n",
            "|     90575|        3|\n",
            "+----------+---------+\n",
            "only showing top 100 rows\n",
            "\n"
          ]
        }
      ],
      "source": [
        "df_word_count = df_res.withColumn('wordCount', F.size(F.split(F.col('comment'), ' ')))\n",
        "df_word_count.select('product_id','wordCount').show(100)"
      ]
    },
    {
      "cell_type": "code",
      "execution_count": 26,
      "metadata": {
        "colab": {
          "base_uri": "https://localhost:8080/"
        },
        "id": "NKKGm6JsaGJV",
        "outputId": "a6336a12-2e47-4e3f-f4f2-fad007f58739"
      },
      "outputs": [
        {
          "output_type": "stream",
          "name": "stdout",
          "text": [
            "+----------+-----------------------------------------------------------------------------------------------------------------------------------------------------------------------------------------------------------------------------------------------------------------------------------------------------------------------------------------------------------------------------------------------------------------------------------------------------------------------------------------------------------------------------------------------------------------------------------------------------------------------------------------------------------------------------------------------------------------------------------------------------------------------------------------------------+\n",
            "|product_id|comment                                                                                                                                                                                                                                                                                                                                                                                                                                                                                                                                                                                                                                                                                                                                                                                              |\n",
            "+----------+-----------------------------------------------------------------------------------------------------------------------------------------------------------------------------------------------------------------------------------------------------------------------------------------------------------------------------------------------------------------------------------------------------------------------------------------------------------------------------------------------------------------------------------------------------------------------------------------------------------------------------------------------------------------------------------------------------------------------------------------------------------------------------------------------------+\n",
            "|3692      |واقعا عالیه راضیم                                                                                                                                                                                                                                                                                                                                                                                                                                                                                                                                                                                                                                                                                                                                                                                    |\n",
            "|90213     |سلام نظرم بگم میخواستم موضوع اشاره نظراتی کالاها ثبت میکنیم هستن مردم عزیز استناد نظرات کالا خریداری میکنن بهتره کارشناسی الکی ندیم سال پاور بانک دارم نفر اشنا خریدم پیشنهاد خریدم واقعا عالیه گذشت سال هنوزم ایفون شارژ میکنه زمان شارژ دوستان کابل پاور شارژ ساعت میشه کابل دیگه وصل ساعت میکشه همزمان پاور همسرم خریدم درومد افت کمتر بازدهی شارژ تجربه اطرافیانم شیائومی کالایی میخرید اصل باشه فیک واقعا شیائومی حرف میزنه برند گرونه هفته دیجی خریدم واقعا سبک عالیه بازدهی بالایی خروجی هوشمند مجموع امپر میده حداکثر خروجی میده ببخشید طولانی                                                                                                                                                                                                                                               |\n",
            "|59473     |گیره فلزی سخت میشوند حوله سخت توان مهسان مدل دیگه پلاستیکی ساده راحت خم نظرم تولید طرح متوقف کنن گیره آهنی سفت هستن خواستم خمشون پایه پلاستیکیش شکست بلا استفاده                                                                                                                                                                                                                                                                                                                                                                                                                                                                                                                                                                                                                                     |\n",
            "|120499    |رابطه ظاهر گوشی بدنه یکپارچه فلزی پلاستیکی صفحه نمایش کیفیت حسی ارزنده منتقل میکند مقایسه قیمت گوشی همرده پرتوان امکانات اختیار کاربر میگذارد قدرت پردازنده گرافیکی گوشی توجه رزولوشن بالای صفحه نمایش مقداری اجرای بازی سنگین حجم رم محدود گیگی گوشی توسط سیستم اشغال میشود مواقع نیمی اسفاده برنامه کیفیت پایین دوربین کیفیت پایینتر اسپیکر تصاویر دوربین نویز تار استفاده فلش روز تصاویر بهتری میتوان ثبت صدایی اسپیکر خارج میشود بیکیفیت اکو نویز بالاست کیفیت صدای خروجی هدفون باتری کارهای متداول سبک معمولی کارایی اجرای برنامه سنگین خالی میشود زمان شارژ باتری نسبتا طولانی ساعت گوشی استفاده سنگین مولتی تسکینگ گیم پیشنهاد نمیکنم هستید وبگردی تماشای ویدئو استفاده برنامه سبک اعظم استفاده گوشی موبایل دوربین اسپیکر برایتان نان شب واجب ظاهری زیبا بدنه کیفیت اهمیت میدهید خرید شک نکنید|\n",
            "|67200     |ظرفیتش براتون کافیه حتما بخرید شارژر ولت آمپر براش سریعتر شارژ شه برند شیائومی شارژر ظرافتش خوبه وزن ضخامت موبایل راحت حمل میشه پیشنهاد ظرفیت بالاتر مدل بسته ظرفیت باتری گوشیتون صرفا اندازه الی شارژ انرژی ذخیره میکنه                                                                                                                                                                                                                                                                                                                                                                                                                                                                                                                                                                             |\n",
            "|133722    |سلام دوستان منم مثه دوستان خرید تحقیق لپ تاپ انجام دادم نتیجه رسیدم مدل مشابه شرکت شرکت دیگه واقعا بهتره تحقیق ویدیو دوستامون اشاره برخوردم براق صفحه نمایش لق لولاهای لپ تاپ موقع استفاده تاچ اسکرین ایراد منم ترسیدم بابت تصمیم گرفتم انتخابم نهایی بدستم لپ تاپ دیدم واقعا اقراری نبوده اصلا خبری لق زدن صفحه موقع تاچ مگر بخوای محکم بکوبی انگشتتو اونوقت لپ تاپی مسئله لق زدن بابت مشکلی محکمه بازتاب صفحه نمایش همینطور اقرار بخوای محیط بسته قرار داشته_باشی پروژکتور بروی صفحه بازهم مسئله لپ تاپ لپ تاپی صفحه مات باشه بخوای فضای آزاد شدید خورشید کار کنی محتوای صفحه نمیبینی گفتم اینارو لپ تاپ قبلیم صفحش مات تجربه شرایط عادی استفاده روزمره مشکلی باهاش برنمیخوری امیدوارم تونسته باشم رفع شبهه دوستامون کمک کرده_باشم                                                                 |\n",
            "|148509    |سالی اسپیکرو خریدم واقعا حرف نداره برندای دیگه شیائومی ال مارکای دیگه مقایسه سرو گردن بالاتره اصلا خریدش شک نکنید                                                                                                                                                                                                                                                                                                                                                                                                                                                                                                                                                                                                                                                                                    |\n",
            "|56871     |بوی تند خوشبو ماندگاریش خوبه چقدر میگذره خوشبوتر میشه                                                                                                                                                                                                                                                                                                                                                                                                                                                                                                                                                                                                                                                                                                                                                |\n",
            "|49738     |عمر مفید ماشین سال دیگه باطری کار نمیکنه گیر میکنه نحوی هیچیک دکمه کار نمیکنه ساعت حالت میمونه اتصال برق کار میکنه                                                                                                                                                                                                                                                                                                                                                                                                                                                                                                                                                                                                                                                                                   |\n",
            "|161548    |بودممنون                                                                                                                                                                                                                                                                                                                                                                                                                                                                                                                                                                                                                                                                                                                                                                                             |\n",
            "|5107      |هارد خریدم استفاده سنگینی نداشتم عنوان بک آپ اطلاعات عکس فیلم استفاده میکنم سرعت انتقال اطلاعاتش مناسبه کیفیت ساخت سال مشکل ایرادی نداشته مقدار آداپتور اذیت میکنه هارد سخت توجه هارد دسکتاپ عجییبی وزن هارد مقدار زیاده نمونه دسکتاپ دیگه خوبه                                                                                                                                                                                                                                                                                                                                                                                                                                                                                                                                                      |\n",
            "|156041    |گذشت سال کیلومتر کارکرد ماشینم سمند موتور معمولی دقیقا کارایی                                                                                                                                                                                                                                                                                                                                                                                                                                                                                                                                                                                                                                                                                                                                        |\n",
            "|134367    |افا پسرم خریدم بچه فامیل عاشقش سوار شدنش دعوایی میکنن واویلا جالب اینجاست همشونم دوچرخه وسه چرخه دارن نمیدونم ئاره دخترو پسر سر باهم دعوا میکنن باورتون نشه بچه باجناقم خاطر تب میگه میخوام پرسنل زحمتکش دیجی کالا لطفا موجود بچه ازدست میره ممنون                                                                                                                                                                                                                                                                                                                                                                                                                                                                                                                                                   |\n",
            "|114006    |پاور بانک سال دیجی کالا گرفتم واقعا راضی هستم عالیه خریدش شک نکنید شارژدهیش عالیه                                                                                                                                                                                                                                                                                                                                                                                                                                                                                                                                                                                                                                                                                                                    |\n",
            "|151402    |تیغ محصول کشور آمریکا عکس محصول توسط شرکت پلیکان ایران توزیع میشه سایت شرکت پلیکان ایران ذکر کیفیت اصلاح انتظارات محصولی کشور سازنده برآورده میکنه ایرادی باهاش برخوردم نقطه اتصال ضعیف تیغ کمترین فشاری ممکنه بشکنه غیرقابل استفاده باشه نقطه اتصال ضعیف قسمت تعویض شونده مشکلی                                                                                                                                                                                                                                                                                                                                                                                                                                                                                                                     |\n",
            "|146879    |توجه قدرت خنک کنندگی ساعت زمان یکم خنک کنه گرم کن ساعت                                                                                                                                                                                                                                                                                                                                                                                                                                                                                                                                                                                                                                                                                                                                               |\n",
            "|81254     |امیوارم کیفیتش همینطور بمونه هاس ازین برند استفاده میکنم راضی                                                                                                                                                                                                                                                                                                                                                                                                                                                                                                                                                                                                                                                                                                                                        |\n",
            "|26368     |الان سالی دارمش راضی                                                                                                                                                                                                                                                                                                                                                                                                                                                                                                                                                                                                                                                                                                                                                                                 |\n",
            "|90894     |ساعت ظاهر سنسوراش بدی بزرگی ماه بندش خشک پاره بندشم دیجی نداشت عملا دیگه استفاده نظرم توجه نظرات بقیه گفتن پاره میشه بند یدکی نداره نخرید پولتون میریزید                                                                                                                                                                                                                                                                                                                                                                                                                                                                                                                                                                                                                                             |\n",
            "|21340     |دارمش راضی قیمتش مناسبه                                                                                                                                                                                                                                                                                                                                                                                                                                                                                                                                                                                                                                                                                                                                                                              |\n",
            "+----------+-----------------------------------------------------------------------------------------------------------------------------------------------------------------------------------------------------------------------------------------------------------------------------------------------------------------------------------------------------------------------------------------------------------------------------------------------------------------------------------------------------------------------------------------------------------------------------------------------------------------------------------------------------------------------------------------------------------------------------------------------------------------------------------------------------+\n",
            "only showing top 20 rows\n",
            "\n"
          ]
        }
      ],
      "source": [
        "df_final = df_res.select(col(\"product_id\"),stop_words_deletion(col(\"comment\")).alias(\"comment\") ) \n",
        "df_final.show(truncate=False)"
      ]
    },
    {
      "cell_type": "code",
      "execution_count": 27,
      "metadata": {
        "colab": {
          "base_uri": "https://localhost:8080/"
        },
        "id": "WIBjGVXlgzUa",
        "outputId": "b22e812a-3b26-409f-8e1e-f639f7daa974"
      },
      "outputs": [
        {
          "output_type": "stream",
          "name": "stdout",
          "text": [
            "+-------+-----+\n",
            "|   word|count|\n",
            "+-------+-----+\n",
            "|استفاده| 1783|\n",
            "|  کیفیت| 1594|\n",
            "|   میشه| 1389|\n",
            "|  خریدم| 1300|\n",
            "|   گوشی| 1174|\n",
            "|   خوبه| 1140|\n",
            "|  عالیه| 1140|\n",
            "|  واقعا| 1076|\n",
            "|   اصلا|  981|\n",
            "|  میکنم|  933|\n",
            "|  نداره|  884|\n",
            "|   قیمت|  884|\n",
            "|  میکنه|  883|\n",
            "|   خرید|  858|\n",
            "|    کار|  837|\n",
            "|   دیجی|  808|\n",
            "|   راضی|  801|\n",
            "|   شارژ|  792|\n",
            "|پیشنهاد|  769|\n",
            "|   کالا|  707|\n",
            "|   باشه|  642|\n",
            "|   دیگه|  635|\n",
            "|  محصول|  629|\n",
            "|   سلام|  615|\n",
            "|  قیمتش|  565|\n",
            "| دستگاه|  492|\n",
            "|  گرفتم|  491|\n",
            "|   دارم|  489|\n",
            "|   ساعت|  464|\n",
            "|   حتما|  464|\n",
            "| دوستان|  455|\n",
            "|    ماه|  454|\n",
            "|    مدل|  453|\n",
            "|    رنگ|  444|\n",
            "|   الان|  440|\n",
            "|  راضیم|  428|\n",
            "|   ارزش|  413|\n",
            "|    جنس|  408|\n",
            "|   میده|  381|\n",
            "|  نمیشه|  381|\n",
            "|   بازی|  378|\n",
            "|    کنه|  374|\n",
            "|   هستش|  367|\n",
            "|    سال|  366|\n",
            "|   هستم|  352|\n",
            "|    دست|  346|\n",
            "|   مشکل|  330|\n",
            "|  بخرید|  323|\n",
            "|  خوبیه|  323|\n",
            "|   دستم|  322|\n",
            "|   راحت|  315|\n",
            "|    نمی|  313|\n",
            "|    بشه|  312|\n",
            "|    بگم|  303|\n",
            "|   توجه|  293|\n",
            "| دوربین|  291|\n",
            "|   شگفت|  290|\n",
            "| العاده|  283|\n",
            "|   صفحه|  280|\n",
            "|   صدای|  278|\n",
            "|    صدا|  274|\n",
            "|   بسته|  274|\n",
            "|  باهاش|  273|\n",
            "|  انگیز|  261|\n",
            "|  داشتم|  261|\n",
            "|  مشکلی|  257|\n",
            "|    نصب|  256|\n",
            "|   سرعت|  253|\n",
            "|     بد|  253|\n",
            "|     آب|  250|\n",
            "|   زیبا|  239|\n",
            "|  ماشین|  236|\n",
            "|   دادم|  235|\n",
            "|   نظرم|  235|\n",
            "|  ممنون|  233|\n",
            "|   خودم|  232|\n",
            "|   خراب|  231|\n",
            "|  پایین|  228|\n",
            "|    عکس|  226|\n",
            "|   داخل|  226|\n",
            "|  باتری|  222|\n",
            "|    کلا|  220|\n",
            "|  طراحی|  220|\n",
            "|  خریدش|  219|\n",
            "|   ساخت|  217|\n",
            "|   حالت|  215|\n",
            "| اندازه|  215|\n",
            "|   صورت|  214|\n",
            "|   روشن|  214|\n",
            "|   اینه|  211|\n",
            "|    نرم|  211|\n",
            "| نمیکنه|  206|\n",
            "|   برند|  202|\n",
            "|   موقع|  198|\n",
            "|   بودم|  198|\n",
            "| تقریبا|  197|\n",
            "|    سری|  196|\n",
            "|   کابل|  195|\n",
            "|  سفارش|  193|\n",
            "|   هفته|  190|\n",
            "+-------+-----+\n",
            "only showing top 100 rows\n",
            "\n"
          ]
        }
      ],
      "source": [
        "df_res.withColumn('word', F.explode(F.split(F.col('comment'), ' ')))\\\n",
        "    .groupBy('word')\\\n",
        "    .count()\\\n",
        "    .sort('count', ascending=False)\\\n",
        "    .show(100)"
      ]
    },
    {
      "cell_type": "code",
      "execution_count": 27,
      "metadata": {
        "id": "E4sLCB_7EsYB"
      },
      "outputs": [],
      "source": [
        ""
      ]
    },
    {
      "cell_type": "code",
      "execution_count": 27,
      "metadata": {
        "id": "8BoiT332blBM"
      },
      "outputs": [],
      "source": [
        ""
      ]
    },
    {
      "cell_type": "code",
      "execution_count": 35,
      "metadata": {
        "id": "3QvdO5gh7IM5"
      },
      "outputs": [],
      "source": [
        "def tokenize(input_text):\n",
        "  try:\n",
        "    lemmatizer = Lemmatizer()\n",
        "    token_text = word_tokenize(input_text)\n",
        "    token_text_final = [lemmatizer.lemmatize(t) for t in token_text]\n",
        "    token_text_final = list(set(token_text_final))\n",
        "    return ','.join(token_text_final)\n",
        "  except:\n",
        "    return None"
      ]
    },
    {
      "cell_type": "code",
      "source": [
        "tokenize('سلام من خوبم تو خوبی؟')"
      ],
      "metadata": {
        "colab": {
          "base_uri": "https://localhost:8080/",
          "height": 54
        },
        "id": "n3qf0rggmfnG",
        "outputId": "02240e3a-f017-43ae-b210-4c374ba6a936"
      },
      "execution_count": 34,
      "outputs": [
        {
          "output_type": "stream",
          "name": "stdout",
          "text": [
            "<class 'list'>\n"
          ]
        },
        {
          "output_type": "execute_result",
          "data": {
            "text/plain": [
              "'سلام,من,خوب,تو,خوبی,؟'"
            ],
            "application/vnd.google.colaboratory.intrinsic+json": {
              "type": "string"
            }
          },
          "metadata": {},
          "execution_count": 34
        }
      ]
    },
    {
      "cell_type": "code",
      "source": [
        "comment_tokenization = udf(lambda z: tokenize(z))\n",
        "df_tokenize = df_res.select(col(\"product_id\"),comment_tokenization(col(\"comment\")).alias(\"comment\") ) \n",
        "df_tokenize.show(20)"
      ],
      "metadata": {
        "colab": {
          "base_uri": "https://localhost:8080/"
        },
        "id": "geolRcHWmOmN",
        "outputId": "fd3bc0a6-5a08-4781-c3bb-e7b86e0123b3"
      },
      "execution_count": 36,
      "outputs": [
        {
          "output_type": "stream",
          "name": "stdout",
          "text": [
            "+----------+--------------------+\n",
            "|product_id|             comment|\n",
            "+----------+--------------------+\n",
            "|      3692|   راضیم,واقعا,عالیه|\n",
            "|     90213|هوشمند,همزمان,همس...|\n",
            "|     59473|فلز,ساده,گیره,بلا...|\n",
            "|    120499|هدفون,متداول,فلز,...|\n",
            "|     67200|سریع,ضخامت,راحت,آ...|\n",
            "|    133722|قبل,تحقیق,داشت#دا...|\n",
            "|    148509|مقایسه,بالاتره,شک...|\n",
            "|     56871|بو,خوشبو,چقدر,میش...|\n",
            "|     49738|دکمه,ماشین,حالت,ب...|\n",
            "|    161548|            بودممنون|\n",
            "|      5107|عنوان,آپ,دسکتاپ,ا...|\n",
            "|    156041|ماشین,کارکرد,معمو...|\n",
            "|    134367|کالا,ازدست,لطفا,و...|\n",
            "|    114006|راضی,واقعا,کالا,پ...|\n",
            "|    151402|برآورده,غیرقابل,ا...|\n",
            "|    146879|گرم,کن,یکم,قدرت,ز...|\n",
            "|     81254|برد#بر,راضی,ازین,...|\n",
            "|     26368| راضی,دارمش,الان,سال|\n",
            "|     90894|پاره,داشت#دار,میر...|\n",
            "|     21340|راضی,مناسبه,قیمت,...|\n",
            "+----------+--------------------+\n",
            "only showing top 20 rows\n",
            "\n"
          ]
        }
      ]
    },
    {
      "cell_type": "code",
      "execution_count": 37,
      "metadata": {
        "colab": {
          "base_uri": "https://localhost:8080/"
        },
        "id": "sSEDw6hbIE7H",
        "outputId": "e7d6fd80-11a5-416f-8faf-e5c82bbeb14b"
      },
      "outputs": [
        {
          "output_type": "stream",
          "name": "stdout",
          "text": [
            "root\n",
            " |-- commentArray: array (nullable = true)\n",
            " |    |-- element: string (containsNull = true)\n",
            "\n",
            "+--------------------+\n",
            "|        commentArray|\n",
            "+--------------------+\n",
            "|[راضیم, واقعا, عا...|\n",
            "|[هوشمند, همزمان, ...|\n",
            "|[فلز, ساده, گیره,...|\n",
            "|[هدفون, متداول, ف...|\n",
            "|[سریع, ضخامت, راح...|\n",
            "|[قبل, تحقیق, داشت...|\n",
            "|[مقایسه, بالاتره,...|\n",
            "|[بو, خوشبو, چقدر,...|\n",
            "|[دکمه, ماشین, حال...|\n",
            "|          [بودممنون]|\n",
            "|[عنوان, آپ, دسکتا...|\n",
            "|[ماشین, کارکرد, م...|\n",
            "|[کالا, ازدست, لطف...|\n",
            "|[راضی, واقعا, کال...|\n",
            "|[برآورده, غیرقابل...|\n",
            "|[گرم, کن, یکم, قد...|\n",
            "|[برد#بر, راضی, از...|\n",
            "|[راضی, دارمش, الا...|\n",
            "|[پاره, داشت#دار, ...|\n",
            "|[راضی, مناسبه, قی...|\n",
            "+--------------------+\n",
            "only showing top 20 rows\n",
            "\n"
          ]
        }
      ],
      "source": [
        "from pyspark.sql.functions import split, col\n",
        "df2 = df_tokenize.select(split(col(\"comment\"),\",\").alias(\"commentArray\")) \\\n",
        "    .drop(\"comment\")\n",
        "df2.printSchema()\n",
        "df2.show()"
      ]
    },
    {
      "cell_type": "code",
      "execution_count": 30,
      "metadata": {
        "colab": {
          "base_uri": "https://localhost:8080/"
        },
        "id": "v4cwyZOQHOh2",
        "outputId": "796f1614-200a-4430-baa6-205080a87df9"
      },
      "outputs": [
        {
          "output_type": "execute_result",
          "data": {
            "text/plain": [
              "<bound method DataFrame.printSchema of DataFrame[product_id: string, comment: string]>"
            ]
          },
          "metadata": {},
          "execution_count": 30
        }
      ],
      "source": [
        "df_tokenize.printSchema"
      ]
    },
    {
      "cell_type": "code",
      "execution_count": 39,
      "metadata": {
        "colab": {
          "base_uri": "https://localhost:8080/",
          "height": 90
        },
        "id": "WBqPVsEZE1VM",
        "outputId": "13a45a72-a484-4b3b-aaec-0fb1d2519e84"
      },
      "outputs": [
        {
          "output_type": "execute_result",
          "data": {
            "text/plain": [
              "'\\nfrom pyspark.ml.fpm import FPGrowth\\n\\ndf_f = spark.createDataFrame([\\n    (0, [1, 2, 5]),\\n    (1, [1, 2, 3, 5]),\\n    (2, [1, 2])\\n], [\"id\", \"items\"])\\n\\nfpGrowth = FPGrowth(itemsCol=\"commentArray\", minSupport=0.5, minConfidence=0.6)\\nmodel = fpGrowth.fit(df2)\\n\\n# Display frequent itemsets.\\nmodel.freqItemsets.show()\\n\\n# Display generated association rules.\\nmodel.associationRules.show()\\n\\n# transform examines the input items against all the association rules and summarize the\\n# consequents as prediction\\nmodel.transform(df_tokenize).show()\\n'"
            ],
            "application/vnd.google.colaboratory.intrinsic+json": {
              "type": "string"
            }
          },
          "metadata": {},
          "execution_count": 39
        }
      ],
      "source": [
        "'''\n",
        "from pyspark.ml.fpm import FPGrowth\n",
        "\n",
        "df_f = spark.createDataFrame([\n",
        "    (0, [1, 2, 5]),\n",
        "    (1, [1, 2, 3, 5]),\n",
        "    (2, [1, 2])\n",
        "], [\"id\", \"items\"])\n",
        "\n",
        "fpGrowth = FPGrowth(itemsCol=\"commentArray\", minSupport=0.5, minConfidence=0.6)\n",
        "model = fpGrowth.fit(df2)\n",
        "\n",
        "# Display frequent itemsets.\n",
        "model.freqItemsets.show()\n",
        "\n",
        "# Display generated association rules.\n",
        "model.associationRules.show()\n",
        "\n",
        "# transform examines the input items against all the association rules and summarize the\n",
        "# consequents as prediction\n",
        "model.transform(df_tokenize).show()\n",
        "'''"
      ]
    },
    {
      "cell_type": "markdown",
      "source": [
        "### Q5"
      ],
      "metadata": {
        "id": "E4sjbkd6-Ueb"
      }
    },
    {
      "cell_type": "code",
      "source": [
        "\n",
        "from collections import defaultdict\n",
        "class Graph:\n",
        "\n",
        "  def __init__(self):\n",
        "    self.graph = defaultdict(list)\n",
        "\n",
        "  def add_edge(self,u,v):\n",
        "    self.graph[u].append(v)\n",
        "\n",
        "  def BFS(self, n):\n",
        "    visited_node =  [0 for i in range(len(self.graph))]\n",
        "    queue = []\n",
        "    queue.append(n)\n",
        "    visited_node[n] = 1\n",
        "    while queue:\n",
        "      node = queue.pop(0)\n",
        "      print (node, end = \"--->\")\n",
        "      for n in self.graph[node]:\n",
        "        if visited_node[n] == 0:\n",
        "          queue.append(n)\n",
        "          visited_node[n] = 1"
      ],
      "metadata": {
        "colab": {
          "base_uri": "https://localhost:8080/"
        },
        "id": "A-bltSI8-S2g",
        "outputId": "17a7b42b-177f-4b78-df39-c6b96eedb0d2"
      },
      "execution_count": 52,
      "outputs": [
        {
          "output_type": "stream",
          "name": "stdout",
          "text": [
            "Following is Breadth First Traversal (starting from vertex 2)\n",
            "2--->0--->3--->1--->"
          ]
        }
      ]
    },
    {
      "cell_type": "code",
      "execution_count": 42,
      "metadata": {
        "id": "fgPAeu7KFfbU"
      },
      "outputs": [],
      "source": [
        "g = Graph()\n",
        "g.add_edge(0, 1)\n",
        "g.add_edge(0, 2)\n",
        "g.add_edge(1, 2)\n",
        "g.add_edge(2, 0)\n",
        "g.add_edge(2, 3)\n",
        "g.add_edge(3, 3)\n",
        "\n",
        "print (\"Following is Breadth First Traversal\"\n",
        "\t\t\t\t\" (starting from vertex 2)\")\n",
        "g.BFS(2)\n"
      ]
    },
    {
      "cell_type": "code",
      "execution_count": 43,
      "metadata": {
        "id": "RFYcYcohGMax",
        "colab": {
          "base_uri": "https://localhost:8080/"
        },
        "outputId": "d10ae3bb-b372-46a3-ff0c-6f2013511297"
      },
      "outputs": [
        {
          "output_type": "execute_result",
          "data": {
            "text/plain": [
              "[False, False, False, False]"
            ]
          },
          "metadata": {},
          "execution_count": 43
        }
      ],
      "source": [
        "visited"
      ]
    },
    {
      "cell_type": "code",
      "execution_count": null,
      "metadata": {
        "id": "0nR3p7Aj8XTA"
      },
      "outputs": [],
      "source": [
        "df_tokenize.show(truncate=False)"
      ]
    },
    {
      "cell_type": "code",
      "execution_count": null,
      "metadata": {
        "id": "SIYdlnAn6TUq"
      },
      "outputs": [],
      "source": [
        ""
      ]
    },
    {
      "cell_type": "markdown",
      "metadata": {
        "id": "Zo2yLTDECihs"
      },
      "source": [
        "### Q4"
      ]
    },
    {
      "cell_type": "code",
      "execution_count": null,
      "metadata": {
        "id": "v9mSnzTMCj7G"
      },
      "outputs": [],
      "source": [
        "\n",
        "pdf = pd.read_csv(\"https://raw.githubusercontent.com/SajjadMb/PySpark-walkthrough/main/data/digikala_comments.csv\")\n",
        "selected = pdf.comment\n",
        "df = pd.DataFrame(selected)\n",
        "\n",
        "df"
      ]
    },
    {
      "cell_type": "code",
      "execution_count": null,
      "metadata": {
        "id": "7XDRnopvH9Pi"
      },
      "outputs": [],
      "source": [
        "from pyspark.sql.types import *\n",
        "from pyspark.sql import SQLContext\n",
        "sqlContext = SQLContext(sc)\n",
        "\n",
        "\n",
        "# Auxiliar functions\n",
        "def equivalent_type(f):\n",
        "    if f == 'datetime64[ns]': return TimestampType()\n",
        "    elif f == 'int64': return LongType()\n",
        "    elif f == 'int32': return IntegerType()\n",
        "    elif f == 'float64': return FloatType()\n",
        "    else: return StringType()\n",
        "\n",
        "def define_structure(string, format_type):\n",
        "    try: typo = equivalent_type(format_type)\n",
        "    except: typo = StringType()\n",
        "    return StructField(string, typo)\n",
        "\n",
        "# Given pandas dataframe, it will return a spark's dataframe.\n",
        "def pandas_to_spark(pandas_df):\n",
        "    columns = list(pandas_df.columns)\n",
        "    types = list(pandas_df.dtypes)\n",
        "    struct_list = []\n",
        "    for column, typo in zip(columns, types): \n",
        "      struct_list.append(define_structure(column, typo))\n",
        "    p_schema = StructType(struct_list)\n",
        "    return sqlContext.createDataFrame(pandas_df, p_schema)"
      ]
    },
    {
      "cell_type": "code",
      "execution_count": null,
      "metadata": {
        "id": "L1VjPJRSIgVc"
      },
      "outputs": [],
      "source": [
        "res=pandas_to_spark(pdf)"
      ]
    },
    {
      "cell_type": "code",
      "execution_count": null,
      "metadata": {
        "id": "eOoHEZv4POjK"
      },
      "outputs": [],
      "source": [
        ""
      ]
    },
    {
      "cell_type": "code",
      "execution_count": null,
      "metadata": {
        "id": "U1X4nN95GKed"
      },
      "outputs": [],
      "source": [
        "res.show()\n",
        "\n"
      ]
    },
    {
      "cell_type": "code",
      "execution_count": null,
      "metadata": {
        "id": "vh7IfGmTbuJZ"
      },
      "outputs": [],
      "source": [
        "res.printSchema"
      ]
    },
    {
      "cell_type": "code",
      "execution_count": null,
      "metadata": {
        "id": "aDBvL2t_Korc"
      },
      "outputs": [],
      "source": [
        "comment = pandas_to_spark(df)\n",
        "comment.show()\n",
        "print(comment.collect()[1])"
      ]
    },
    {
      "cell_type": "code",
      "execution_count": null,
      "metadata": {
        "id": "CRBxQhPZT4XJ"
      },
      "outputs": [],
      "source": [
        "from hazm import *\n",
        "from pyspark.sql.functions import udf\n",
        "from pyspark.sql.functions import col\n",
        "\n",
        "normalizer = Normalizer()\n",
        "def normalize(text):\n",
        "  normalized = normalizer.normalize(text)\n",
        "  return normalized\n",
        "s = ' اگر هر کابل دیگه ای وصل کنیدی'\n",
        "a = normalize(s)\n",
        "print(s)\n",
        "print(a)\n",
        "\n",
        "convertUDF = udf(lambda z: normalize(z)) \n",
        "\n",
        "normal_res = res.select(col(\"product_id\"), \\\n",
        "    convertUDF(col(\"comment\")).alias(\"comment\") ) \\\n",
        "   .show(truncate=False)\n"
      ]
    },
    {
      "cell_type": "code",
      "execution_count": null,
      "metadata": {
        "id": "DrFGGiu6XFWK"
      },
      "outputs": [],
      "source": [
        "print(normal_res.collect()[5])\n",
        "print(comment.collect()[5])"
      ]
    }
  ],
  "metadata": {
    "colab": {
      "name": "pySpark.ipynb",
      "provenance": [],
      "authorship_tag": "ABX9TyNiaG6FawP8UJIEqEG8QrHy",
      "include_colab_link": true
    },
    "kernelspec": {
      "display_name": "Python 3",
      "name": "python3"
    },
    "language_info": {
      "name": "python"
    }
  },
  "nbformat": 4,
  "nbformat_minor": 0
}