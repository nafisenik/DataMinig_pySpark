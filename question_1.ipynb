{
  "nbformat": 4,
  "nbformat_minor": 0,
  "metadata": {
    "colab": {
      "name": "question_1.ipynb",
      "provenance": [],
      "authorship_tag": "ABX9TyOCEIUPdJoqKxJhABccfAXK",
      "include_colab_link": true
    },
    "kernelspec": {
      "name": "python3",
      "display_name": "Python 3"
    },
    "language_info": {
      "name": "python"
    }
  },
  "cells": [
    {
      "cell_type": "markdown",
      "metadata": {
        "id": "view-in-github",
        "colab_type": "text"
      },
      "source": [
        "<a href=\"https://colab.research.google.com/github/nafisenik/DataMinig_pySpark/blob/main/question_1.ipynb\" target=\"_parent\"><img src=\"https://colab.research.google.com/assets/colab-badge.svg\" alt=\"Open In Colab\"/></a>"
      ]
    },
    {
      "cell_type": "markdown",
      "source": [
        "### Question 1"
      ],
      "metadata": {
        "id": "5nzevFtFvB9-"
      }
    },
    {
      "cell_type": "markdown",
      "source": [
        "### Install pySpark"
      ],
      "metadata": {
        "id": "R_ZPin73vJZe"
      }
    },
    {
      "cell_type": "code",
      "source": [
        "! pip install -q pyspark"
      ],
      "metadata": {
        "colab": {
          "base_uri": "https://localhost:8080/"
        },
        "id": "9r3BFvnOvEA4",
        "outputId": "7d4b500a-021b-4613-d1d1-eefa23afa6ab"
      },
      "execution_count": 1,
      "outputs": [
        {
          "output_type": "stream",
          "name": "stdout",
          "text": [
            "\u001b[K     |████████████████████████████████| 281.4 MB 36 kB/s \n",
            "\u001b[K     |████████████████████████████████| 198 kB 46.2 MB/s \n",
            "\u001b[?25h  Building wheel for pyspark (setup.py) ... \u001b[?25l\u001b[?25hdone\n"
          ]
        }
      ]
    },
    {
      "cell_type": "markdown",
      "source": [
        "### Install JDK and hadoop"
      ],
      "metadata": {
        "id": "y9XHrng4vQpw"
      }
    },
    {
      "cell_type": "code",
      "source": [
        "! apt-get install openjdk-8-jdk-headless -qq > /dev/null\n",
        "! wget -q https://dlcdn.apache.org/spark/spark-3.2.1/spark-3.2.1-bin-hadoop3.2.tgz\n",
        "! tar xf spark-3.2.1-bin-hadoop3.2.tgz"
      ],
      "metadata": {
        "id": "WIDGjxaWvIeC"
      },
      "execution_count": 2,
      "outputs": []
    },
    {
      "cell_type": "markdown",
      "source": [
        "### Create Environment"
      ],
      "metadata": {
        "id": "FRbQPNnQvaiB"
      }
    },
    {
      "cell_type": "code",
      "source": [
        "import os\n",
        "os.environ[\"JAVA_HOME\"] = \"/usr/lib/jvm/java-8-openjdk-amd64\"\n",
        "os.environ[\"SPARK_HOME\"] = \"/content/spark-3.2.1-bin-hadoop3.2\""
      ],
      "metadata": {
        "id": "mZmr6pYBvoM6"
      },
      "execution_count": 3,
      "outputs": []
    },
    {
      "cell_type": "markdown",
      "source": [
        "### install findspark"
      ],
      "metadata": {
        "id": "ifZzYzgXvx-m"
      }
    },
    {
      "cell_type": "code",
      "source": [
        "! pip install -q findspark"
      ],
      "metadata": {
        "id": "a9XtLeAjvwKt"
      },
      "execution_count": 4,
      "outputs": []
    },
    {
      "cell_type": "markdown",
      "source": [
        "### Check our installation"
      ],
      "metadata": {
        "id": "zRNwhvjzv8YS"
      }
    },
    {
      "cell_type": "code",
      "source": [
        "import findspark\n",
        "findspark.init()\n",
        "findspark.find()"
      ],
      "metadata": {
        "colab": {
          "base_uri": "https://localhost:8080/",
          "height": 36
        },
        "id": "JsGJRht9v6pd",
        "outputId": "ea45be82-088f-4ec9-a477-0ee246474597"
      },
      "execution_count": 5,
      "outputs": [
        {
          "output_type": "execute_result",
          "data": {
            "text/plain": [
              "'/content/spark-3.2.1-bin-hadoop3.2'"
            ],
            "application/vnd.google.colaboratory.intrinsic+json": {
              "type": "string"
            }
          },
          "metadata": {},
          "execution_count": 5
        }
      ]
    },
    {
      "cell_type": "markdown",
      "source": [
        "### Print version"
      ],
      "metadata": {
        "id": "fPzvp4iPw_vJ"
      }
    },
    {
      "cell_type": "code",
      "source": [
        "import pyspark as py\n",
        "print(py.__version__)"
      ],
      "metadata": {
        "colab": {
          "base_uri": "https://localhost:8080/"
        },
        "id": "jzrBuBqyxDAN",
        "outputId": "2182b488-6ce7-41cb-fd98-7a53b8f7ebd4"
      },
      "execution_count": 6,
      "outputs": [
        {
          "output_type": "stream",
          "name": "stdout",
          "text": [
            "3.2.1\n"
          ]
        }
      ]
    }
  ]
}