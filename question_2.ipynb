{
  "nbformat": 4,
  "nbformat_minor": 0,
  "metadata": {
    "colab": {
      "name": "question_2.ipynb",
      "provenance": [],
      "authorship_tag": "ABX9TyM8LotpOXW+AGDNW1lC3zHo",
      "include_colab_link": true
    },
    "kernelspec": {
      "name": "python3",
      "display_name": "Python 3"
    },
    "language_info": {
      "name": "python"
    }
  },
  "cells": [
    {
      "cell_type": "markdown",
      "metadata": {
        "id": "view-in-github",
        "colab_type": "text"
      },
      "source": [
        "<a href=\"https://colab.research.google.com/github/nafisenik/DataMinig_pySpark/blob/main/question_2.ipynb\" target=\"_parent\"><img src=\"https://colab.research.google.com/assets/colab-badge.svg\" alt=\"Open In Colab\"/></a>"
      ]
    },
    {
      "cell_type": "markdown",
      "source": [
        "### Question 2"
      ],
      "metadata": {
        "id": "tndtzLioyUVD"
      }
    },
    {
      "cell_type": "markdown",
      "source": [
        "### install pySpark"
      ],
      "metadata": {
        "id": "rxm3rWZ81pq_"
      }
    },
    {
      "cell_type": "code",
      "source": [
        "! pip install -q pyspark"
      ],
      "metadata": {
        "id": "seQ7dWd9yXb1"
      },
      "execution_count": 1,
      "outputs": []
    },
    {
      "cell_type": "code",
      "source": [
        "! apt-get install openjdk-8-jdk-headless -qq > /dev/null\n",
        "! wget -q https://dlcdn.apache.org/spark/spark-3.2.1/spark-3.2.1-bin-hadoop3.2.tgz\n",
        "! tar xf spark-3.2.1-bin-hadoop3.2.tgz"
      ],
      "metadata": {
        "id": "DDWusqjZ1xxQ"
      },
      "execution_count": 2,
      "outputs": []
    },
    {
      "cell_type": "markdown",
      "source": [
        "### Import Libraries"
      ],
      "metadata": {
        "id": "7PBV59wd198C"
      }
    },
    {
      "cell_type": "code",
      "source": [
        "import random\n",
        "import statistics\n",
        "import time\n",
        "import numpy as np\n",
        "from operator import add\n",
        "import matplotlib.pyplot as plt\n",
        "import math\n",
        "from pyspark.sql import SparkSession\n",
        "import pyspark.sql.functions as F"
      ],
      "metadata": {
        "id": "zcw_RVSa2BSQ"
      },
      "execution_count": 3,
      "outputs": []
    },
    {
      "cell_type": "markdown",
      "source": [
        "### Mont Carlo function (Q2 ---> a)"
      ],
      "metadata": {
        "id": "DycSNiUX2VfC"
      }
    },
    {
      "cell_type": "code",
      "source": [
        "def MC_pi_estimator(iteration):\n",
        "  circle_point = 0\n",
        "  total_point = 0\n",
        "  p_list =[]\n",
        "  hit = 0\n",
        "  start_time = time.time()\n",
        "  for i in range(iteration):\n",
        "    x, y = random.uniform(-1, 1), random.uniform(-1, 1)   \n",
        "    if x**2 + y**2 < 1:\n",
        "      circle_point += 1\n",
        "    total_point += 1\n",
        "    pi_num = 4.0 * circle_point / total_point\n",
        "    p_list.append(pi_num)\n",
        "  end = time.time()\n",
        "  t = end - start_time\n",
        "  return p_list, t, pi_num"
      ],
      "metadata": {
        "id": "Q6lF8tRm2OjX"
      },
      "execution_count": 4,
      "outputs": []
    },
    {
      "cell_type": "markdown",
      "source": [
        "### Calculate Mean and Variance"
      ],
      "metadata": {
        "id": "Wq9eZG8a2xp2"
      }
    },
    {
      "cell_type": "code",
      "source": [
        "ITERATION = 1000000\n",
        "pi_list ,time_ex, pi_est = MC_pi_estimator(ITERATION)\n",
        "pi_mean = statistics.mean(pi_list)\n",
        "pi_variance = statistics.variance(pi_list)\n",
        "print(f'Mean of P estimate: {pi_mean}')\n",
        "print(f'Variance of P estimate: {pi_variance}')\n",
        "print(f'Time of P estimate: {time_ex}')"
      ],
      "metadata": {
        "colab": {
          "base_uri": "https://localhost:8080/"
        },
        "id": "I8Rnqgqu20f2",
        "outputId": "6688d6b2-1cad-4608-bd3a-d85e905576f5"
      },
      "execution_count": 5,
      "outputs": [
        {
          "output_type": "stream",
          "name": "stdout",
          "text": [
            "Mean of P estimate: 3.138242171983195\n",
            "Variance of P estimate: 5.5341696626436486e-05\n",
            "Time of P estimate: 1.9293763637542725\n"
          ]
        }
      ]
    },
    {
      "cell_type": "markdown",
      "source": [
        "### Mont Carlo with pySpark"
      ],
      "metadata": {
        "id": "Q98dOTpl4CBn"
      }
    },
    {
      "cell_type": "code",
      "source": [
        "def is_inside(p):\n",
        "  x, y = random.uniform(-1, 1), random.uniform(-1, 1)\n",
        "  if x**2 + y**2 < 1 :\n",
        "    inside = True\n",
        "  else:\n",
        "    inside = False\n",
        "  return inside"
      ],
      "metadata": {
        "id": "fSBCtl1j4BFr"
      },
      "execution_count": 6,
      "outputs": []
    },
    {
      "cell_type": "code",
      "source": [
        "def MC_pi_spark(iteration):\n",
        "  spark = SparkSession.builder.appName('Pi').getOrCreate()\n",
        "  sc = spark.sparkContext\n",
        "  start_time = time.time()\n",
        "  hit = sc.parallelize(range(0, iteration), 2) \\\n",
        "      .map(is_inside).reduce(add)\n",
        "  pi = 4.0 * hit / iteration\n",
        "  t = time.time() - start_time\n",
        "  spark.stop()\n",
        "  return pi, t"
      ],
      "metadata": {
        "id": "ora0n_7t4ZI0"
      },
      "execution_count": 7,
      "outputs": []
    },
    {
      "cell_type": "markdown",
      "source": [
        "### Compare Time and Pi value of two diffrent functions"
      ],
      "metadata": {
        "id": "aBDhPMk-4pQY"
      }
    },
    {
      "cell_type": "code",
      "source": [
        "iteration_num = [100, 1000, 10000, 100000, 1000000, 10000000]\n",
        "\n",
        "time_simple_MC = []\n",
        "time_spark_MC = []\n",
        "\n",
        "for i in iteration_num:\n",
        "    print('--------Mont Carlo Pi Estimator Without PySparl--------')\n",
        "    pi_l, t, res = MC_pi_estimator(i)\n",
        "    print(f'Number of Itration: {i}')\n",
        "    print(f'Pi = : {res}')\n",
        "    print(f'Time of computation: {t} seconds')\n",
        "    time_simple_MC.append(t)\n",
        "    \n",
        "    print('--------Mont Carlo Pi Estimator with PySpark--------')   \n",
        "    res, t = MC_pi_spark(i)\n",
        "    print(f'Number of Itration: {i}')\n",
        "    print(f'Pi = : {res}')\n",
        "    print(f'Time of computation: {t} seconds')\n",
        "    time_spark_MC.append(t)   \n",
        "plt.figure(1)\n",
        "plt.plot(iteration_num, time_simple_MC, label=\"Simple Mont Carlo\")\n",
        "plt.plot(iteration_num, time_spark_MC, label=\"Spark Mont Carlo\")\n",
        "\n",
        "plt.xscale(\"log\")\n",
        "plt.xlabel(\"Number of points\")\n",
        "plt.ylabel(\"Time\")\n",
        "plt.legend()\n",
        "plt.show()"
      ],
      "metadata": {
        "colab": {
          "base_uri": "https://localhost:8080/",
          "height": 1000
        },
        "id": "1pnPbRTS4x_2",
        "outputId": "6ad34f3d-f55e-4b58-d329-216f3e1a6c6a"
      },
      "execution_count": 8,
      "outputs": [
        {
          "output_type": "stream",
          "name": "stdout",
          "text": [
            "--------Mont Carlo Pi Estimator Without PySparl--------\n",
            "Number of Itration: 100\n",
            "Pi = : 3.12\n",
            "Time of computation: 0.00021982192993164062 seconds\n",
            "--------Mont Carlo Pi Estimator with PySpark--------\n",
            "Number of Itration: 100\n",
            "Pi = : 3.2\n",
            "Time of computation: 2.1433451175689697 seconds\n",
            "--------Mont Carlo Pi Estimator Without PySparl--------\n",
            "Number of Itration: 1000\n",
            "Pi = : 3.2\n",
            "Time of computation: 0.0021991729736328125 seconds\n",
            "--------Mont Carlo Pi Estimator with PySpark--------\n",
            "Number of Itration: 1000\n",
            "Pi = : 3.132\n",
            "Time of computation: 0.8832366466522217 seconds\n",
            "--------Mont Carlo Pi Estimator Without PySparl--------\n",
            "Number of Itration: 10000\n",
            "Pi = : 3.1296\n",
            "Time of computation: 0.012678384780883789 seconds\n",
            "--------Mont Carlo Pi Estimator with PySpark--------\n",
            "Number of Itration: 10000\n",
            "Pi = : 3.1572\n",
            "Time of computation: 0.9083907604217529 seconds\n",
            "--------Mont Carlo Pi Estimator Without PySparl--------\n",
            "Number of Itration: 100000\n",
            "Pi = : 3.13648\n",
            "Time of computation: 0.11803126335144043 seconds\n",
            "--------Mont Carlo Pi Estimator with PySpark--------\n",
            "Number of Itration: 100000\n",
            "Pi = : 3.13808\n",
            "Time of computation: 0.987227201461792 seconds\n",
            "--------Mont Carlo Pi Estimator Without PySparl--------\n",
            "Number of Itration: 1000000\n",
            "Pi = : 3.142928\n",
            "Time of computation: 1.1497418880462646 seconds\n",
            "--------Mont Carlo Pi Estimator with PySpark--------\n",
            "Number of Itration: 1000000\n",
            "Pi = : 3.140556\n",
            "Time of computation: 2.062136173248291 seconds\n",
            "--------Mont Carlo Pi Estimator Without PySparl--------\n",
            "Number of Itration: 10000000\n",
            "Pi = : 3.1421144\n",
            "Time of computation: 11.4713876247406 seconds\n",
            "--------Mont Carlo Pi Estimator with PySpark--------\n",
            "Number of Itration: 10000000\n",
            "Pi = : 3.1408036\n",
            "Time of computation: 14.468372344970703 seconds\n"
          ]
        },
        {
          "output_type": "display_data",
          "data": {
            "text/plain": [
              "<Figure size 432x288 with 1 Axes>"
            ],
            "image/png": "[encoded data removed]"
          },
          "metadata": {
            "needs_background": "light"
          }
        }
      ]
    }
  ]
}