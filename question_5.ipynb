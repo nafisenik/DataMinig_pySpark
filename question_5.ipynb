{
  "nbformat": 4,
  "nbformat_minor": 0,
  "metadata": {
    "colab": {
      "name": "question_5.ipynb",
      "provenance": [],
      "authorship_tag": "ABX9TyNqTlqWZ855h3SgRVf9ch/j",
      "include_colab_link": true
    },
    "kernelspec": {
      "name": "python3",
      "display_name": "Python 3"
    },
    "language_info": {
      "name": "python"
    }
  },
  "cells": [
    {
      "cell_type": "markdown",
      "metadata": {
        "id": "view-in-github",
        "colab_type": "text"
      },
      "source": [
        "<a href=\"https://colab.research.google.com/github/nafisenik/DataMinig_pySpark/blob/main/question_5.ipynb\" target=\"_parent\"><img src=\"https://colab.research.google.com/assets/colab-badge.svg\" alt=\"Open In Colab\"/></a>"
      ]
    },
    {
      "cell_type": "markdown",
      "source": [
        "### Question 5"
      ],
      "metadata": {
        "id": "ANx_hr8C8CK_"
      }
    },
    {
      "cell_type": "code",
      "source": [
        "! pip install -q pyspark"
      ],
      "metadata": {
        "id": "Nwm220vrLE7u"
      },
      "execution_count": 1,
      "outputs": []
    },
    {
      "cell_type": "code",
      "source": [
        "! apt-get install openjdk-8-jdk-headless -qq > /dev/null\n",
        "! wget -q https://dlcdn.apache.org/spark/spark-3.2.1/spark-3.2.1-bin-hadoop3.2.tgz\n",
        "! tar xf spark-3.2.1-bin-hadoop3.2.tgz"
      ],
      "metadata": {
        "id": "tm2oMbgaLMYW"
      },
      "execution_count": 2,
      "outputs": []
    },
    {
      "cell_type": "code",
      "source": [
        "from pyspark import SparkConf, SparkContext"
      ],
      "metadata": {
        "id": "WvckkK9QNLjw"
      },
      "execution_count": 3,
      "outputs": []
    },
    {
      "cell_type": "code",
      "source": [
        "conf = SparkConf().setMaster(\"local\").setAppName(\"DegreesOfSeparation\")\n",
        "sc = SparkContext(conf = conf)"
      ],
      "metadata": {
        "id": "1rurfGKALTKa"
      },
      "execution_count": 4,
      "outputs": []
    },
    {
      "cell_type": "markdown",
      "source": [
        "### BFS Search"
      ],
      "metadata": {
        "id": "dzcMBBPu8O_6"
      }
    },
    {
      "cell_type": "code",
      "execution_count": 5,
      "metadata": {
        "id": "rOjOc5bD79KB"
      },
      "outputs": [],
      "source": [
        "from collections import defaultdict\n",
        "class Graph:\n",
        "\n",
        "  def __init__(self):\n",
        "    self.graph = defaultdict(list)\n",
        "\n",
        "  def add_edge(self,u,v):\n",
        "    self.graph[u].append(v)\n",
        "\n",
        "  def BFS(self, n):\n",
        "    visited_node =  [0 for i in range(len(self.graph))]\n",
        "    queue = []\n",
        "    queue.append(n)\n",
        "    visited_node[n] = 1\n",
        "    while queue:\n",
        "      node = queue.pop(0)\n",
        "      print (node, end = \"--->\")\n",
        "      for n in self.graph[node]:\n",
        "        if visited_node[n] == 0:\n",
        "          queue.append(n)\n",
        "          visited_node[n] = 1"
      ]
    },
    {
      "cell_type": "markdown",
      "source": [
        "### Test BFS search"
      ],
      "metadata": {
        "id": "fOPSPTlx8WVS"
      }
    },
    {
      "cell_type": "code",
      "source": [
        "g = Graph()\n",
        "g.add_edge(0, 1)\n",
        "g.add_edge(0, 2)\n",
        "g.add_edge(1, 2)\n",
        "g.add_edge(2, 0)\n",
        "g.add_edge(2, 3)\n",
        "g.add_edge(3, 3)\n",
        "\n",
        "print (\"Following is Breadth First Traversal\"\n",
        "\t\t\t\t\" (starting from vertex 2)\")\n",
        "g.BFS(2)"
      ],
      "metadata": {
        "id": "zlNRwyY78U5k",
        "colab": {
          "base_uri": "https://localhost:8080/"
        },
        "outputId": "0dc7ca4d-3cd9-4019-caab-f2b02c335de7"
      },
      "execution_count": 6,
      "outputs": [
        {
          "output_type": "stream",
          "name": "stdout",
          "text": [
            "Following is Breadth First Traversal (starting from vertex 2)\n",
            "2--->0--->3--->1--->"
          ]
        }
      ]
    },
    {
      "cell_type": "code",
      "source": [
        "https://github.com/shakshimaheshwari/MostPopularSuperHeroAndDegreeofSeperation/tree/master/MostPopularSuperHero\n",
        "startCharacterID = 5306 #SpiderMan\n",
        "targetCharacterID = 14  #ADAM 3,031 (who?)\n",
        "hitCounter = sc.accumulator(0)\n",
        "\n",
        "def convertToBFS(line):\n",
        "\tfields = line.split()\n",
        "\tconnections = []\n",
        "\theroID = int(fields[0])\n",
        "\tfor connection in fields[1:]:\n",
        "\t\tconnections.append(int(connection))\n",
        "\tdistance = 9999 # infinity\n",
        "\tcolor = \"WHITE\"\n",
        "\tif (heroID == startCharacterID):\n",
        "\t\tcolor = \"GRAY\"\n",
        "\t\tdistance = 0\n",
        "\treturn (heroID, (connections, distance, color))\n",
        "\n",
        "def bfsMap(node):\n",
        "\n",
        "\theroID = node[0]\n",
        "\tconnections = node[1][0]\n",
        "\tdistance = node[1][1]\n",
        "\tcolor = node[1][2]\n",
        "\tresults = []\n",
        "\tif (color == \"GRAY\"):\n",
        "\t\tfor connection in connections:\n",
        "\t\t\tnewDistance = distance + 1\n",
        "\t\t\tif (connection == targetCharacterID):\n",
        "\t\t\t\thitCounter.add(1)\n",
        "\t\t\t\t\n",
        "\t\t\tresults.append( (connection, ([], newDistance, \"GRAY\") ) )\n",
        "\t\tcolor = \"BLACK\" # color 'Black' the processed node\n",
        "\t# Emit the input node so we don't lose it\n",
        "\tresults.append( (heroID, (connections, distance, color)) )\n",
        "\treturn results\n",
        "\n",
        "def bfsReduce(data1, data2):\n",
        "\tconnection1, connection2 = data1[0], data2[0]\n",
        "\tdistance1, distance2 = data1[1], data2[1]\n",
        "\tcolor1, color2 = data1[2], data2[2]\n",
        "\tedges, distance, color = [], 9999, color1\n",
        "\tif (len(connection1) > 0):\n",
        "\t\tedges.extend(connection1) #use extend b/c append all elements within list\n",
        "\n",
        "\tif (len(connection2) > 0):\n",
        "\t\tedges.extend(connection2)\n",
        "\n",
        "\t# Preserve the min distance\n",
        "\tif (distance > distance1):\n",
        "\t\tdistance = distance1\n",
        "\n",
        "\tif (distance > distance2):\n",
        "\t\tdistance = distance2\n",
        "\n",
        "\t# Preserve the darkest color\n",
        "\tif ( (color1 == 'WHITE') and (color2 == 'GRAY' or color2 == 'BLACK')):\n",
        "\t\tcolor = color2\n",
        "\n",
        "\tif ( (color1 == 'GRAY') and (color2 == 'BLACK') ):\n",
        "\t\tcolor = color2\n",
        "\n",
        "\tif ( (color2 == 'WHITE') and (color1 == 'GRAY' or color1 == 'BLACK')):\n",
        "\t\tcolor = color1\n",
        "\n",
        "\tif ( (color2 == 'GRAY') and (color1 == 'BLACK') ):\n",
        "\t\tcolor = color1\n",
        "\n",
        "\treturn (edges, distance, color)\n",
        "graph = sc.textFile(\"Marvel-graph.txt\")\n",
        "rdd = graph.map(convertToBFS)\n",
        "for iteration in range(10):\n",
        "\tprint(\"Running BFS iteration# \" + str(iteration+1))\n",
        "\tmapper = rdd.flatMap(bfsMap)\n",
        "\tprint(\"Processing \" + str(mapper.count()) + \"values\")\n",
        "\tif (hitCounter.value > 0):\n",
        "\t\tprint(\"Hit the target character! From \" + str(hitCounter.value)+ \"different directions.\")\n",
        "\t\tbreak\n",
        "\trdd = mapper.reduceByKey(bfsReduce)"
      ],
      "metadata": {
        "colab": {
          "base_uri": "https://localhost:8080/"
        },
        "id": "ufgREBabLWZn",
        "outputId": "47bb18f2-2a8d-4282-9ba4-214f7086c912"
      },
      "execution_count": 7,
      "outputs": [
        {
          "output_type": "stream",
          "name": "stdout",
          "text": [
            "Running BFS iteration# 1\n",
            "Processing 8330values\n",
            "Running BFS iteration# 2\n",
            "Processing 220615values\n",
            "Hit the target character! From 1different directions.\n"
          ]
        }
      ]
    },
    {
      "cell_type": "code",
      "source": [
        "def parseLine(text):\n",
        "    fields = text.split()\n",
        "    superheroId = int(fields[0])\n",
        "    return (superheroId, len(fields)-1)\n",
        "\n",
        "\n",
        "def parseNames(text):\n",
        "    fields = text.split('\\\"')\n",
        "    return (int(fields[0]), fields[1].encode(\"utf-8\"))\n",
        "\n",
        "input = sc.textFile(\"Marvel-graph.txt\")\n",
        "superHeroIds = input.map(parseLine)\n",
        "\n",
        "names = sc.textFile(\"Marvel-names.txt\")\n",
        "namesRdd = names.map(parseNames)\n",
        "\n",
        "totalCount = superHeroIds.reduceByKey(lambda x,y : x+y)\n",
        "flippedCount = totalCount.map(lambda item: (item[1], item[0]))\n",
        "mostPouplar= flippedCount.max()\n",
        "\n",
        "mostPopularName = namesRdd.lookup(mostPouplar[1])[0]\n",
        "print(str(mostPopularName) + \" is most popular superhero , with \" + str(mostPouplar[0]) + \" co-apperances\")"
      ],
      "metadata": {
        "colab": {
          "base_uri": "https://localhost:8080/"
        },
        "id": "Nfx614Unl6RH",
        "outputId": "9eb680e3-5d03-4528-b600-62c76f93d00e"
      },
      "execution_count": 8,
      "outputs": [
        {
          "output_type": "stream",
          "name": "stdout",
          "text": [
            "b'CAPTAIN AMERICA' is most popular superhero , with 1933 co-apperances\n"
          ]
        }
      ]
    }
  ]
}