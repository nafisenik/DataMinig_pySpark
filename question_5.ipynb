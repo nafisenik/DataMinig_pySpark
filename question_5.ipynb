{
  "nbformat": 4,
  "nbformat_minor": 0,
  "metadata": {
    "colab": {
      "name": "question_5.ipynb",
      "provenance": [],
      "authorship_tag": "ABX9TyMOJv+Pr+HA89w2PfqUlRQl",
      "include_colab_link": true
    },
    "kernelspec": {
      "name": "python3",
      "display_name": "Python 3"
    },
    "language_info": {
      "name": "python"
    }
  },
  "cells": [
    {
      "cell_type": "markdown",
      "metadata": {
        "id": "view-in-github",
        "colab_type": "text"
      },
      "source": [
        "<a href=\"https://colab.research.google.com/github/nafisenik/DataMinig_pySpark/blob/main/question_5.ipynb\" target=\"_parent\"><img src=\"https://colab.research.google.com/assets/colab-badge.svg\" alt=\"Open In Colab\"/></a>"
      ]
    },
    {
      "cell_type": "markdown",
      "source": [
        "### Question 5"
      ],
      "metadata": {
        "id": "ANx_hr8C8CK_"
      }
    },
    {
      "cell_type": "markdown",
      "source": [
        "### BFS Search"
      ],
      "metadata": {
        "id": "dzcMBBPu8O_6"
      }
    },
    {
      "cell_type": "code",
      "execution_count": null,
      "metadata": {
        "id": "rOjOc5bD79KB"
      },
      "outputs": [],
      "source": [
        "from collections import defaultdict\n",
        "class Graph:\n",
        "\n",
        "  def __init__(self):\n",
        "    self.graph = defaultdict(list)\n",
        "\n",
        "  def add_edge(self,u,v):\n",
        "    self.graph[u].append(v)\n",
        "\n",
        "  def BFS(self, n):\n",
        "    visited_node =  [0 for i in range(len(self.graph))]\n",
        "    queue = []\n",
        "    queue.append(n)\n",
        "    visited_node[n] = 1\n",
        "    while queue:\n",
        "      node = queue.pop(0)\n",
        "      print (node, end = \"--->\")\n",
        "      for n in self.graph[node]:\n",
        "        if visited_node[n] == 0:\n",
        "          queue.append(n)\n",
        "          visited_node[n] = 1"
      ]
    },
    {
      "cell_type": "markdown",
      "source": [
        "### Test BFS search"
      ],
      "metadata": {
        "id": "fOPSPTlx8WVS"
      }
    },
    {
      "cell_type": "code",
      "source": [
        "g = Graph()\n",
        "g.add_edge(0, 1)\n",
        "g.add_edge(0, 2)\n",
        "g.add_edge(1, 2)\n",
        "g.add_edge(2, 0)\n",
        "g.add_edge(2, 3)\n",
        "g.add_edge(3, 3)\n",
        "\n",
        "print (\"Following is Breadth First Traversal\"\n",
        "\t\t\t\t\" (starting from vertex 2)\")\n",
        "g.BFS(2)"
      ],
      "metadata": {
        "id": "zlNRwyY78U5k"
      },
      "execution_count": null,
      "outputs": []
    }
  ]
}